{
 "cells": [
  {
   "cell_type": "markdown",
   "metadata": {},
   "source": [
    "# Sparse graph based networks - some experiments for network type 1"
   ]
  },
  {
   "cell_type": "code",
   "execution_count": 1,
   "metadata": {},
   "outputs": [
    {
     "name": "stderr",
     "output_type": "stream",
     "text": [
      "C:\\Users\\Lukasz\\AppData\\Local\\conda\\conda\\envs\\aind\\lib\\site-packages\\h5py\\__init__.py:36: FutureWarning: Conversion of the second argument of issubdtype from `float` to `np.floating` is deprecated. In future, it will be treated as `np.float64 == np.dtype(float).type`.\n",
      "  from ._conv import register_converters as _register_converters\n"
     ]
    }
   ],
   "source": [
    "%load_ext autoreload\n",
    "%autoreload 2\n",
    "\n",
    "import numpy as np\n",
    "import pandas as pd\n",
    "import tensorflow as tf\n",
    "\n",
    "import matplotlib.pyplot as plt\n",
    "\n",
    "import graph_utils as graph_utils\n",
    "import graph_neural_networks as graph_nn\n",
    "import data_preparation_utils as data_prep\n",
    "from iterative_updaters import VanillaGradientDescent, MomentumGradientDescent, NesterovMomentumGradientDescent, RMSPropGradientDescent, AdamGradientDescent\n",
    "import training_and_evaluation as train_eval\n",
    "import graph_nn_experiments as experiments"
   ]
  },
  {
   "cell_type": "code",
   "execution_count": 32,
   "metadata": {},
   "outputs": [
    {
     "data": {
      "text/plain": [
       "array([[ 1.2 ,  2.3 ,  3.4 ],\n",
       "       [ 5.  , -1.2 , -0.9 ],\n",
       "       [ 9.  , -0.8 ,  0.75]])"
      ]
     },
     "execution_count": 32,
     "metadata": {},
     "output_type": "execute_result"
    }
   ],
   "source": [
    "m = np.array([[1.2,2.3,3.4],[5.0,-1.2,-0.9],[9.0,-0.8,0.75]])\n",
    "m"
   ]
  },
  {
   "cell_type": "code",
   "execution_count": 39,
   "metadata": {},
   "outputs": [
    {
     "data": {
      "text/plain": [
       "array([[ 2.3 ,  1.2 ,  3.4 ],\n",
       "       [-1.2 ,  5.  , -0.9 ],\n",
       "       [-0.8 ,  9.  ,  0.75]])"
      ]
     },
     "execution_count": 39,
     "metadata": {},
     "output_type": "execute_result"
    }
   ],
   "source": [
    "m[:,[1,0,2]]"
   ]
  },
  {
   "cell_type": "markdown",
   "metadata": {},
   "source": [
    "Experiment with the above functions and an artificial adjacency matrix:"
   ]
  },
  {
   "cell_type": "code",
   "execution_count": 38,
   "metadata": {},
   "outputs": [
    {
     "name": "stdout",
     "output_type": "stream",
     "text": [
      "[[1 1 0 0]\n",
      " [1 1 1 0]\n",
      " [0 1 1 1]\n",
      " [0 0 1 1]]\n"
     ]
    }
   ],
   "source": [
    "artificial_adj_matrix = np.array([[1,1,0,0],[1,1,1,0],[0,1,1,1],[0,0,1,1]])\n",
    "print(artificial_adj_matrix)"
   ]
  },
  {
   "cell_type": "code",
   "execution_count": 44,
   "metadata": {},
   "outputs": [],
   "source": [
    "artificial_edges = graph_nn.extract_undirected_edges(artificial_adj_matrix)"
   ]
  },
  {
   "cell_type": "code",
   "execution_count": 47,
   "metadata": {},
   "outputs": [],
   "source": [
    "artificial_edges_matrix, artificial_edges_bias = graph_nn.get_transfer_matrix_plus_bias_vector(artificial_edges, False)"
   ]
  },
  {
   "cell_type": "code",
   "execution_count": 48,
   "metadata": {},
   "outputs": [
    {
     "name": "stdout",
     "output_type": "stream",
     "text": [
      "[[-0.2865445  -0.         -0.        ]\n",
      " [-0.07975662  0.19541402  0.        ]\n",
      " [ 0.          1.3505175  -0.22902587]\n",
      " [-0.         -0.         -0.6132961 ]]\n",
      "[0. 0. 0.]\n"
     ]
    }
   ],
   "source": [
    "sess =  tf.Session()\n",
    "init = tf.global_variables_initializer()\n",
    "sess.run(init)\n",
    "m = sess.run(artificial_edges_matrix)\n",
    "v = sess.run(artificial_edges_bias)\n",
    "sess.close()\n",
    "print(m)\n",
    "print(v)"
   ]
  },
  {
   "cell_type": "code",
   "execution_count": 57,
   "metadata": {},
   "outputs": [],
   "source": [
    "artificial_edges_matrix_shared, artificial_edges_bias_shared = graph_nn.get_shared_transfer_matrix_plus_bias_vector(artificial_edges)"
   ]
  },
  {
   "cell_type": "code",
   "execution_count": 58,
   "metadata": {},
   "outputs": [
    {
     "name": "stdout",
     "output_type": "stream",
     "text": [
      "[[ 0.48270476  0.          0.        ]\n",
      " [-0.11085757  0.48270476  0.        ]\n",
      " [ 0.         -0.11085757  0.48270476]\n",
      " [-0.         -0.         -0.11085757]]\n",
      "[0. 0. 0.]\n"
     ]
    }
   ],
   "source": [
    "sess =  tf.Session()\n",
    "init = tf.global_variables_initializer()\n",
    "sess.run(init)\n",
    "m = sess.run(artificial_edges_matrix_shared)\n",
    "v = sess.run(artificial_edges_bias_shared)\n",
    "sess.close()\n",
    "print(m)\n",
    "print(v)"
   ]
  },
  {
   "cell_type": "code",
   "execution_count": 50,
   "metadata": {},
   "outputs": [],
   "source": [
    "artificial_edges_matrix_transposed, artificial_edges_bias_transposed = graph_nn.get_transfer_matrix_plus_bias_vector(artificial_edges, True)"
   ]
  },
  {
   "cell_type": "code",
   "execution_count": 51,
   "metadata": {},
   "outputs": [
    {
     "name": "stdout",
     "output_type": "stream",
     "text": [
      "[[-1.530434    0.03792418  0.         -0.        ]\n",
      " [-0.         -1.3752512   0.13057522 -0.        ]\n",
      " [-0.          0.         -0.7753116  -0.65162235]]\n",
      "[0. 0. 0. 0.]\n"
     ]
    }
   ],
   "source": [
    "sess =  tf.Session()\n",
    "init = tf.global_variables_initializer()\n",
    "sess.run(init)\n",
    "m = sess.run(artificial_edges_matrix_transposed)\n",
    "v = sess.run(artificial_edges_bias_transposed)\n",
    "sess.close()\n",
    "print(m)\n",
    "print(v)"
   ]
  },
  {
   "cell_type": "markdown",
   "metadata": {},
   "source": [
    "Load adjacency matrix for crossings in Ochota:"
   ]
  },
  {
   "cell_type": "code",
   "execution_count": 2,
   "metadata": {},
   "outputs": [],
   "source": [
    "ochota_adj_matrix = np.genfromtxt(\"macierz_sasiedztwa.txt\")"
   ]
  },
  {
   "cell_type": "code",
   "execution_count": 3,
   "metadata": {},
   "outputs": [
    {
     "data": {
      "image/png": "[encoded data removed]",
      "text/plain": [
       "<matplotlib.figure.Figure at 0x1eee835e2b0>"
      ]
     },
     "metadata": {},
     "output_type": "display_data"
    }
   ],
   "source": [
    "plt.imshow(ochota_adj_matrix, cmap='hot', interpolation='nearest')\n",
    "plt.show()"
   ]
  },
  {
   "cell_type": "markdown",
   "metadata": {},
   "source": [
    "Now construct a neural network that uses several layers of transfer matrices. \n",
    "Try it out using some random parameters and input:"
   ]
  },
  {
   "cell_type": "code",
   "execution_count": 24,
   "metadata": {},
   "outputs": [
    {
     "name": "stdout",
     "output_type": "stream",
     "text": [
      "(21, 48, 5, 2)\n",
      "(?, 48, 2)\n",
      "(48, 21, 2, 2)\n",
      "(?, 21, 2)\n",
      "(21, 48, 2, 2)\n",
      "(?, 48, 2)\n",
      "(?, 96)\n",
      "(?, 1)\n"
     ]
    }
   ],
   "source": [
    "# also testing the possibility to have more than a single channel in input\n",
    "number_of_test_channels = 5\n",
    "\n",
    "inp = tf.placeholder(dtype=tf.float32,shape=[None,21])\n",
    "inp_mul = tf.reshape(tf.tile(inp,[1,number_of_test_channels]),[-1,21,number_of_test_channels])\n",
    "nn = graph_nn.transfer_matrix_neural_net(inp_mul, 3, 2, tf.nn.tanh, ochota_adj_matrix, verbose=True)\n",
    "print(nn.shape)"
   ]
  },
  {
   "cell_type": "code",
   "execution_count": 25,
   "metadata": {},
   "outputs": [],
   "source": [
    "random_input = np.random.normal(loc=0.0,scale=1.0,size=[1,21])"
   ]
  },
  {
   "cell_type": "code",
   "execution_count": 26,
   "metadata": {},
   "outputs": [
    {
     "name": "stdout",
     "output_type": "stream",
     "text": [
      "[[0.9453324]]\n"
     ]
    }
   ],
   "source": [
    "sess = tf.Session()\n",
    "init = tf.global_variables_initializer()\n",
    "sess.run(init)\n",
    "for i in range(1):\n",
    "    transfered = sess.run(nn, feed_dict={inp: random_input})\n",
    "    print(transfered)\n",
    "sess.close()"
   ]
  },
  {
   "cell_type": "markdown",
   "metadata": {},
   "source": [
    "It works!"
   ]
  },
  {
   "cell_type": "markdown",
   "metadata": {},
   "source": [
    "Now try the version with variable channel count:"
   ]
  },
  {
   "cell_type": "code",
   "execution_count": 33,
   "metadata": {},
   "outputs": [
    {
     "name": "stdout",
     "output_type": "stream",
     "text": [
      "(21, 48, 5, 2)\n",
      "(?, 48, 2)\n",
      "(48, 21, 2, 3)\n",
      "(?, 21, 3)\n",
      "(21, 48, 3, 1)\n",
      "(?, 48, 1)\n",
      "(?, 48)\n",
      "(?, 1)\n"
     ]
    }
   ],
   "source": [
    "nn = graph_nn.transfer_matrix_neural_net_var_channels(inp_mul, 3, [2,3,1], tf.nn.tanh, ochota_adj_matrix, verbose=True)\n",
    "print(nn.shape)"
   ]
  },
  {
   "cell_type": "code",
   "execution_count": 34,
   "metadata": {},
   "outputs": [
    {
     "name": "stdout",
     "output_type": "stream",
     "text": [
      "[[0.12282659]]\n"
     ]
    }
   ],
   "source": [
    "sess = tf.Session()\n",
    "init = tf.global_variables_initializer()\n",
    "sess.run(init)\n",
    "for i in range(1):\n",
    "    transfered = sess.run(nn, feed_dict={inp: random_input})\n",
    "    print(transfered)\n",
    "sess.close()"
   ]
  },
  {
   "cell_type": "markdown",
   "metadata": {},
   "source": [
    "Seems to work again"
   ]
  },
  {
   "cell_type": "markdown",
   "metadata": {},
   "source": [
    "**Now try type 1 architecture on 100k traffic lights dataset:**"
   ]
  },
  {
   "cell_type": "markdown",
   "metadata": {},
   "source": [
    "Load the data:"
   ]
  },
  {
   "cell_type": "code",
   "execution_count": 9,
   "metadata": {},
   "outputs": [
    {
     "data": {
      "text/html": [
       "<div>\n",
       "<style scoped>\n",
       "    .dataframe tbody tr th:only-of-type {\n",
       "        vertical-align: middle;\n",
       "    }\n",
       "\n",
       "    .dataframe tbody tr th {\n",
       "        vertical-align: top;\n",
       "    }\n",
       "\n",
       "    .dataframe thead th {\n",
       "        text-align: right;\n",
       "    }\n",
       "</style>\n",
       "<table border=\"1\" class=\"dataframe\">\n",
       "  <thead>\n",
       "    <tr style=\"text-align: right;\">\n",
       "      <th></th>\n",
       "      <th>0</th>\n",
       "      <th>1</th>\n",
       "      <th>2</th>\n",
       "      <th>3</th>\n",
       "      <th>4</th>\n",
       "      <th>5</th>\n",
       "      <th>6</th>\n",
       "      <th>7</th>\n",
       "      <th>8</th>\n",
       "      <th>9</th>\n",
       "      <th>...</th>\n",
       "      <th>12</th>\n",
       "      <th>13</th>\n",
       "      <th>14</th>\n",
       "      <th>15</th>\n",
       "      <th>16</th>\n",
       "      <th>17</th>\n",
       "      <th>18</th>\n",
       "      <th>19</th>\n",
       "      <th>20</th>\n",
       "      <th>21</th>\n",
       "    </tr>\n",
       "  </thead>\n",
       "  <tbody>\n",
       "    <tr>\n",
       "      <th>0</th>\n",
       "      <td>81</td>\n",
       "      <td>14</td>\n",
       "      <td>58</td>\n",
       "      <td>108</td>\n",
       "      <td>83</td>\n",
       "      <td>60</td>\n",
       "      <td>82</td>\n",
       "      <td>61</td>\n",
       "      <td>64</td>\n",
       "      <td>94</td>\n",
       "      <td>...</td>\n",
       "      <td>28</td>\n",
       "      <td>87</td>\n",
       "      <td>73</td>\n",
       "      <td>69</td>\n",
       "      <td>25</td>\n",
       "      <td>7</td>\n",
       "      <td>77</td>\n",
       "      <td>95</td>\n",
       "      <td>5</td>\n",
       "      <td>49082</td>\n",
       "    </tr>\n",
       "    <tr>\n",
       "      <th>1</th>\n",
       "      <td>81</td>\n",
       "      <td>92</td>\n",
       "      <td>16</td>\n",
       "      <td>44</td>\n",
       "      <td>95</td>\n",
       "      <td>64</td>\n",
       "      <td>110</td>\n",
       "      <td>98</td>\n",
       "      <td>95</td>\n",
       "      <td>105</td>\n",
       "      <td>...</td>\n",
       "      <td>42</td>\n",
       "      <td>5</td>\n",
       "      <td>40</td>\n",
       "      <td>105</td>\n",
       "      <td>118</td>\n",
       "      <td>48</td>\n",
       "      <td>40</td>\n",
       "      <td>62</td>\n",
       "      <td>45</td>\n",
       "      <td>51223</td>\n",
       "    </tr>\n",
       "    <tr>\n",
       "      <th>2</th>\n",
       "      <td>75</td>\n",
       "      <td>20</td>\n",
       "      <td>66</td>\n",
       "      <td>104</td>\n",
       "      <td>20</td>\n",
       "      <td>65</td>\n",
       "      <td>80</td>\n",
       "      <td>97</td>\n",
       "      <td>2</td>\n",
       "      <td>81</td>\n",
       "      <td>...</td>\n",
       "      <td>119</td>\n",
       "      <td>115</td>\n",
       "      <td>118</td>\n",
       "      <td>64</td>\n",
       "      <td>68</td>\n",
       "      <td>46</td>\n",
       "      <td>45</td>\n",
       "      <td>43</td>\n",
       "      <td>18</td>\n",
       "      <td>51461</td>\n",
       "    </tr>\n",
       "    <tr>\n",
       "      <th>3</th>\n",
       "      <td>30</td>\n",
       "      <td>42</td>\n",
       "      <td>65</td>\n",
       "      <td>108</td>\n",
       "      <td>67</td>\n",
       "      <td>81</td>\n",
       "      <td>85</td>\n",
       "      <td>32</td>\n",
       "      <td>83</td>\n",
       "      <td>48</td>\n",
       "      <td>...</td>\n",
       "      <td>107</td>\n",
       "      <td>79</td>\n",
       "      <td>44</td>\n",
       "      <td>90</td>\n",
       "      <td>6</td>\n",
       "      <td>25</td>\n",
       "      <td>46</td>\n",
       "      <td>102</td>\n",
       "      <td>62</td>\n",
       "      <td>45119</td>\n",
       "    </tr>\n",
       "    <tr>\n",
       "      <th>4</th>\n",
       "      <td>117</td>\n",
       "      <td>20</td>\n",
       "      <td>52</td>\n",
       "      <td>40</td>\n",
       "      <td>25</td>\n",
       "      <td>36</td>\n",
       "      <td>87</td>\n",
       "      <td>78</td>\n",
       "      <td>99</td>\n",
       "      <td>70</td>\n",
       "      <td>...</td>\n",
       "      <td>92</td>\n",
       "      <td>21</td>\n",
       "      <td>34</td>\n",
       "      <td>102</td>\n",
       "      <td>37</td>\n",
       "      <td>46</td>\n",
       "      <td>11</td>\n",
       "      <td>9</td>\n",
       "      <td>66</td>\n",
       "      <td>50660</td>\n",
       "    </tr>\n",
       "  </tbody>\n",
       "</table>\n",
       "<p>5 rows × 22 columns</p>\n",
       "</div>"
      ],
      "text/plain": [
       "    0   1   2    3   4   5    6   7   8    9   ...     12   13   14   15   16  \\\n",
       "0   81  14  58  108  83  60   82  61  64   94  ...     28   87   73   69   25   \n",
       "1   81  92  16   44  95  64  110  98  95  105  ...     42    5   40  105  118   \n",
       "2   75  20  66  104  20  65   80  97   2   81  ...    119  115  118   64   68   \n",
       "3   30  42  65  108  67  81   85  32  83   48  ...    107   79   44   90    6   \n",
       "4  117  20  52   40  25  36   87  78  99   70  ...     92   21   34  102   37   \n",
       "\n",
       "   17  18   19  20     21  \n",
       "0   7  77   95   5  49082  \n",
       "1  48  40   62  45  51223  \n",
       "2  46  45   43  18  51461  \n",
       "3  25  46  102  62  45119  \n",
       "4  46  11    9  66  50660  \n",
       "\n",
       "[5 rows x 22 columns]"
      ]
     },
     "execution_count": 9,
     "metadata": {},
     "output_type": "execute_result"
    }
   ],
   "source": [
    "traffic_lights_data = pd.read_csv(\"100k.csv\", header=None)\n",
    "traffic_lights_data.head()"
   ]
  },
  {
   "cell_type": "markdown",
   "metadata": {},
   "source": [
    "Normalize:"
   ]
  },
  {
   "cell_type": "code",
   "execution_count": 10,
   "metadata": {},
   "outputs": [
    {
     "name": "stderr",
     "output_type": "stream",
     "text": [
      "C:\\Users\\Lukasz\\AppData\\Local\\conda\\conda\\envs\\aind\\lib\\site-packages\\sklearn\\utils\\validation.py:475: DataConversionWarning: Data with input dtype int64 was converted to float64 by StandardScaler.\n",
      "  warnings.warn(msg, DataConversionWarning)\n"
     ]
    }
   ],
   "source": [
    "X, y, X_scaler, y_scaler = data_prep.scale_standard_traffic_light_data(traffic_lights_data)"
   ]
  },
  {
   "cell_type": "code",
   "execution_count": 75,
   "metadata": {},
   "outputs": [
    {
     "data": {
      "text/html": [
       "<div>\n",
       "<style scoped>\n",
       "    .dataframe tbody tr th:only-of-type {\n",
       "        vertical-align: middle;\n",
       "    }\n",
       "\n",
       "    .dataframe tbody tr th {\n",
       "        vertical-align: top;\n",
       "    }\n",
       "\n",
       "    .dataframe thead th {\n",
       "        text-align: right;\n",
       "    }\n",
       "</style>\n",
       "<table border=\"1\" class=\"dataframe\">\n",
       "  <thead>\n",
       "    <tr style=\"text-align: right;\">\n",
       "      <th></th>\n",
       "      <th>0</th>\n",
       "      <th>1</th>\n",
       "      <th>2</th>\n",
       "      <th>3</th>\n",
       "      <th>4</th>\n",
       "      <th>5</th>\n",
       "      <th>6</th>\n",
       "      <th>7</th>\n",
       "      <th>8</th>\n",
       "      <th>9</th>\n",
       "      <th>...</th>\n",
       "      <th>11</th>\n",
       "      <th>12</th>\n",
       "      <th>13</th>\n",
       "      <th>14</th>\n",
       "      <th>15</th>\n",
       "      <th>16</th>\n",
       "      <th>17</th>\n",
       "      <th>18</th>\n",
       "      <th>19</th>\n",
       "      <th>20</th>\n",
       "    </tr>\n",
       "  </thead>\n",
       "  <tbody>\n",
       "    <tr>\n",
       "      <th>0</th>\n",
       "      <td>0.35</td>\n",
       "      <td>-0.766667</td>\n",
       "      <td>-0.033333</td>\n",
       "      <td>0.800000</td>\n",
       "      <td>0.383333</td>\n",
       "      <td>0.000000</td>\n",
       "      <td>0.366667</td>\n",
       "      <td>0.016667</td>\n",
       "      <td>0.066667</td>\n",
       "      <td>0.566667</td>\n",
       "      <td>...</td>\n",
       "      <td>-0.550000</td>\n",
       "      <td>-0.533333</td>\n",
       "      <td>0.450000</td>\n",
       "      <td>0.216667</td>\n",
       "      <td>0.150000</td>\n",
       "      <td>-0.583333</td>\n",
       "      <td>-0.883333</td>\n",
       "      <td>0.283333</td>\n",
       "      <td>0.583333</td>\n",
       "      <td>-0.916667</td>\n",
       "    </tr>\n",
       "    <tr>\n",
       "      <th>1</th>\n",
       "      <td>0.35</td>\n",
       "      <td>0.533333</td>\n",
       "      <td>-0.733333</td>\n",
       "      <td>-0.266667</td>\n",
       "      <td>0.583333</td>\n",
       "      <td>0.066667</td>\n",
       "      <td>0.833333</td>\n",
       "      <td>0.633333</td>\n",
       "      <td>0.583333</td>\n",
       "      <td>0.750000</td>\n",
       "      <td>...</td>\n",
       "      <td>0.983333</td>\n",
       "      <td>-0.300000</td>\n",
       "      <td>-0.916667</td>\n",
       "      <td>-0.333333</td>\n",
       "      <td>0.750000</td>\n",
       "      <td>0.966667</td>\n",
       "      <td>-0.200000</td>\n",
       "      <td>-0.333333</td>\n",
       "      <td>0.033333</td>\n",
       "      <td>-0.250000</td>\n",
       "    </tr>\n",
       "    <tr>\n",
       "      <th>2</th>\n",
       "      <td>0.25</td>\n",
       "      <td>-0.666667</td>\n",
       "      <td>0.100000</td>\n",
       "      <td>0.733333</td>\n",
       "      <td>-0.666667</td>\n",
       "      <td>0.083333</td>\n",
       "      <td>0.333333</td>\n",
       "      <td>0.616667</td>\n",
       "      <td>-0.966667</td>\n",
       "      <td>0.350000</td>\n",
       "      <td>...</td>\n",
       "      <td>0.050000</td>\n",
       "      <td>0.983333</td>\n",
       "      <td>0.916667</td>\n",
       "      <td>0.966667</td>\n",
       "      <td>0.066667</td>\n",
       "      <td>0.133333</td>\n",
       "      <td>-0.233333</td>\n",
       "      <td>-0.250000</td>\n",
       "      <td>-0.283333</td>\n",
       "      <td>-0.700000</td>\n",
       "    </tr>\n",
       "    <tr>\n",
       "      <th>3</th>\n",
       "      <td>-0.50</td>\n",
       "      <td>-0.300000</td>\n",
       "      <td>0.083333</td>\n",
       "      <td>0.800000</td>\n",
       "      <td>0.116667</td>\n",
       "      <td>0.350000</td>\n",
       "      <td>0.416667</td>\n",
       "      <td>-0.466667</td>\n",
       "      <td>0.383333</td>\n",
       "      <td>-0.200000</td>\n",
       "      <td>...</td>\n",
       "      <td>-0.650000</td>\n",
       "      <td>0.783333</td>\n",
       "      <td>0.316667</td>\n",
       "      <td>-0.266667</td>\n",
       "      <td>0.500000</td>\n",
       "      <td>-0.900000</td>\n",
       "      <td>-0.583333</td>\n",
       "      <td>-0.233333</td>\n",
       "      <td>0.700000</td>\n",
       "      <td>0.033333</td>\n",
       "    </tr>\n",
       "    <tr>\n",
       "      <th>4</th>\n",
       "      <td>0.95</td>\n",
       "      <td>-0.666667</td>\n",
       "      <td>-0.133333</td>\n",
       "      <td>-0.333333</td>\n",
       "      <td>-0.583333</td>\n",
       "      <td>-0.400000</td>\n",
       "      <td>0.450000</td>\n",
       "      <td>0.300000</td>\n",
       "      <td>0.650000</td>\n",
       "      <td>0.166667</td>\n",
       "      <td>...</td>\n",
       "      <td>-0.483333</td>\n",
       "      <td>0.533333</td>\n",
       "      <td>-0.650000</td>\n",
       "      <td>-0.433333</td>\n",
       "      <td>0.700000</td>\n",
       "      <td>-0.383333</td>\n",
       "      <td>-0.233333</td>\n",
       "      <td>-0.816667</td>\n",
       "      <td>-0.850000</td>\n",
       "      <td>0.100000</td>\n",
       "    </tr>\n",
       "  </tbody>\n",
       "</table>\n",
       "<p>5 rows × 21 columns</p>\n",
       "</div>"
      ],
      "text/plain": [
       "     0         1         2         3         4         5         6         7   \\\n",
       "0  0.35 -0.766667 -0.033333  0.800000  0.383333  0.000000  0.366667  0.016667   \n",
       "1  0.35  0.533333 -0.733333 -0.266667  0.583333  0.066667  0.833333  0.633333   \n",
       "2  0.25 -0.666667  0.100000  0.733333 -0.666667  0.083333  0.333333  0.616667   \n",
       "3 -0.50 -0.300000  0.083333  0.800000  0.116667  0.350000  0.416667 -0.466667   \n",
       "4  0.95 -0.666667 -0.133333 -0.333333 -0.583333 -0.400000  0.450000  0.300000   \n",
       "\n",
       "         8         9     ...           11        12        13        14  \\\n",
       "0  0.066667  0.566667    ...    -0.550000 -0.533333  0.450000  0.216667   \n",
       "1  0.583333  0.750000    ...     0.983333 -0.300000 -0.916667 -0.333333   \n",
       "2 -0.966667  0.350000    ...     0.050000  0.983333  0.916667  0.966667   \n",
       "3  0.383333 -0.200000    ...    -0.650000  0.783333  0.316667 -0.266667   \n",
       "4  0.650000  0.166667    ...    -0.483333  0.533333 -0.650000 -0.433333   \n",
       "\n",
       "         15        16        17        18        19        20  \n",
       "0  0.150000 -0.583333 -0.883333  0.283333  0.583333 -0.916667  \n",
       "1  0.750000  0.966667 -0.200000 -0.333333  0.033333 -0.250000  \n",
       "2  0.066667  0.133333 -0.233333 -0.250000 -0.283333 -0.700000  \n",
       "3  0.500000 -0.900000 -0.583333 -0.233333  0.700000  0.033333  \n",
       "4  0.700000 -0.383333 -0.233333 -0.816667 -0.850000  0.100000  \n",
       "\n",
       "[5 rows x 21 columns]"
      ]
     },
     "execution_count": 75,
     "metadata": {},
     "output_type": "execute_result"
    }
   ],
   "source": [
    "X.head()"
   ]
  },
  {
   "cell_type": "code",
   "execution_count": 11,
   "metadata": {},
   "outputs": [
    {
     "data": {
      "text/html": [
       "<div>\n",
       "<style scoped>\n",
       "    .dataframe tbody tr th:only-of-type {\n",
       "        vertical-align: middle;\n",
       "    }\n",
       "\n",
       "    .dataframe tbody tr th {\n",
       "        vertical-align: top;\n",
       "    }\n",
       "\n",
       "    .dataframe thead th {\n",
       "        text-align: right;\n",
       "    }\n",
       "</style>\n",
       "<table border=\"1\" class=\"dataframe\">\n",
       "  <thead>\n",
       "    <tr style=\"text-align: right;\">\n",
       "      <th></th>\n",
       "      <th>0</th>\n",
       "      <th>1</th>\n",
       "      <th>2</th>\n",
       "      <th>3</th>\n",
       "      <th>4</th>\n",
       "      <th>5</th>\n",
       "      <th>6</th>\n",
       "      <th>7</th>\n",
       "      <th>8</th>\n",
       "      <th>9</th>\n",
       "      <th>...</th>\n",
       "      <th>11</th>\n",
       "      <th>12</th>\n",
       "      <th>13</th>\n",
       "      <th>14</th>\n",
       "      <th>15</th>\n",
       "      <th>16</th>\n",
       "      <th>17</th>\n",
       "      <th>18</th>\n",
       "      <th>19</th>\n",
       "      <th>20</th>\n",
       "    </tr>\n",
       "  </thead>\n",
       "  <tbody>\n",
       "    <tr>\n",
       "      <th>0</th>\n",
       "      <td>81.0</td>\n",
       "      <td>14.0</td>\n",
       "      <td>58.0</td>\n",
       "      <td>108.0</td>\n",
       "      <td>83.0</td>\n",
       "      <td>60.0</td>\n",
       "      <td>82.0</td>\n",
       "      <td>61.0</td>\n",
       "      <td>64.0</td>\n",
       "      <td>94.0</td>\n",
       "      <td>...</td>\n",
       "      <td>27.0</td>\n",
       "      <td>28.0</td>\n",
       "      <td>87.0</td>\n",
       "      <td>73.0</td>\n",
       "      <td>69.0</td>\n",
       "      <td>25.0</td>\n",
       "      <td>7.0</td>\n",
       "      <td>77.0</td>\n",
       "      <td>95.0</td>\n",
       "      <td>5.0</td>\n",
       "    </tr>\n",
       "    <tr>\n",
       "      <th>1</th>\n",
       "      <td>81.0</td>\n",
       "      <td>92.0</td>\n",
       "      <td>16.0</td>\n",
       "      <td>44.0</td>\n",
       "      <td>95.0</td>\n",
       "      <td>64.0</td>\n",
       "      <td>110.0</td>\n",
       "      <td>98.0</td>\n",
       "      <td>95.0</td>\n",
       "      <td>105.0</td>\n",
       "      <td>...</td>\n",
       "      <td>119.0</td>\n",
       "      <td>42.0</td>\n",
       "      <td>5.0</td>\n",
       "      <td>40.0</td>\n",
       "      <td>105.0</td>\n",
       "      <td>118.0</td>\n",
       "      <td>48.0</td>\n",
       "      <td>40.0</td>\n",
       "      <td>62.0</td>\n",
       "      <td>45.0</td>\n",
       "    </tr>\n",
       "    <tr>\n",
       "      <th>2</th>\n",
       "      <td>75.0</td>\n",
       "      <td>20.0</td>\n",
       "      <td>66.0</td>\n",
       "      <td>104.0</td>\n",
       "      <td>20.0</td>\n",
       "      <td>65.0</td>\n",
       "      <td>80.0</td>\n",
       "      <td>97.0</td>\n",
       "      <td>2.0</td>\n",
       "      <td>81.0</td>\n",
       "      <td>...</td>\n",
       "      <td>63.0</td>\n",
       "      <td>119.0</td>\n",
       "      <td>115.0</td>\n",
       "      <td>118.0</td>\n",
       "      <td>64.0</td>\n",
       "      <td>68.0</td>\n",
       "      <td>46.0</td>\n",
       "      <td>45.0</td>\n",
       "      <td>43.0</td>\n",
       "      <td>18.0</td>\n",
       "    </tr>\n",
       "    <tr>\n",
       "      <th>3</th>\n",
       "      <td>30.0</td>\n",
       "      <td>42.0</td>\n",
       "      <td>65.0</td>\n",
       "      <td>108.0</td>\n",
       "      <td>67.0</td>\n",
       "      <td>81.0</td>\n",
       "      <td>85.0</td>\n",
       "      <td>32.0</td>\n",
       "      <td>83.0</td>\n",
       "      <td>48.0</td>\n",
       "      <td>...</td>\n",
       "      <td>21.0</td>\n",
       "      <td>107.0</td>\n",
       "      <td>79.0</td>\n",
       "      <td>44.0</td>\n",
       "      <td>90.0</td>\n",
       "      <td>6.0</td>\n",
       "      <td>25.0</td>\n",
       "      <td>46.0</td>\n",
       "      <td>102.0</td>\n",
       "      <td>62.0</td>\n",
       "    </tr>\n",
       "    <tr>\n",
       "      <th>4</th>\n",
       "      <td>117.0</td>\n",
       "      <td>20.0</td>\n",
       "      <td>52.0</td>\n",
       "      <td>40.0</td>\n",
       "      <td>25.0</td>\n",
       "      <td>36.0</td>\n",
       "      <td>87.0</td>\n",
       "      <td>78.0</td>\n",
       "      <td>99.0</td>\n",
       "      <td>70.0</td>\n",
       "      <td>...</td>\n",
       "      <td>31.0</td>\n",
       "      <td>92.0</td>\n",
       "      <td>21.0</td>\n",
       "      <td>34.0</td>\n",
       "      <td>102.0</td>\n",
       "      <td>37.0</td>\n",
       "      <td>46.0</td>\n",
       "      <td>11.0</td>\n",
       "      <td>9.0</td>\n",
       "      <td>66.0</td>\n",
       "    </tr>\n",
       "  </tbody>\n",
       "</table>\n",
       "<p>5 rows × 21 columns</p>\n",
       "</div>"
      ],
      "text/plain": [
       "      0     1     2      3     4     5      6     7     8      9   ...   \\\n",
       "0   81.0  14.0  58.0  108.0  83.0  60.0   82.0  61.0  64.0   94.0  ...    \n",
       "1   81.0  92.0  16.0   44.0  95.0  64.0  110.0  98.0  95.0  105.0  ...    \n",
       "2   75.0  20.0  66.0  104.0  20.0  65.0   80.0  97.0   2.0   81.0  ...    \n",
       "3   30.0  42.0  65.0  108.0  67.0  81.0   85.0  32.0  83.0   48.0  ...    \n",
       "4  117.0  20.0  52.0   40.0  25.0  36.0   87.0  78.0  99.0   70.0  ...    \n",
       "\n",
       "      11     12     13     14     15     16    17    18     19    20  \n",
       "0   27.0   28.0   87.0   73.0   69.0   25.0   7.0  77.0   95.0   5.0  \n",
       "1  119.0   42.0    5.0   40.0  105.0  118.0  48.0  40.0   62.0  45.0  \n",
       "2   63.0  119.0  115.0  118.0   64.0   68.0  46.0  45.0   43.0  18.0  \n",
       "3   21.0  107.0   79.0   44.0   90.0    6.0  25.0  46.0  102.0  62.0  \n",
       "4   31.0   92.0   21.0   34.0  102.0   37.0  46.0  11.0    9.0  66.0  \n",
       "\n",
       "[5 rows x 21 columns]"
      ]
     },
     "execution_count": 11,
     "metadata": {},
     "output_type": "execute_result"
    }
   ],
   "source": [
    "X_scaler.inverse_transform(X).head()"
   ]
  },
  {
   "cell_type": "code",
   "execution_count": 79,
   "metadata": {},
   "outputs": [
    {
     "data": {
      "text/plain": [
       "array([49082., 51223., 51461., ..., 52152., 46318., 45916.])"
      ]
     },
     "execution_count": 79,
     "metadata": {},
     "output_type": "execute_result"
    }
   ],
   "source": [
    "y_scaler.inverse_transform(y)"
   ]
  },
  {
   "cell_type": "markdown",
   "metadata": {},
   "source": [
    "Normalization seems to work ok."
   ]
  },
  {
   "cell_type": "markdown",
   "metadata": {},
   "source": [
    "Train test split:"
   ]
  },
  {
   "cell_type": "code",
   "execution_count": 5,
   "metadata": {},
   "outputs": [],
   "source": [
    "from sklearn.model_selection import train_test_split\n",
    "\n",
    "X_train, X_test, y_train, y_test = train_test_split(X, y, test_size=0.1, random_state=831191)"
   ]
  },
  {
   "cell_type": "markdown",
   "metadata": {},
   "source": [
    "Now construct the neural net and define the loss:"
   ]
  },
  {
   "cell_type": "code",
   "execution_count": 9,
   "metadata": {
    "scrolled": true
   },
   "outputs": [
    {
     "name": "stdout",
     "output_type": "stream",
     "text": [
      "(21, 48, 1, 4)\n",
      "(?, 48, 4)\n",
      "(48, 21, 4, 4)\n",
      "(?, 21, 4)\n",
      "(21, 48, 4, 4)\n",
      "(?, 48, 4)\n",
      "(?, 192)\n"
     ]
    }
   ],
   "source": [
    "# also testing the possibility to have more than a single channel in input (turned off for the moment)\n",
    "#number_of_test_channels = 2\n",
    "\n",
    "nn_input = tf.placeholder(dtype=tf.float32, shape=[None, 21])\n",
    "targets = tf.placeholder(dtype=tf.float32, shape=[None, 1])\n",
    "nn_output = graph_nn.transfer_matrix_neural_net(nn_input, 3, 4, tf.nn.tanh, ochota_adj_matrix, verbose=True, share_weights_in_transfer_matrix=False, share_biases_in_transfer_matrix=False)\n",
    "\n",
    "# also testing the possibility to have more than a single channel in input (turned off for the moment)\n",
    "#nn_input_mul = tf.tile(tf.expand_dims(nn_input,-1),[1,1,number_of_test_channels])\n",
    "#nn_output = graph_nn.transfer_matrix_neural_net(nn_input_mul, 3, 4, tf.nn.tanh, ochota_adj_matrix, verbose=True, share_weights_in_transfer_matrix=True, share_biases_in_transfer_matrix=True)"
   ]
  },
  {
   "cell_type": "markdown",
   "metadata": {},
   "source": [
    "__NOTE__: transfer_matrix_neural_net(traffic_signal_settings, 3, 4, tf.nn.tanh, ochota_adj_matrix) seems to work ok (+ Adam using 0.01 learning rate)"
   ]
  },
  {
   "cell_type": "markdown",
   "metadata": {},
   "source": [
    "Now define the optimizer:"
   ]
  },
  {
   "cell_type": "code",
   "execution_count": 18,
   "metadata": {},
   "outputs": [],
   "source": [
    "optimizer = tf.train.AdamOptimizer(0.005) #0.0035"
   ]
  },
  {
   "cell_type": "markdown",
   "metadata": {},
   "source": [
    "Define batch iterator: "
   ]
  },
  {
   "cell_type": "code",
   "execution_count": 15,
   "metadata": {},
   "outputs": [],
   "source": [
    "batch_iterator = data_prep.BatchIterator(X_train, y_train, 997)"
   ]
  },
  {
   "cell_type": "markdown",
   "metadata": {},
   "source": [
    "Now, train for several epochs:"
   ]
  },
  {
   "cell_type": "code",
   "execution_count": 16,
   "metadata": {},
   "outputs": [
    {
     "name": "stdout",
     "output_type": "stream",
     "text": [
      "Test loss: 1.065527, batch loss: 1.034799, model saved under trained_networks/test_model.ckpt\n",
      "Test loss: 0.359556, batch loss: 0.349825, model saved under trained_networks/test_model.ckpt\n",
      "Test loss: 0.263340, batch loss: 0.266800, model saved under trained_networks/test_model.ckpt\n",
      "Test loss: 0.224152, batch loss: 0.211581, model saved under trained_networks/test_model.ckpt\n",
      "Test loss: 0.205417, batch loss: 0.202294, model saved under trained_networks/test_model.ckpt\n",
      "Test loss: 0.188925, batch loss: 0.188196, model saved under trained_networks/test_model.ckpt\n",
      "Test loss: 0.182010, batch loss: 0.183637, model saved under trained_networks/test_model.ckpt\n",
      "Test loss: 0.175232, batch loss: 0.172581, model saved under trained_networks/test_model.ckpt\n",
      "Test loss: 0.167460, batch loss: 0.173869, model saved under trained_networks/test_model.ckpt\n",
      "Test loss: 0.165570, batch loss: 0.156800, model saved under trained_networks/test_model.ckpt\n",
      "Test loss: 0.158971, batch loss: 0.151875, model saved under trained_networks/test_model.ckpt\n",
      "Test loss: 0.157537, batch loss: 0.147286, model saved under trained_networks/test_model.ckpt\n",
      "Test loss: 0.150688, batch loss: 0.142631, model saved under trained_networks/test_model.ckpt\n",
      "Test loss: 0.145683, batch loss: 0.161914, model saved under trained_networks/test_model.ckpt\n",
      "Test loss: 0.143751, batch loss: 0.134564, model saved under trained_networks/test_model.ckpt\n",
      "Test loss: 0.144851, batch loss: 0.142917, model saved under trained_networks/test_model.ckpt\n",
      "Test loss: 0.141575, batch loss: 0.130330, model saved under trained_networks/test_model.ckpt\n",
      "Test loss: 0.138147, batch loss: 0.140958, model saved under trained_networks/test_model.ckpt\n",
      "Test loss: 0.133894, batch loss: 0.134845, model saved under trained_networks/test_model.ckpt\n",
      "Test loss: 0.138243, batch loss: 0.132579, model saved under trained_networks/test_model.ckpt\n",
      "Test loss: 0.128836, batch loss: 0.119496, model saved under trained_networks/test_model.ckpt\n",
      "Test loss: 0.135040, batch loss: 0.136488, model saved under trained_networks/test_model.ckpt\n",
      "Test loss: 0.127041, batch loss: 0.122389, model saved under trained_networks/test_model.ckpt\n",
      "Test loss: 0.127594, batch loss: 0.115995, model saved under trained_networks/test_model.ckpt\n",
      "Test loss: 0.127032, batch loss: 0.122530, model saved under trained_networks/test_model.ckpt\n",
      "Test loss: 0.125233, batch loss: 0.114860, model saved under trained_networks/test_model.ckpt\n",
      "Test loss: 0.122108, batch loss: 0.131226, model saved under trained_networks/test_model.ckpt\n",
      "Test loss: 0.121972, batch loss: 0.112395, model saved under trained_networks/test_model.ckpt\n",
      "Test loss: 0.120753, batch loss: 0.110905, model saved under trained_networks/test_model.ckpt\n",
      "Test loss: 0.122731, batch loss: 0.122195, model saved under trained_networks/test_model.ckpt\n",
      "Test loss: 0.120784, batch loss: 0.124157, model saved under trained_networks/test_model.ckpt\n",
      "Test loss: 0.129847, batch loss: 0.129094, model saved under trained_networks/test_model.ckpt\n",
      "Test loss: 0.117901, batch loss: 0.112954, model saved under trained_networks/test_model.ckpt\n",
      "Test loss: 0.119803, batch loss: 0.136810, model saved under trained_networks/test_model.ckpt\n",
      "Test loss: 0.119010, batch loss: 0.112862, model saved under trained_networks/test_model.ckpt\n",
      "Test loss: 0.130707, batch loss: 0.121402, model saved under trained_networks/test_model.ckpt\n",
      "Test loss: 0.118573, batch loss: 0.103249, model saved under trained_networks/test_model.ckpt\n",
      "Test loss: 0.115460, batch loss: 0.141326, model saved under trained_networks/test_model.ckpt\n",
      "Test loss: 0.117764, batch loss: 0.114736, model saved under trained_networks/test_model.ckpt\n",
      "Test loss: 0.122604, batch loss: 0.107865, model saved under trained_networks/test_model.ckpt\n",
      "Test loss: 0.123202, batch loss: 0.114012, model saved under trained_networks/test_model.ckpt\n",
      "Test loss: 0.113311, batch loss: 0.101852, model saved under trained_networks/test_model.ckpt\n",
      "Test loss: 0.115025, batch loss: 0.105934, model saved under trained_networks/test_model.ckpt\n",
      "Test loss: 0.111871, batch loss: 0.114973, model saved under trained_networks/test_model.ckpt\n",
      "Test loss: 0.110094, batch loss: 0.111407, model saved under trained_networks/test_model.ckpt\n",
      "Test loss: 0.110406, batch loss: 0.113322, model saved under trained_networks/test_model.ckpt\n",
      "Test loss: 0.110663, batch loss: 0.106137, model saved under trained_networks/test_model.ckpt\n",
      "Test loss: 0.108067, batch loss: 0.104483, model saved under trained_networks/test_model.ckpt\n",
      "Test loss: 0.110097, batch loss: 0.111162, model saved under trained_networks/test_model.ckpt\n",
      "Test loss: 0.111529, batch loss: 0.108546, model saved under trained_networks/test_model.ckpt\n",
      "Test loss: 0.111109, batch loss: 0.101274, model saved under trained_networks/test_model.ckpt\n",
      "Test loss: 0.107245, batch loss: 0.110221, model saved under trained_networks/test_model.ckpt\n",
      "Test loss: 0.113198, batch loss: 0.104182, model saved under trained_networks/test_model.ckpt\n",
      "Test loss: 0.107893, batch loss: 0.100630, model saved under trained_networks/test_model.ckpt\n",
      "Test loss: 0.107018, batch loss: 0.103593, model saved under trained_networks/test_model.ckpt\n",
      "Test loss: 0.108360, batch loss: 0.099481, model saved under trained_networks/test_model.ckpt\n",
      "Test loss: 0.106149, batch loss: 0.104954, model saved under trained_networks/test_model.ckpt\n",
      "Test loss: 0.105296, batch loss: 0.095911, model saved under trained_networks/test_model.ckpt\n",
      "Test loss: 0.105234, batch loss: 0.105767, model saved under trained_networks/test_model.ckpt\n",
      "Test loss: 0.105610, batch loss: 0.094490, model saved under trained_networks/test_model.ckpt\n",
      "Test loss: 0.114404, batch loss: 0.126805, model saved under trained_networks/test_model.ckpt\n",
      "Test loss: 0.103188, batch loss: 0.097187, model saved under trained_networks/test_model.ckpt\n",
      "Test loss: 0.101745, batch loss: 0.110211, model saved under trained_networks/test_model.ckpt\n",
      "Test loss: 0.101265, batch loss: 0.092860, model saved under trained_networks/test_model.ckpt\n",
      "Test loss: 0.107360, batch loss: 0.101500, model saved under trained_networks/test_model.ckpt\n",
      "Test loss: 0.102255, batch loss: 0.098484, model saved under trained_networks/test_model.ckpt\n",
      "Test loss: 0.106280, batch loss: 0.108424, model saved under trained_networks/test_model.ckpt\n",
      "Test loss: 0.099920, batch loss: 0.093035, model saved under trained_networks/test_model.ckpt\n",
      "Test loss: 0.102513, batch loss: 0.098087, model saved under trained_networks/test_model.ckpt\n",
      "Test loss: 0.102963, batch loss: 0.092122, model saved under trained_networks/test_model.ckpt\n",
      "Test loss: 0.098787, batch loss: 0.102154, model saved under trained_networks/test_model.ckpt\n",
      "Test loss: 0.102792, batch loss: 0.088950, model saved under trained_networks/test_model.ckpt\n",
      "Test loss: 0.102317, batch loss: 0.094688, model saved under trained_networks/test_model.ckpt\n",
      "Test loss: 0.100294, batch loss: 0.103970, model saved under trained_networks/test_model.ckpt\n",
      "Test loss: 0.101182, batch loss: 0.100937, model saved under trained_networks/test_model.ckpt\n",
      "Test loss: 0.099656, batch loss: 0.092374, model saved under trained_networks/test_model.ckpt\n",
      "Test loss: 0.097144, batch loss: 0.094976, model saved under trained_networks/test_model.ckpt\n",
      "Test loss: 0.097847, batch loss: 0.098558, model saved under trained_networks/test_model.ckpt\n",
      "Test loss: 0.096495, batch loss: 0.098164, model saved under trained_networks/test_model.ckpt\n",
      "Test loss: 0.102674, batch loss: 0.096451, model saved under trained_networks/test_model.ckpt\n",
      "Test loss: 0.097055, batch loss: 0.092017, model saved under trained_networks/test_model.ckpt\n",
      "Test loss: 0.097624, batch loss: 0.099866, model saved under trained_networks/test_model.ckpt\n",
      "Test loss: 0.096337, batch loss: 0.093667, model saved under trained_networks/test_model.ckpt\n",
      "Test loss: 0.096585, batch loss: 0.089698, model saved under trained_networks/test_model.ckpt\n",
      "Test loss: 0.095377, batch loss: 0.090346, model saved under trained_networks/test_model.ckpt\n",
      "Test loss: 0.095296, batch loss: 0.084838, model saved under trained_networks/test_model.ckpt\n",
      "Test loss: 0.094262, batch loss: 0.100354, model saved under trained_networks/test_model.ckpt\n",
      "Test loss: 0.094772, batch loss: 0.085027, model saved under trained_networks/test_model.ckpt\n"
     ]
    },
    {
     "name": "stdout",
     "output_type": "stream",
     "text": [
      "Test loss: 0.093596, batch loss: 0.083137, model saved under trained_networks/test_model.ckpt\n",
      "Test loss: 0.095734, batch loss: 0.088141, model saved under trained_networks/test_model.ckpt\n",
      "Test loss: 0.093557, batch loss: 0.097133, model saved under trained_networks/test_model.ckpt\n",
      "Test loss: 0.101190, batch loss: 0.099426, model saved under trained_networks/test_model.ckpt\n",
      "Test loss: 0.091758, batch loss: 0.086438, model saved under trained_networks/test_model.ckpt\n",
      "Test loss: 0.095180, batch loss: 0.094800, model saved under trained_networks/test_model.ckpt\n",
      "Test loss: 0.092668, batch loss: 0.086958, model saved under trained_networks/test_model.ckpt\n",
      "Test loss: 0.106465, batch loss: 0.104106, model saved under trained_networks/test_model.ckpt\n",
      "Test loss: 0.093023, batch loss: 0.086677, model saved under trained_networks/test_model.ckpt\n",
      "Test loss: 0.115540, batch loss: 0.157675, model saved under trained_networks/test_model.ckpt\n",
      "Test loss: 0.093226, batch loss: 0.099021, model saved under trained_networks/test_model.ckpt\n",
      "Test loss: 0.095840, batch loss: 0.084662, model saved under trained_networks/test_model.ckpt\n"
     ]
    }
   ],
   "source": [
    "test_and_batch_losses = train_eval.train_model(nn_output, nn_input, targets, optimizer, 100000, batch_iterator, X_test, y_test, \"trained_networks/test_model.ckpt\", 1000, verbose=True)"
   ]
  },
  {
   "cell_type": "markdown",
   "metadata": {},
   "source": [
    "Check relative accuracy on test set:"
   ]
  },
  {
   "cell_type": "code",
   "execution_count": 10,
   "metadata": {},
   "outputs": [
    {
     "name": "stdout",
     "output_type": "stream",
     "text": [
      "INFO:tensorflow:Restoring parameters from trained_networks/test_model.ckpt\n",
      "0.015926799864290454\n"
     ]
    }
   ],
   "source": [
    "model_avg_error, actual_vs_predicted = train_eval.evaluate_model_on_a_dataset(\"trained_networks/test_model.ckpt\", nn_output,nn_input, X_test, y_test, y_scaler)\n",
    "print(model_avg_error)"
   ]
  },
  {
   "cell_type": "code",
   "execution_count": 11,
   "metadata": {},
   "outputs": [
    {
     "data": {
      "text/plain": [
       "Text(0.5,1,'Actual vs. predicted')"
      ]
     },
     "execution_count": 11,
     "metadata": {},
     "output_type": "execute_result"
    },
    {
     "data": {
      "image/png": "[encoded data removed]",
      "text/plain": [
       "<matplotlib.figure.Figure at 0x1f93f8e2ef0>"
      ]
     },
     "metadata": {},
     "output_type": "display_data"
    }
   ],
   "source": [
    "y_test_sorted = [x[0] for x in actual_vs_predicted]\n",
    "y_test_pred_sorted = [x[1] for x in actual_vs_predicted]\n",
    "plt.plot(y_test_pred_sorted, y_test_sorted)\n",
    "plt.plot(y_test_pred_sorted, y_test_pred_sorted)\n",
    "plt.title(\"Actual vs. predicted\")"
   ]
  },
  {
   "cell_type": "markdown",
   "metadata": {},
   "source": [
    "Evaluation seems to work ok."
   ]
  },
  {
   "cell_type": "markdown",
   "metadata": {},
   "source": [
    "Restore from checkpoint:"
   ]
  },
  {
   "cell_type": "code",
   "execution_count": 12,
   "metadata": {},
   "outputs": [
    {
     "name": "stdout",
     "output_type": "stream",
     "text": [
      "INFO:tensorflow:Restoring parameters from trained_networks/test_model.ckpt\n"
     ]
    }
   ],
   "source": [
    "# close session (if open)\n",
    "try:\n",
    "    sess.close()\n",
    "except:\n",
    "    pass\n",
    "\n",
    "# open new session\n",
    "sess =  tf.Session()\n",
    "\n",
    "saver = tf.train.Saver()\n",
    "saver.restore(sess, \"trained_networks/test_model.ckpt\")"
   ]
  },
  {
   "cell_type": "markdown",
   "metadata": {},
   "source": [
    "Generate a gradient descent trajectory:"
   ]
  },
  {
   "cell_type": "code",
   "execution_count": 11,
   "metadata": {},
   "outputs": [
    {
     "name": "stdout",
     "output_type": "stream",
     "text": [
      "Prediction 46894.921875, rounded: 46888.683594\n",
      "Prediction 41557.691406, rounded: 41605.753906\n",
      "Prediction 39231.582031, rounded: 39225.292969\n",
      "Prediction 38048.019531, rounded: 38086.511719\n",
      "Prediction 37587.140625, rounded: 37589.535156\n",
      "Prediction 37150.460938, rounded: 37164.949219\n",
      "Prediction 36869.613281, rounded: 36868.000000\n",
      "Prediction 36680.125000, rounded: 36686.429688\n",
      "Prediction 36566.257812, rounded: 36573.644531\n",
      "Prediction 36494.878906, rounded: 36493.582031\n",
      "Prediction 36441.726562, rounded: 36444.585938\n",
      "Prediction 36399.996094, rounded: 36402.472656\n",
      "Prediction 36364.925781, rounded: 36363.199219\n",
      "Prediction 36333.625000, rounded: 36335.769531\n",
      "Prediction 36304.128906, rounded: 36316.269531\n",
      "Prediction 36272.976562, rounded: 36275.941406\n",
      "Prediction 36224.941406, rounded: 36230.093750\n",
      "Prediction 35994.167969, rounded: 35996.300781\n",
      "Prediction 34520.683594, rounded: 34538.011719\n",
      "Prediction 34169.554688, rounded: 34170.523438\n",
      "Prediction 33981.644531, rounded: 33980.585938\n",
      "Prediction 33871.921875, rounded: 33880.343750\n",
      "Prediction 33810.312500, rounded: 33829.550781\n",
      "Prediction 33778.121094, rounded: 33791.125000\n",
      "Prediction 33756.386719, rounded: 33765.277344\n",
      "Prediction 33740.003906, rounded: 33747.246094\n",
      "Prediction 33726.703125, rounded: 33717.007812\n",
      "Prediction 33715.699219, rounded: 33717.007812\n",
      "Prediction 33706.226562, rounded: 33714.949219\n",
      "Prediction 33697.906250, rounded: 33709.847656\n",
      "Prediction 33690.476562, rounded: 33687.671875\n",
      "Prediction 33683.753906, rounded: 33680.257812\n",
      "Prediction 33677.613281, rounded: 33679.621094\n",
      "Prediction 33671.960938, rounded: 33683.285156\n",
      "Prediction 33666.722656, rounded: 33680.984375\n",
      "Prediction 33661.839844, rounded: 33675.406250\n",
      "Prediction 33657.269531, rounded: 33675.406250\n",
      "Prediction 33652.992188, rounded: 33674.843750\n",
      "Prediction 33648.964844, rounded: 33673.750000\n",
      "Prediction 33645.175781, rounded: 33673.367188\n",
      "Prediction 33641.597656, rounded: 33632.722656\n",
      "Prediction 33638.230469, rounded: 33625.156250\n",
      "Prediction 33635.042969, rounded: 33625.128906\n",
      "Prediction 33632.035156, rounded: 33624.593750\n",
      "Prediction 33629.191406, rounded: 33623.769531\n",
      "Prediction 33626.500000, rounded: 33622.070312\n",
      "Prediction 33623.960938, rounded: 33622.070312\n",
      "Prediction 33621.562500, rounded: 33619.648438\n",
      "Prediction 33619.285156, rounded: 33620.000000\n",
      "Prediction 33617.128906, rounded: 33617.753906\n",
      "Prediction 33615.089844, rounded: 33617.246094\n",
      "Prediction 33613.152344, rounded: 33617.246094\n",
      "Prediction 33611.316406, rounded: 33616.761719\n",
      "Prediction 33609.558594, rounded: 33615.492188\n",
      "Prediction 33607.890625, rounded: 33608.761719\n",
      "Prediction 33606.296875, rounded: 33606.859375\n",
      "Prediction 33604.773438, rounded: 33606.859375\n",
      "Prediction 33603.320312, rounded: 33606.417969\n",
      "Prediction 33601.925781, rounded: 33605.117188\n",
      "Prediction 33600.582031, rounded: 33605.117188\n",
      "Prediction 33599.296875, rounded: 33604.699219\n",
      "Prediction 33598.058594, rounded: 33604.921875\n",
      "Prediction 33596.867188, rounded: 33604.921875\n",
      "Prediction 33595.710938, rounded: 33604.921875\n",
      "Prediction 33594.605469, rounded: 33604.046875\n",
      "Prediction 33593.527344, rounded: 33603.519531\n",
      "Prediction 33592.496094, rounded: 33603.519531\n",
      "Prediction 33591.488281, rounded: 33603.105469\n",
      "Prediction 33590.519531, rounded: 33603.105469\n",
      "Prediction 33589.582031, rounded: 33603.105469\n",
      "Prediction 33588.667969, rounded: 33601.726562\n",
      "Prediction 33587.781250, rounded: 33601.335938\n",
      "Prediction 33586.914062, rounded: 33601.335938\n",
      "Prediction 33586.082031, rounded: 33601.335938\n",
      "Prediction 33585.273438, rounded: 33601.335938\n",
      "Prediction 33584.488281, rounded: 33600.964844\n",
      "Prediction 33583.718750, rounded: 33600.375000\n",
      "Prediction 33582.972656, rounded: 33598.968750\n",
      "Prediction 33582.250000, rounded: 33598.968750\n",
      "Prediction 33581.546875, rounded: 33598.621094\n",
      "Prediction 33580.851562, rounded: 33598.621094\n",
      "Prediction 33580.179688, rounded: 33598.621094\n",
      "Prediction 33579.531250, rounded: 33598.621094\n",
      "Prediction 33578.894531, rounded: 33598.621094\n",
      "Prediction 33578.273438, rounded: 33598.296875\n",
      "Prediction 33577.667969, rounded: 33596.867188\n",
      "Prediction 33577.078125, rounded: 33590.023438\n",
      "Prediction 33576.500000, rounded: 33590.023438\n",
      "Prediction 33575.937500, rounded: 33590.023438\n",
      "Prediction 33575.390625, rounded: 33589.332031\n",
      "Prediction 33574.851562, rounded: 33589.332031\n",
      "Prediction 33574.324219, rounded: 33589.332031\n",
      "Prediction 33573.812500, rounded: 33589.332031\n",
      "Prediction 33573.312500, rounded: 33589.332031\n",
      "Prediction 33572.824219, rounded: 33589.332031\n",
      "Prediction 33572.339844, rounded: 33589.046875\n",
      "Prediction 33571.871094, rounded: 33587.597656\n",
      "Prediction 33571.414062, rounded: 33568.492188\n",
      "Prediction 33570.964844, rounded: 33568.492188\n",
      "Prediction 33570.523438, rounded: 33568.492188\n"
     ]
    }
   ],
   "source": [
    "updater = MomentumGradientDescent()\n",
    "\n",
    "trajectory = train_eval.generate_gradient_descent_trajectory(sess, nn_output, nn_input, X_scaler, y_scaler, updater, 1000, 10, verbose=True)"
   ]
  },
  {
   "cell_type": "markdown",
   "metadata": {},
   "source": [
    "Seems to work fine."
   ]
  },
  {
   "cell_type": "markdown",
   "metadata": {},
   "source": [
    "Generate several gradient optimization paths for comparison with simulation:"
   ]
  },
  {
   "cell_type": "code",
   "execution_count": 15,
   "metadata": {},
   "outputs": [
    {
     "name": "stdout",
     "output_type": "stream",
     "text": [
      "Generating trajectory 1\n"
     ]
    }
   ],
   "source": [
    "no_of_trajectories = 1 #set this to a higher number to get multiple trajectories\n",
    "\n",
    "updater = NesterovMomentumGradientDescent()\n",
    "\n",
    "trajectories = train_eval.generate_and_join_multiple_gradient_descent_trajectories(sess, no_of_trajectories, nn_output, nn_input, X_scaler, y_scaler, updater, 1000, 100, verbose=True, trajectories_verbose=False)"
   ]
  },
  {
   "cell_type": "code",
   "execution_count": 17,
   "metadata": {},
   "outputs": [
    {
     "name": "stdout",
     "output_type": "stream",
     "text": [
      "Min prediction: 32656.738281\n",
      "Mean prediction: 34621.199219\n",
      "Median prediction: 34669.195312\n"
     ]
    }
   ],
   "source": [
    "predictions_from_trajectories = [x[1] for x in trajectories]\n",
    "print(\"Min prediction: %f\" % min(predictions_from_trajectories))\n",
    "print(\"Mean prediction: %f\" % np.mean(predictions_from_trajectories))\n",
    "print(\"Median prediction: %f\" % np.median(predictions_from_trajectories))"
   ]
  },
  {
   "cell_type": "code",
   "execution_count": 18,
   "metadata": {},
   "outputs": [
    {
     "data": {
      "image/png": "[encoded data removed]",
      "text/plain": [
       "<matplotlib.figure.Figure at 0x255dee27898>"
      ]
     },
     "metadata": {},
     "output_type": "display_data"
    }
   ],
   "source": [
    "_ = plt.hist(predictions_from_trajectories, bins=100)"
   ]
  },
  {
   "cell_type": "markdown",
   "metadata": {},
   "source": [
    "### Comparison with simulator outputs "
   ]
  },
  {
   "cell_type": "markdown",
   "metadata": {},
   "source": [
    "First test if the microservice works"
   ]
  },
  {
   "cell_type": "code",
   "execution_count": 4,
   "metadata": {},
   "outputs": [],
   "source": [
    "simulator_microservice_url = \"http://3.122.113.135:25041/\" #this IP may change"
   ]
  },
  {
   "cell_type": "code",
   "execution_count": 5,
   "metadata": {},
   "outputs": [
    {
     "data": {
      "text/plain": [
       "51389.0"
      ]
     },
     "execution_count": 5,
     "metadata": {},
     "output_type": "execute_result"
    }
   ],
   "source": [
    "import requests\n",
    "import json\n",
    "resp = requests.post(simulator_microservice_url, json={'user':'pgora', 'password':'Ghzf8ftb', 'settings':\"[26,31,11,18,60,15,112,34,37,10,21,52,13,114,15,76,117,18,39,20,81]\"}, headers={'Content-Type': 'application/json'})\n",
    "float(json.loads(resp.text)['score'])"
   ]
  },
  {
   "cell_type": "markdown",
   "metadata": {},
   "source": [
    "Now generate a test set based on trajectories and the corresponding simulation results:"
   ]
  },
  {
   "cell_type": "code",
   "execution_count": 32,
   "metadata": {},
   "outputs": [
    {
     "name": "stdout",
     "output_type": "stream",
     "text": [
      "Creating queues\n",
      "Getting locks\n",
      "Filling the queue\n",
      "Starting the threads\n",
      "Processing point: [45, 66, 62, 93, 92, 39, 52, 70, 38, 94, 27, 74, 45, 69, 71, 71, 44, 55, 73, 26, 85]\n",
      "Processing point: [40, 22, 49, 78, 96, 38, 82, 73, 45, 107, 37, 46, 40, 40, 20, 38, 31, 26, 45, 34, 113]\n",
      "Processing point: [40, 22, 50, 78, 94, 34, 81, 76, 61, 108, 37, 46, 41, 40, 20, 37, 32, 26, 45, 35, 117]\n",
      "Processing point: [40, 22, 50, 78, 94, 29, 81, 78, 77, 108, 37, 46, 41, 40, 20, 37, 32, 26, 45, 35, 118]\n",
      "Processing point: [40, 22, 50, 78, 94, 25, 81, 81, 87, 108, 37, 46, 41, 40, 20, 37, 32, 26, 45, 35, 119]\n",
      "Processing point: [40, 22, 50, 78, 94, 21, 81, 84, 93, 108, 37, 46, 41, 40, 20, 37, 32, 26, 45, 35, 119]\n",
      "Processing point: [40, 22, 50, 78, 94, 18, 81, 86, 98, 108, 37, 46, 41, 40, 20, 37, 32, 26, 45, 35, 119]\n",
      "Processing point: [40, 22, 50, 78, 94, 16, 81, 88, 101, 108, 37, 46, 41, 40, 20, 37, 32, 26, 45, 35, 119]\n",
      "Processing point: [40, 22, 50, 78, 94, 14, 81, 90, 104, 108, 37, 46, 41, 40, 20, 37, 32, 26, 45, 35, 119]\n",
      "Processing point: [40, 22, 50, 78, 95, 12, 81, 92, 106, 108, 37, 46, 41, 40, 20, 37, 32, 26, 45, 35, 0]\n",
      "([40, 22, 50, 78, 94, 34, 81, 76, 61, 108, 37, 46, 41, 40, 20, 37, 32, 26, 45, 35, 117], 34600.0)\n",
      "([40, 22, 50, 78, 94, 21, 81, 84, 93, 108, 37, 46, 41, 40, 20, 37, 32, 26, 45, 35, 119], 34230.0)\n",
      "([45, 66, 62, 93, 92, 39, 52, 70, 38, 94, 27, 74, 45, 69, 71, 71, 44, 55, 73, 26, 85], 44401.0)\n",
      "([40, 22, 50, 78, 94, 16, 81, 88, 101, 108, 37, 46, 41, 40, 20, 37, 32, 26, 45, 35, 119], 34824.0)\n",
      "([40, 22, 50, 78, 94, 29, 81, 78, 77, 108, 37, 46, 41, 40, 20, 37, 32, 26, 45, 35, 118], 34179.0)\n",
      "([40, 22, 49, 78, 96, 38, 82, 73, 45, 107, 37, 46, 40, 40, 20, 38, 31, 26, 45, 34, 113], 33874.0)\n",
      "([40, 22, 50, 78, 94, 18, 81, 86, 98, 108, 37, 46, 41, 40, 20, 37, 32, 26, 45, 35, 119], 34391.0)\n",
      "([40, 22, 50, 78, 94, 25, 81, 81, 87, 108, 37, 46, 41, 40, 20, 37, 32, 26, 45, 35, 119], 34219.0)\n",
      "([40, 22, 50, 78, 95, 12, 81, 92, 106, 108, 37, 46, 41, 40, 20, 37, 32, 26, 45, 35, 0], 34259.0)\n",
      "([40, 22, 50, 78, 94, 14, 81, 90, 104, 108, 37, 46, 41, 40, 20, 37, 32, 26, 45, 35, 119], 34540.0)\n"
     ]
    }
   ],
   "source": [
    "# set this equal to the number of threads in the simulator virtual machine\n",
    "no_of_threads = 8\n",
    "\n",
    "simulation_test_X, simulation_test_y = train_eval.generate_test_set_from_trajectory_points(trajectories, no_of_threads, simulator_microservice_url, verbose=True)\n",
    "# simulation test set needs to be scaled before plugging it into a network\n",
    "simulation_test_X = X_scaler.transform(simulation_test_X)\n",
    "simulation_test_y = y_scaler.transform(simulation_test_y.reshape(-1,1)).reshape(-1)"
   ]
  },
  {
   "cell_type": "markdown",
   "metadata": {},
   "source": [
    "Evaluate the net on the test set created above:"
   ]
  },
  {
   "cell_type": "code",
   "execution_count": 34,
   "metadata": {},
   "outputs": [
    {
     "name": "stdout",
     "output_type": "stream",
     "text": [
      "INFO:tensorflow:Restoring parameters from trained_networks/test_model.ckpt\n",
      "0.020770852733328318\n"
     ]
    }
   ],
   "source": [
    "model_avg_simulation_error, actual_simulation_vs_predicted = train_eval.evaluate_model_on_a_dataset(\"trained_networks/test_model.ckpt\", nn_output,nn_input, simulation_test_X, simulation_test_y, y_scaler)\n",
    "print(model_avg_simulation_error)"
   ]
  },
  {
   "cell_type": "code",
   "execution_count": 36,
   "metadata": {},
   "outputs": [
    {
     "data": {
      "text/plain": [
       "Text(0.5,1,'Actual vs. predicted')"
      ]
     },
     "execution_count": 36,
     "metadata": {},
     "output_type": "execute_result"
    },
    {
     "data": {
      "image/png": "[encoded data removed]",
      "text/plain": [
       "<matplotlib.figure.Figure at 0x1f93cf11f98>"
      ]
     },
     "metadata": {},
     "output_type": "display_data"
    }
   ],
   "source": [
    "y_simulation_test_sorted = [x[0] for x in actual_simulation_vs_predicted]\n",
    "y_simulation_test_pred_sorted = [x[1] for x in actual_simulation_vs_predicted]\n",
    "plt.plot(y_simulation_test_pred_sorted, y_simulation_test_sorted)\n",
    "plt.plot(y_simulation_test_pred_sorted, y_simulation_test_pred_sorted)\n",
    "plt.title(\"Actual vs. predicted\")"
   ]
  },
  {
   "cell_type": "markdown",
   "metadata": {},
   "source": [
    "**NOTE:** Just a quick test - meaningful results obtained obtained in the main experiment run outside this notebook"
   ]
  },
  {
   "cell_type": "markdown",
   "metadata": {},
   "source": [
    "### Random graph topology experiments"
   ]
  },
  {
   "cell_type": "markdown",
   "metadata": {},
   "source": [
    "Testing random graph topologies:"
   ]
  },
  {
   "cell_type": "code",
   "execution_count": 7,
   "metadata": {},
   "outputs": [
    {
     "data": {
      "image/png": "[encoded data removed]",
      "text/plain": [
       "<matplotlib.figure.Figure at 0x21c90834ac8>"
      ]
     },
     "metadata": {},
     "output_type": "display_data"
    },
    {
     "name": "stdout",
     "output_type": "stream",
     "text": [
      "Distance: 80, 80 (should be equal)\n"
     ]
    }
   ],
   "source": [
    "random_adj_matrix = graph_utils.generate_random_adjacency_matrix(21, 48)\n",
    "\n",
    "plt.imshow(random_adj_matrix, cmap=\"hot\")\n",
    "plt.show()\n",
    "\n",
    "#random_adj_matrix\n",
    "\n",
    "print(\"Distance: %d, %d (should be equal)\" % \n",
    "      (graph_utils.undirected_symmetric_difference(ochota_adj_matrix, random_adj_matrix),\n",
    "       graph_utils.undirected_symmetric_difference(random_adj_matrix, ochota_adj_matrix)))"
   ]
  },
  {
   "cell_type": "code",
   "execution_count": 8,
   "metadata": {},
   "outputs": [
    {
     "data": {
      "image/png": "[encoded data removed]",
      "text/plain": [
       "<matplotlib.figure.Figure at 0x21c90349ac8>"
      ]
     },
     "metadata": {},
     "output_type": "display_data"
    }
   ],
   "source": [
    "for i in range(5):\n",
    "    random_adj_matrix = graph_utils.generate_random_adjacency_matrix_with_fixed_symmetric_difference(i, ochota_adj_matrix)\n",
    "    plt.subplot(151+i)\n",
    "    plt.imshow(random_adj_matrix, cmap=\"hot\")\n",
    "plt.show()"
   ]
  },
  {
   "cell_type": "markdown",
   "metadata": {},
   "source": [
    "Generate many random graph topologies, train for each of them:"
   ]
  },
  {
   "cell_type": "code",
   "execution_count": 7,
   "metadata": {
    "scrolled": true
   },
   "outputs": [
    {
     "name": "stdout",
     "output_type": "stream",
     "text": [
      "Constructing random adjacency matrix with symmetric diff 9\n",
      "21 21\n"
     ]
    },
    {
     "data": {
      "image/png": "[encoded data removed]",
      "text/plain": [
       "<matplotlib.figure.Figure at 0x1eee9815ef0>"
      ]
     },
     "metadata": {},
     "output_type": "display_data"
    },
    {
     "name": "stdout",
     "output_type": "stream",
     "text": [
      "Constructing graph neural net\n",
      "Training network with symmetric diff 9\n",
      "Test loss: 1.047199, batch loss: 1.008966, model saved under trained_networks/random_model_tmp.ckpt\n",
      "Test loss: 0.402060, batch loss: 0.372220, model saved under trained_networks/random_model_tmp.ckpt\n",
      "Test loss: 0.293666, batch loss: 0.306077, model saved under trained_networks/random_model_tmp.ckpt\n",
      "Test loss: 0.232332, batch loss: 0.226070, model saved under trained_networks/random_model_tmp.ckpt\n",
      "Test loss: 0.219599, batch loss: 0.219199, model saved under trained_networks/random_model_tmp.ckpt\n",
      "Test loss: 0.190193, batch loss: 0.172811, model saved under trained_networks/random_model_tmp.ckpt\n",
      "Test loss: 0.175762, batch loss: 0.165930, model saved under trained_networks/random_model_tmp.ckpt\n",
      "Test loss: 0.169464, batch loss: 0.176569, model saved under trained_networks/random_model_tmp.ckpt\n",
      "Test loss: 0.163128, batch loss: 0.165233, model saved under trained_networks/random_model_tmp.ckpt\n",
      "Test loss: 0.156918, batch loss: 0.155025, model saved under trained_networks/random_model_tmp.ckpt\n",
      "Test loss: 0.154162, batch loss: 0.165439, model saved under trained_networks/random_model_tmp.ckpt\n",
      "Test loss: 0.150127, batch loss: 0.157485, model saved under trained_networks/random_model_tmp.ckpt\n",
      "Test loss: 0.148860, batch loss: 0.142494, model saved under trained_networks/random_model_tmp.ckpt\n",
      "Test loss: 0.146235, batch loss: 0.139968, model saved under trained_networks/random_model_tmp.ckpt\n",
      "Test loss: 0.143303, batch loss: 0.138822, model saved under trained_networks/random_model_tmp.ckpt\n",
      "Test loss: 0.141943, batch loss: 0.148006, model saved under trained_networks/random_model_tmp.ckpt\n",
      "Test loss: 0.138221, batch loss: 0.142407, model saved under trained_networks/random_model_tmp.ckpt\n",
      "Test loss: 0.139568, batch loss: 0.131312, model saved under trained_networks/random_model_tmp.ckpt\n",
      "Test loss: 0.135623, batch loss: 0.129640, model saved under trained_networks/random_model_tmp.ckpt\n",
      "Test loss: 0.135135, batch loss: 0.132804, model saved under trained_networks/random_model_tmp.ckpt\n",
      "Test loss: 0.131258, batch loss: 0.123631, model saved under trained_networks/random_model_tmp.ckpt\n",
      "Test loss: 0.130710, batch loss: 0.132025, model saved under trained_networks/random_model_tmp.ckpt\n",
      "Test loss: 0.133204, batch loss: 0.127592, model saved under trained_networks/random_model_tmp.ckpt\n",
      "Test loss: 0.125623, batch loss: 0.113889, model saved under trained_networks/random_model_tmp.ckpt\n",
      "Test loss: 0.123007, batch loss: 0.121938, model saved under trained_networks/random_model_tmp.ckpt\n",
      "Test loss: 0.122532, batch loss: 0.114919, model saved under trained_networks/random_model_tmp.ckpt\n",
      "Test loss: 0.121100, batch loss: 0.114615, model saved under trained_networks/random_model_tmp.ckpt\n",
      "Test loss: 0.120531, batch loss: 0.116962, model saved under trained_networks/random_model_tmp.ckpt\n",
      "Test loss: 0.120959, batch loss: 0.110055, model saved under trained_networks/random_model_tmp.ckpt\n",
      "Test loss: 0.119264, batch loss: 0.112188, model saved under trained_networks/random_model_tmp.ckpt\n",
      "INFO:tensorflow:Restoring parameters from trained_networks/random_model_tmp.ckpt\n",
      "(9, 0.01823788708024116, 0.1192639)\n",
      "Constructing random adjacency matrix with symmetric diff 12\n",
      "21 21\n"
     ]
    },
    {
     "data": {
      "image/png": "[encoded data removed]",
      "text/plain": [
       "<matplotlib.figure.Figure at 0x1eeec5a1b00>"
      ]
     },
     "metadata": {},
     "output_type": "display_data"
    },
    {
     "name": "stdout",
     "output_type": "stream",
     "text": [
      "Constructing graph neural net\n",
      "Training network with symmetric diff 12\n",
      "Test loss: 1.077768, batch loss: 1.079691, model saved under trained_networks/random_model_tmp.ckpt\n",
      "Test loss: 0.365071, batch loss: 0.338486, model saved under trained_networks/random_model_tmp.ckpt\n",
      "Test loss: 0.269846, batch loss: 0.296396, model saved under trained_networks/random_model_tmp.ckpt\n",
      "Test loss: 0.215017, batch loss: 0.201232, model saved under trained_networks/random_model_tmp.ckpt\n",
      "Test loss: 0.223096, batch loss: 0.217597, model saved under trained_networks/random_model_tmp.ckpt\n",
      "Test loss: 0.187949, batch loss: 0.185032, model saved under trained_networks/random_model_tmp.ckpt\n",
      "Test loss: 0.177786, batch loss: 0.171363, model saved under trained_networks/random_model_tmp.ckpt\n",
      "Test loss: 0.173191, batch loss: 0.182442, model saved under trained_networks/random_model_tmp.ckpt\n",
      "Test loss: 0.166933, batch loss: 0.161187, model saved under trained_networks/random_model_tmp.ckpt\n",
      "Test loss: 0.160932, batch loss: 0.163401, model saved under trained_networks/random_model_tmp.ckpt\n",
      "Test loss: 0.157493, batch loss: 0.164515, model saved under trained_networks/random_model_tmp.ckpt\n",
      "Test loss: 0.153386, batch loss: 0.158593, model saved under trained_networks/random_model_tmp.ckpt\n",
      "Test loss: 0.154255, batch loss: 0.149185, model saved under trained_networks/random_model_tmp.ckpt\n",
      "Test loss: 0.147495, batch loss: 0.139353, model saved under trained_networks/random_model_tmp.ckpt\n",
      "Test loss: 0.145026, batch loss: 0.144662, model saved under trained_networks/random_model_tmp.ckpt\n",
      "Test loss: 0.144047, batch loss: 0.149668, model saved under trained_networks/random_model_tmp.ckpt\n",
      "Test loss: 0.138880, batch loss: 0.139864, model saved under trained_networks/random_model_tmp.ckpt\n",
      "Test loss: 0.141075, batch loss: 0.139481, model saved under trained_networks/random_model_tmp.ckpt\n",
      "Test loss: 0.136427, batch loss: 0.130914, model saved under trained_networks/random_model_tmp.ckpt\n",
      "Test loss: 0.134837, batch loss: 0.136630, model saved under trained_networks/random_model_tmp.ckpt\n",
      "Test loss: 0.133008, batch loss: 0.139245, model saved under trained_networks/random_model_tmp.ckpt\n",
      "Test loss: 0.131118, batch loss: 0.132417, model saved under trained_networks/random_model_tmp.ckpt\n",
      "Test loss: 0.130260, batch loss: 0.133326, model saved under trained_networks/random_model_tmp.ckpt\n",
      "Test loss: 0.132997, batch loss: 0.123580, model saved under trained_networks/random_model_tmp.ckpt\n",
      "Test loss: 0.125262, batch loss: 0.129417, model saved under trained_networks/random_model_tmp.ckpt\n",
      "Test loss: 0.130877, batch loss: 0.122846, model saved under trained_networks/random_model_tmp.ckpt\n",
      "Test loss: 0.123513, batch loss: 0.113125, model saved under trained_networks/random_model_tmp.ckpt\n",
      "Test loss: 0.124012, batch loss: 0.125597, model saved under trained_networks/random_model_tmp.ckpt\n",
      "Test loss: 0.123368, batch loss: 0.114087, model saved under trained_networks/random_model_tmp.ckpt\n",
      "Test loss: 0.122974, batch loss: 0.120396, model saved under trained_networks/random_model_tmp.ckpt\n",
      "INFO:tensorflow:Restoring parameters from trained_networks/random_model_tmp.ckpt\n",
      "(12, 0.018552618919112356, 0.12297411)\n",
      "Constructing random adjacency matrix with symmetric diff 15\n",
      "21 21\n"
     ]
    },
    {
     "data": {
      "image/png": "[encoded data removed]",
      "text/plain": [
       "<matplotlib.figure.Figure at 0x1eef7e09e48>"
      ]
     },
     "metadata": {},
     "output_type": "display_data"
    },
    {
     "name": "stdout",
     "output_type": "stream",
     "text": [
      "Constructing graph neural net\n",
      "Training network with symmetric diff 15\n",
      "Test loss: 1.077955, batch loss: 1.078014, model saved under trained_networks/random_model_tmp.ckpt\n",
      "Test loss: 0.465968, batch loss: 0.452226, model saved under trained_networks/random_model_tmp.ckpt\n",
      "Test loss: 0.345890, batch loss: 0.344625, model saved under trained_networks/random_model_tmp.ckpt\n",
      "Test loss: 0.286405, batch loss: 0.287559, model saved under trained_networks/random_model_tmp.ckpt\n",
      "Test loss: 0.258496, batch loss: 0.266453, model saved under trained_networks/random_model_tmp.ckpt\n",
      "Test loss: 0.244006, batch loss: 0.232720, model saved under trained_networks/random_model_tmp.ckpt\n",
      "Test loss: 0.241621, batch loss: 0.216430, model saved under trained_networks/random_model_tmp.ckpt\n",
      "Test loss: 0.224289, batch loss: 0.224364, model saved under trained_networks/random_model_tmp.ckpt\n",
      "Test loss: 0.216798, batch loss: 0.228745, model saved under trained_networks/random_model_tmp.ckpt\n",
      "Test loss: 0.209041, batch loss: 0.214762, model saved under trained_networks/random_model_tmp.ckpt\n",
      "Test loss: 0.212412, batch loss: 0.205153, model saved under trained_networks/random_model_tmp.ckpt\n",
      "Test loss: 0.208903, batch loss: 0.209481, model saved under trained_networks/random_model_tmp.ckpt\n",
      "Test loss: 0.200310, batch loss: 0.199449, model saved under trained_networks/random_model_tmp.ckpt\n",
      "Test loss: 0.199388, batch loss: 0.173874, model saved under trained_networks/random_model_tmp.ckpt\n",
      "Test loss: 0.200279, batch loss: 0.200527, model saved under trained_networks/random_model_tmp.ckpt\n",
      "Test loss: 0.192554, batch loss: 0.186818, model saved under trained_networks/random_model_tmp.ckpt\n",
      "Test loss: 0.197131, batch loss: 0.193297, model saved under trained_networks/random_model_tmp.ckpt\n",
      "Test loss: 0.186562, batch loss: 0.185945, model saved under trained_networks/random_model_tmp.ckpt\n",
      "Test loss: 0.185293, batch loss: 0.179591, model saved under trained_networks/random_model_tmp.ckpt\n",
      "Test loss: 0.184970, batch loss: 0.181786, model saved under trained_networks/random_model_tmp.ckpt\n",
      "Test loss: 0.184461, batch loss: 0.176065, model saved under trained_networks/random_model_tmp.ckpt\n",
      "Test loss: 0.183152, batch loss: 0.182210, model saved under trained_networks/random_model_tmp.ckpt\n",
      "Test loss: 0.181975, batch loss: 0.184043, model saved under trained_networks/random_model_tmp.ckpt\n",
      "Test loss: 0.178657, batch loss: 0.156944, model saved under trained_networks/random_model_tmp.ckpt\n",
      "Test loss: 0.176648, batch loss: 0.168056, model saved under trained_networks/random_model_tmp.ckpt\n",
      "Test loss: 0.173288, batch loss: 0.161050, model saved under trained_networks/random_model_tmp.ckpt\n",
      "Test loss: 0.168711, batch loss: 0.154851, model saved under trained_networks/random_model_tmp.ckpt\n",
      "Test loss: 0.168675, batch loss: 0.162797, model saved under trained_networks/random_model_tmp.ckpt\n",
      "Test loss: 0.161823, batch loss: 0.150193, model saved under trained_networks/random_model_tmp.ckpt\n",
      "Test loss: 0.163647, batch loss: 0.146531, model saved under trained_networks/random_model_tmp.ckpt\n",
      "INFO:tensorflow:Restoring parameters from trained_networks/random_model_tmp.ckpt\n",
      "(15, 0.02156076919362241, 0.16364732)\n",
      "Constructing random adjacency matrix with symmetric diff 18\n",
      "20 21\n",
      "21 21\n"
     ]
    },
    {
     "data": {
      "image/png": "[encoded data removed]",
      "text/plain": [
       "<matplotlib.figure.Figure at 0x1eeea75e7f0>"
      ]
     },
     "metadata": {},
     "output_type": "display_data"
    },
    {
     "name": "stdout",
     "output_type": "stream",
     "text": [
      "Constructing graph neural net\n",
      "Training network with symmetric diff 18\n",
      "Test loss: 1.081496, batch loss: 1.082605, model saved under trained_networks/random_model_tmp.ckpt\n",
      "Test loss: 0.466951, batch loss: 0.425778, model saved under trained_networks/random_model_tmp.ckpt\n",
      "Test loss: 0.261538, batch loss: 0.262675, model saved under trained_networks/random_model_tmp.ckpt\n",
      "Test loss: 0.206368, batch loss: 0.191028, model saved under trained_networks/random_model_tmp.ckpt\n",
      "Test loss: 0.200735, batch loss: 0.206990, model saved under trained_networks/random_model_tmp.ckpt\n",
      "Test loss: 0.175596, batch loss: 0.176453, model saved under trained_networks/random_model_tmp.ckpt\n",
      "Test loss: 0.170974, batch loss: 0.148153, model saved under trained_networks/random_model_tmp.ckpt\n",
      "Test loss: 0.162944, batch loss: 0.174535, model saved under trained_networks/random_model_tmp.ckpt\n",
      "Test loss: 0.156518, batch loss: 0.153884, model saved under trained_networks/random_model_tmp.ckpt\n",
      "Test loss: 0.153312, batch loss: 0.155716, model saved under trained_networks/random_model_tmp.ckpt\n",
      "Test loss: 0.157991, batch loss: 0.161099, model saved under trained_networks/random_model_tmp.ckpt\n",
      "Test loss: 0.153916, batch loss: 0.154854, model saved under trained_networks/random_model_tmp.ckpt\n",
      "Test loss: 0.147687, batch loss: 0.144179, model saved under trained_networks/random_model_tmp.ckpt\n",
      "Test loss: 0.143807, batch loss: 0.136646, model saved under trained_networks/random_model_tmp.ckpt\n",
      "Test loss: 0.151449, batch loss: 0.141392, model saved under trained_networks/random_model_tmp.ckpt\n",
      "Test loss: 0.143259, batch loss: 0.142335, model saved under trained_networks/random_model_tmp.ckpt\n",
      "Test loss: 0.138249, batch loss: 0.140863, model saved under trained_networks/random_model_tmp.ckpt\n",
      "Test loss: 0.141683, batch loss: 0.142108, model saved under trained_networks/random_model_tmp.ckpt\n",
      "Test loss: 0.139065, batch loss: 0.131987, model saved under trained_networks/random_model_tmp.ckpt\n",
      "Test loss: 0.145865, batch loss: 0.132945, model saved under trained_networks/random_model_tmp.ckpt\n",
      "Test loss: 0.133278, batch loss: 0.130183, model saved under trained_networks/random_model_tmp.ckpt\n",
      "Test loss: 0.134532, batch loss: 0.133733, model saved under trained_networks/random_model_tmp.ckpt\n",
      "Test loss: 0.130499, batch loss: 0.137290, model saved under trained_networks/random_model_tmp.ckpt\n",
      "Test loss: 0.131554, batch loss: 0.121205, model saved under trained_networks/random_model_tmp.ckpt\n",
      "Test loss: 0.129588, batch loss: 0.115542, model saved under trained_networks/random_model_tmp.ckpt\n",
      "Test loss: 0.124725, batch loss: 0.125528, model saved under trained_networks/random_model_tmp.ckpt\n",
      "Test loss: 0.123073, batch loss: 0.117271, model saved under trained_networks/random_model_tmp.ckpt\n",
      "Test loss: 0.126090, batch loss: 0.118469, model saved under trained_networks/random_model_tmp.ckpt\n",
      "Test loss: 0.122550, batch loss: 0.108948, model saved under trained_networks/random_model_tmp.ckpt\n",
      "Test loss: 0.122727, batch loss: 0.112710, model saved under trained_networks/random_model_tmp.ckpt\n",
      "INFO:tensorflow:Restoring parameters from trained_networks/random_model_tmp.ckpt\n",
      "(18, 0.018427955328282765, 0.122727305)\n",
      "Constructing random adjacency matrix with symmetric diff 21\n",
      "21 21\n"
     ]
    },
    {
     "data": {
      "image/png": "[encoded data removed]",
      "text/plain": [
       "<matplotlib.figure.Figure at 0x1eeec062908>"
      ]
     },
     "metadata": {},
     "output_type": "display_data"
    },
    {
     "name": "stdout",
     "output_type": "stream",
     "text": [
      "Constructing graph neural net\n",
      "Training network with symmetric diff 21\n",
      "Test loss: 1.077446, batch loss: 1.068067, model saved under trained_networks/random_model_tmp.ckpt\n",
      "Test loss: 0.372558, batch loss: 0.351598, model saved under trained_networks/random_model_tmp.ckpt\n",
      "Test loss: 0.290323, batch loss: 0.333953, model saved under trained_networks/random_model_tmp.ckpt\n",
      "Test loss: 0.248953, batch loss: 0.235479, model saved under trained_networks/random_model_tmp.ckpt\n",
      "Test loss: 0.237926, batch loss: 0.238871, model saved under trained_networks/random_model_tmp.ckpt\n",
      "Test loss: 0.219323, batch loss: 0.219130, model saved under trained_networks/random_model_tmp.ckpt\n",
      "Test loss: 0.219527, batch loss: 0.190415, model saved under trained_networks/random_model_tmp.ckpt\n",
      "Test loss: 0.197560, batch loss: 0.206142, model saved under trained_networks/random_model_tmp.ckpt\n",
      "Test loss: 0.201981, batch loss: 0.214508, model saved under trained_networks/random_model_tmp.ckpt\n",
      "Test loss: 0.189311, batch loss: 0.190307, model saved under trained_networks/random_model_tmp.ckpt\n",
      "Test loss: 0.186645, batch loss: 0.206953, model saved under trained_networks/random_model_tmp.ckpt\n",
      "Test loss: 0.181076, batch loss: 0.192196, model saved under trained_networks/random_model_tmp.ckpt\n",
      "Test loss: 0.191392, batch loss: 0.189428, model saved under trained_networks/random_model_tmp.ckpt\n",
      "Test loss: 0.175744, batch loss: 0.167213, model saved under trained_networks/random_model_tmp.ckpt\n",
      "Test loss: 0.181476, batch loss: 0.176392, model saved under trained_networks/random_model_tmp.ckpt\n",
      "Test loss: 0.172584, batch loss: 0.181176, model saved under trained_networks/random_model_tmp.ckpt\n",
      "Test loss: 0.172146, batch loss: 0.180417, model saved under trained_networks/random_model_tmp.ckpt\n",
      "Test loss: 0.168387, batch loss: 0.178454, model saved under trained_networks/random_model_tmp.ckpt\n",
      "Test loss: 0.168855, batch loss: 0.152168, model saved under trained_networks/random_model_tmp.ckpt\n",
      "Test loss: 0.173130, batch loss: 0.164415, model saved under trained_networks/random_model_tmp.ckpt\n",
      "Test loss: 0.165541, batch loss: 0.165199, model saved under trained_networks/random_model_tmp.ckpt\n",
      "Test loss: 0.167422, batch loss: 0.163121, model saved under trained_networks/random_model_tmp.ckpt\n",
      "Test loss: 0.162282, batch loss: 0.164074, model saved under trained_networks/random_model_tmp.ckpt\n",
      "Test loss: 0.160536, batch loss: 0.156031, model saved under trained_networks/random_model_tmp.ckpt\n",
      "Test loss: 0.160357, batch loss: 0.156715, model saved under trained_networks/random_model_tmp.ckpt\n",
      "Test loss: 0.159004, batch loss: 0.150723, model saved under trained_networks/random_model_tmp.ckpt\n",
      "Test loss: 0.161687, batch loss: 0.149610, model saved under trained_networks/random_model_tmp.ckpt\n",
      "Test loss: 0.157778, batch loss: 0.160672, model saved under trained_networks/random_model_tmp.ckpt\n",
      "Test loss: 0.156954, batch loss: 0.157616, model saved under trained_networks/random_model_tmp.ckpt\n",
      "Test loss: 0.154576, batch loss: 0.157106, model saved under trained_networks/random_model_tmp.ckpt\n",
      "INFO:tensorflow:Restoring parameters from trained_networks/random_model_tmp.ckpt\n",
      "(21, 0.02089792711425441, 0.1545757)\n",
      "Constructing random adjacency matrix with symmetric diff 24\n",
      "21 21\n"
     ]
    },
    {
     "data": {
      "image/png": "[encoded data removed]",
      "text/plain": [
       "<matplotlib.figure.Figure at 0x1eefa1cf278>"
      ]
     },
     "metadata": {},
     "output_type": "display_data"
    },
    {
     "name": "stdout",
     "output_type": "stream",
     "text": [
      "Constructing graph neural net\n",
      "Training network with symmetric diff 24\n",
      "Test loss: 1.024014, batch loss: 1.009679, model saved under trained_networks/random_model_tmp.ckpt\n",
      "Test loss: 0.512643, batch loss: 0.495941, model saved under trained_networks/random_model_tmp.ckpt\n",
      "Test loss: 0.408793, batch loss: 0.406128, model saved under trained_networks/random_model_tmp.ckpt\n",
      "Test loss: 0.353240, batch loss: 0.345001, model saved under trained_networks/random_model_tmp.ckpt\n",
      "Test loss: 0.329634, batch loss: 0.347115, model saved under trained_networks/random_model_tmp.ckpt\n",
      "Test loss: 0.316488, batch loss: 0.320815, model saved under trained_networks/random_model_tmp.ckpt\n",
      "Test loss: 0.305758, batch loss: 0.291096, model saved under trained_networks/random_model_tmp.ckpt\n",
      "Test loss: 0.298965, batch loss: 0.304578, model saved under trained_networks/random_model_tmp.ckpt\n",
      "Test loss: 0.290328, batch loss: 0.290970, model saved under trained_networks/random_model_tmp.ckpt\n",
      "Test loss: 0.273095, batch loss: 0.276978, model saved under trained_networks/random_model_tmp.ckpt\n",
      "Test loss: 0.254199, batch loss: 0.255617, model saved under trained_networks/random_model_tmp.ckpt\n",
      "Test loss: 0.225422, batch loss: 0.226842, model saved under trained_networks/random_model_tmp.ckpt\n",
      "Test loss: 0.204765, batch loss: 0.205576, model saved under trained_networks/random_model_tmp.ckpt\n",
      "Test loss: 0.197068, batch loss: 0.180639, model saved under trained_networks/random_model_tmp.ckpt\n",
      "Test loss: 0.193580, batch loss: 0.198952, model saved under trained_networks/random_model_tmp.ckpt\n",
      "Test loss: 0.189799, batch loss: 0.196932, model saved under trained_networks/random_model_tmp.ckpt\n",
      "Test loss: 0.184415, batch loss: 0.195360, model saved under trained_networks/random_model_tmp.ckpt\n",
      "Test loss: 0.188766, batch loss: 0.186036, model saved under trained_networks/random_model_tmp.ckpt\n",
      "Test loss: 0.179903, batch loss: 0.167455, model saved under trained_networks/random_model_tmp.ckpt\n",
      "Test loss: 0.185904, batch loss: 0.187707, model saved under trained_networks/random_model_tmp.ckpt\n",
      "Test loss: 0.175611, batch loss: 0.172721, model saved under trained_networks/random_model_tmp.ckpt\n",
      "Test loss: 0.173690, batch loss: 0.173393, model saved under trained_networks/random_model_tmp.ckpt\n",
      "Test loss: 0.173066, batch loss: 0.176159, model saved under trained_networks/random_model_tmp.ckpt\n",
      "Test loss: 0.172472, batch loss: 0.169352, model saved under trained_networks/random_model_tmp.ckpt\n",
      "Test loss: 0.175433, batch loss: 0.164221, model saved under trained_networks/random_model_tmp.ckpt\n",
      "Test loss: 0.171387, batch loss: 0.173399, model saved under trained_networks/random_model_tmp.ckpt\n",
      "Test loss: 0.168549, batch loss: 0.166883, model saved under trained_networks/random_model_tmp.ckpt\n",
      "Test loss: 0.165205, batch loss: 0.170728, model saved under trained_networks/random_model_tmp.ckpt\n",
      "Test loss: 0.162964, batch loss: 0.155227, model saved under trained_networks/random_model_tmp.ckpt\n",
      "Test loss: 0.162134, batch loss: 0.156400, model saved under trained_networks/random_model_tmp.ckpt\n",
      "INFO:tensorflow:Restoring parameters from trained_networks/random_model_tmp.ckpt\n",
      "(24, 0.021315609319719302, 0.16213441)\n",
      "Constructing random adjacency matrix with symmetric diff 27\n",
      "21 21\n"
     ]
    },
    {
     "data": {
      "image/png": "[encoded data removed]",
      "text/plain": [
       "<matplotlib.figure.Figure at 0x1eef9fb09b0>"
      ]
     },
     "metadata": {},
     "output_type": "display_data"
    },
    {
     "name": "stdout",
     "output_type": "stream",
     "text": [
      "Constructing graph neural net\n",
      "Training network with symmetric diff 27\n",
      "Test loss: 1.027546, batch loss: 0.992043, model saved under trained_networks/random_model_tmp.ckpt\n",
      "Test loss: 0.541732, batch loss: 0.502618, model saved under trained_networks/random_model_tmp.ckpt\n",
      "Test loss: 0.407766, batch loss: 0.397179, model saved under trained_networks/random_model_tmp.ckpt\n",
      "Test loss: 0.304542, batch loss: 0.297740, model saved under trained_networks/random_model_tmp.ckpt\n",
      "Test loss: 0.253328, batch loss: 0.293839, model saved under trained_networks/random_model_tmp.ckpt\n",
      "Test loss: 0.234525, batch loss: 0.221710, model saved under trained_networks/random_model_tmp.ckpt\n",
      "Test loss: 0.226301, batch loss: 0.212567, model saved under trained_networks/random_model_tmp.ckpt\n",
      "Test loss: 0.211955, batch loss: 0.222076, model saved under trained_networks/random_model_tmp.ckpt\n",
      "Test loss: 0.209185, batch loss: 0.219765, model saved under trained_networks/random_model_tmp.ckpt\n",
      "Test loss: 0.205176, batch loss: 0.201346, model saved under trained_networks/random_model_tmp.ckpt\n",
      "Test loss: 0.195901, batch loss: 0.199571, model saved under trained_networks/random_model_tmp.ckpt\n",
      "Test loss: 0.196941, batch loss: 0.188328, model saved under trained_networks/random_model_tmp.ckpt\n",
      "Test loss: 0.187389, batch loss: 0.193037, model saved under trained_networks/random_model_tmp.ckpt\n",
      "Test loss: 0.184356, batch loss: 0.170361, model saved under trained_networks/random_model_tmp.ckpt\n",
      "Test loss: 0.184189, batch loss: 0.177558, model saved under trained_networks/random_model_tmp.ckpt\n",
      "Test loss: 0.178116, batch loss: 0.171930, model saved under trained_networks/random_model_tmp.ckpt\n",
      "Test loss: 0.173041, batch loss: 0.186477, model saved under trained_networks/random_model_tmp.ckpt\n",
      "Test loss: 0.175811, batch loss: 0.179577, model saved under trained_networks/random_model_tmp.ckpt\n",
      "Test loss: 0.165952, batch loss: 0.156903, model saved under trained_networks/random_model_tmp.ckpt\n",
      "Test loss: 0.172895, batch loss: 0.155019, model saved under trained_networks/random_model_tmp.ckpt\n",
      "Test loss: 0.160852, batch loss: 0.167929, model saved under trained_networks/random_model_tmp.ckpt\n",
      "Test loss: 0.159293, batch loss: 0.154560, model saved under trained_networks/random_model_tmp.ckpt\n",
      "Test loss: 0.157493, batch loss: 0.157617, model saved under trained_networks/random_model_tmp.ckpt\n",
      "Test loss: 0.159160, batch loss: 0.148189, model saved under trained_networks/random_model_tmp.ckpt\n",
      "Test loss: 0.154486, batch loss: 0.143957, model saved under trained_networks/random_model_tmp.ckpt\n",
      "Test loss: 0.152869, batch loss: 0.154985, model saved under trained_networks/random_model_tmp.ckpt\n",
      "Test loss: 0.150406, batch loss: 0.139716, model saved under trained_networks/random_model_tmp.ckpt\n",
      "Test loss: 0.152835, batch loss: 0.148534, model saved under trained_networks/random_model_tmp.ckpt\n",
      "Test loss: 0.148886, batch loss: 0.136087, model saved under trained_networks/random_model_tmp.ckpt\n",
      "Test loss: 0.149815, batch loss: 0.133766, model saved under trained_networks/random_model_tmp.ckpt\n",
      "INFO:tensorflow:Restoring parameters from trained_networks/random_model_tmp.ckpt\n",
      "(27, 0.02050158971713165, 0.1498145)\n",
      "Constructing random adjacency matrix with symmetric diff 30\n",
      "21 21\n"
     ]
    },
    {
     "data": {
      "image/png": "[encoded data removed]",
      "text/plain": [
       "<matplotlib.figure.Figure at 0x1eef8da07f0>"
      ]
     },
     "metadata": {},
     "output_type": "display_data"
    },
    {
     "name": "stdout",
     "output_type": "stream",
     "text": [
      "Constructing graph neural net\n",
      "Training network with symmetric diff 30\n",
      "Test loss: 1.134186, batch loss: 1.091817, model saved under trained_networks/random_model_tmp.ckpt\n",
      "Test loss: 0.567875, batch loss: 0.504339, model saved under trained_networks/random_model_tmp.ckpt\n",
      "Test loss: 0.462017, batch loss: 0.479609, model saved under trained_networks/random_model_tmp.ckpt\n",
      "Test loss: 0.380105, batch loss: 0.374940, model saved under trained_networks/random_model_tmp.ckpt\n",
      "Test loss: 0.279137, batch loss: 0.291783, model saved under trained_networks/random_model_tmp.ckpt\n",
      "Test loss: 0.263524, batch loss: 0.247399, model saved under trained_networks/random_model_tmp.ckpt\n",
      "Test loss: 0.251668, batch loss: 0.241737, model saved under trained_networks/random_model_tmp.ckpt\n",
      "Test loss: 0.242590, batch loss: 0.250889, model saved under trained_networks/random_model_tmp.ckpt\n",
      "Test loss: 0.239789, batch loss: 0.232993, model saved under trained_networks/random_model_tmp.ckpt\n",
      "Test loss: 0.227202, batch loss: 0.215517, model saved under trained_networks/random_model_tmp.ckpt\n",
      "Test loss: 0.222714, batch loss: 0.232207, model saved under trained_networks/random_model_tmp.ckpt\n",
      "Test loss: 0.216578, batch loss: 0.219664, model saved under trained_networks/random_model_tmp.ckpt\n",
      "Test loss: 0.219300, batch loss: 0.211442, model saved under trained_networks/random_model_tmp.ckpt\n",
      "Test loss: 0.212106, batch loss: 0.196672, model saved under trained_networks/random_model_tmp.ckpt\n",
      "Test loss: 0.208229, batch loss: 0.198963, model saved under trained_networks/random_model_tmp.ckpt\n",
      "Test loss: 0.203717, batch loss: 0.195932, model saved under trained_networks/random_model_tmp.ckpt\n",
      "Test loss: 0.199416, batch loss: 0.199289, model saved under trained_networks/random_model_tmp.ckpt\n",
      "Test loss: 0.196583, batch loss: 0.206706, model saved under trained_networks/random_model_tmp.ckpt\n",
      "Test loss: 0.194545, batch loss: 0.190023, model saved under trained_networks/random_model_tmp.ckpt\n",
      "Test loss: 0.195338, batch loss: 0.190105, model saved under trained_networks/random_model_tmp.ckpt\n",
      "Test loss: 0.182106, batch loss: 0.189101, model saved under trained_networks/random_model_tmp.ckpt\n",
      "Test loss: 0.185359, batch loss: 0.183882, model saved under trained_networks/random_model_tmp.ckpt\n",
      "Test loss: 0.179624, batch loss: 0.182913, model saved under trained_networks/random_model_tmp.ckpt\n",
      "Test loss: 0.175176, batch loss: 0.165398, model saved under trained_networks/random_model_tmp.ckpt\n",
      "Test loss: 0.173213, batch loss: 0.168874, model saved under trained_networks/random_model_tmp.ckpt\n",
      "Test loss: 0.171600, batch loss: 0.163183, model saved under trained_networks/random_model_tmp.ckpt\n",
      "Test loss: 0.170638, batch loss: 0.162885, model saved under trained_networks/random_model_tmp.ckpt\n",
      "Test loss: 0.171968, batch loss: 0.173975, model saved under trained_networks/random_model_tmp.ckpt\n",
      "Test loss: 0.168647, batch loss: 0.160150, model saved under trained_networks/random_model_tmp.ckpt\n",
      "Test loss: 0.168011, batch loss: 0.169434, model saved under trained_networks/random_model_tmp.ckpt\n",
      "INFO:tensorflow:Restoring parameters from trained_networks/random_model_tmp.ckpt\n",
      "(30, 0.021699398778580202, 0.16801126)\n",
      "Constructing random adjacency matrix with symmetric diff 33\n",
      "21 21\n"
     ]
    },
    {
     "data": {
      "image/png": "[encoded data removed]",
      "text/plain": [
       "<matplotlib.figure.Figure at 0x1eef75134a8>"
      ]
     },
     "metadata": {},
     "output_type": "display_data"
    },
    {
     "name": "stdout",
     "output_type": "stream",
     "text": [
      "Constructing graph neural net\n",
      "Training network with symmetric diff 33\n",
      "Test loss: 1.075522, batch loss: 1.067181, model saved under trained_networks/random_model_tmp.ckpt\n",
      "Test loss: 0.441453, batch loss: 0.388755, model saved under trained_networks/random_model_tmp.ckpt\n",
      "Test loss: 0.321410, batch loss: 0.324837, model saved under trained_networks/random_model_tmp.ckpt\n",
      "Test loss: 0.289839, batch loss: 0.264851, model saved under trained_networks/random_model_tmp.ckpt\n",
      "Test loss: 0.266775, batch loss: 0.275126, model saved under trained_networks/random_model_tmp.ckpt\n",
      "Test loss: 0.230597, batch loss: 0.243776, model saved under trained_networks/random_model_tmp.ckpt\n",
      "Test loss: 0.221397, batch loss: 0.212207, model saved under trained_networks/random_model_tmp.ckpt\n",
      "Test loss: 0.217075, batch loss: 0.227172, model saved under trained_networks/random_model_tmp.ckpt\n",
      "Test loss: 0.212845, batch loss: 0.212279, model saved under trained_networks/random_model_tmp.ckpt\n",
      "Test loss: 0.205689, batch loss: 0.200184, model saved under trained_networks/random_model_tmp.ckpt\n",
      "Test loss: 0.186826, batch loss: 0.200524, model saved under trained_networks/random_model_tmp.ckpt\n",
      "Test loss: 0.181593, batch loss: 0.190050, model saved under trained_networks/random_model_tmp.ckpt\n",
      "Test loss: 0.175394, batch loss: 0.170460, model saved under trained_networks/random_model_tmp.ckpt\n",
      "Test loss: 0.170492, batch loss: 0.171157, model saved under trained_networks/random_model_tmp.ckpt\n",
      "Test loss: 0.169007, batch loss: 0.161637, model saved under trained_networks/random_model_tmp.ckpt\n",
      "Test loss: 0.166015, batch loss: 0.153224, model saved under trained_networks/random_model_tmp.ckpt\n",
      "Test loss: 0.162958, batch loss: 0.157957, model saved under trained_networks/random_model_tmp.ckpt\n",
      "Test loss: 0.160540, batch loss: 0.152179, model saved under trained_networks/random_model_tmp.ckpt\n",
      "Test loss: 0.157182, batch loss: 0.144325, model saved under trained_networks/random_model_tmp.ckpt\n",
      "Test loss: 0.157448, batch loss: 0.154058, model saved under trained_networks/random_model_tmp.ckpt\n",
      "Test loss: 0.152067, batch loss: 0.160756, model saved under trained_networks/random_model_tmp.ckpt\n",
      "Test loss: 0.153994, batch loss: 0.152229, model saved under trained_networks/random_model_tmp.ckpt\n",
      "Test loss: 0.149749, batch loss: 0.148437, model saved under trained_networks/random_model_tmp.ckpt\n",
      "Test loss: 0.149233, batch loss: 0.142689, model saved under trained_networks/random_model_tmp.ckpt\n",
      "Test loss: 0.145335, batch loss: 0.149100, model saved under trained_networks/random_model_tmp.ckpt\n",
      "Test loss: 0.143274, batch loss: 0.141887, model saved under trained_networks/random_model_tmp.ckpt\n",
      "Test loss: 0.142077, batch loss: 0.129292, model saved under trained_networks/random_model_tmp.ckpt\n",
      "Test loss: 0.143025, batch loss: 0.139462, model saved under trained_networks/random_model_tmp.ckpt\n",
      "Test loss: 0.138907, batch loss: 0.134732, model saved under trained_networks/random_model_tmp.ckpt\n",
      "Test loss: 0.137811, batch loss: 0.133164, model saved under trained_networks/random_model_tmp.ckpt\n",
      "INFO:tensorflow:Restoring parameters from trained_networks/random_model_tmp.ckpt\n",
      "(33, 0.019770493158298045, 0.13781077)\n",
      "Constructing random adjacency matrix with symmetric diff 36\n",
      "21 21\n"
     ]
    },
    {
     "data": {
      "image/png": "[encoded data removed]",
      "text/plain": [
       "<matplotlib.figure.Figure at 0x1eeea082a58>"
      ]
     },
     "metadata": {},
     "output_type": "display_data"
    },
    {
     "name": "stdout",
     "output_type": "stream",
     "text": [
      "Constructing graph neural net\n",
      "Training network with symmetric diff 36\n",
      "Test loss: 1.069873, batch loss: 1.061924, model saved under trained_networks/random_model_tmp.ckpt\n",
      "Test loss: 0.506222, batch loss: 0.461574, model saved under trained_networks/random_model_tmp.ckpt\n",
      "Test loss: 0.361222, batch loss: 0.367480, model saved under trained_networks/random_model_tmp.ckpt\n",
      "Test loss: 0.283576, batch loss: 0.269280, model saved under trained_networks/random_model_tmp.ckpt\n",
      "Test loss: 0.262143, batch loss: 0.255208, model saved under trained_networks/random_model_tmp.ckpt\n",
      "Test loss: 0.228175, batch loss: 0.219139, model saved under trained_networks/random_model_tmp.ckpt\n",
      "Test loss: 0.214251, batch loss: 0.203457, model saved under trained_networks/random_model_tmp.ckpt\n",
      "Test loss: 0.201969, batch loss: 0.216584, model saved under trained_networks/random_model_tmp.ckpt\n",
      "Test loss: 0.198758, batch loss: 0.190688, model saved under trained_networks/random_model_tmp.ckpt\n",
      "Test loss: 0.186244, batch loss: 0.185195, model saved under trained_networks/random_model_tmp.ckpt\n",
      "Test loss: 0.185988, batch loss: 0.191994, model saved under trained_networks/random_model_tmp.ckpt\n",
      "Test loss: 0.174710, batch loss: 0.172343, model saved under trained_networks/random_model_tmp.ckpt\n",
      "Test loss: 0.170860, batch loss: 0.163981, model saved under trained_networks/random_model_tmp.ckpt\n",
      "Test loss: 0.165544, batch loss: 0.156697, model saved under trained_networks/random_model_tmp.ckpt\n",
      "Test loss: 0.170403, batch loss: 0.154533, model saved under trained_networks/random_model_tmp.ckpt\n",
      "Test loss: 0.161323, batch loss: 0.165065, model saved under trained_networks/random_model_tmp.ckpt\n",
      "Test loss: 0.156089, batch loss: 0.155114, model saved under trained_networks/random_model_tmp.ckpt\n",
      "Test loss: 0.155082, batch loss: 0.149375, model saved under trained_networks/random_model_tmp.ckpt\n",
      "Test loss: 0.151862, batch loss: 0.141192, model saved under trained_networks/random_model_tmp.ckpt\n",
      "Test loss: 0.154542, batch loss: 0.154791, model saved under trained_networks/random_model_tmp.ckpt\n",
      "Test loss: 0.148653, batch loss: 0.148419, model saved under trained_networks/random_model_tmp.ckpt\n",
      "Test loss: 0.148608, batch loss: 0.150215, model saved under trained_networks/random_model_tmp.ckpt\n",
      "Test loss: 0.145822, batch loss: 0.148805, model saved under trained_networks/random_model_tmp.ckpt\n",
      "Test loss: 0.144655, batch loss: 0.134312, model saved under trained_networks/random_model_tmp.ckpt\n",
      "Test loss: 0.143497, batch loss: 0.134885, model saved under trained_networks/random_model_tmp.ckpt\n",
      "Test loss: 0.143652, batch loss: 0.136993, model saved under trained_networks/random_model_tmp.ckpt\n",
      "Test loss: 0.141125, batch loss: 0.132833, model saved under trained_networks/random_model_tmp.ckpt\n",
      "Test loss: 0.142987, batch loss: 0.136144, model saved under trained_networks/random_model_tmp.ckpt\n",
      "Test loss: 0.140113, batch loss: 0.129868, model saved under trained_networks/random_model_tmp.ckpt\n",
      "Test loss: 0.138722, batch loss: 0.127813, model saved under trained_networks/random_model_tmp.ckpt\n",
      "INFO:tensorflow:Restoring parameters from trained_networks/random_model_tmp.ckpt\n",
      "(36, 0.019695621550070645, 0.1387222)\n",
      "Constructing random adjacency matrix with symmetric diff 39\n",
      "21 21\n"
     ]
    },
    {
     "data": {
      "image/png": "[encoded data removed]",
      "text/plain": [
       "<matplotlib.figure.Figure at 0x1eef2ddfbe0>"
      ]
     },
     "metadata": {},
     "output_type": "display_data"
    },
    {
     "name": "stdout",
     "output_type": "stream",
     "text": [
      "Constructing graph neural net\n",
      "Training network with symmetric diff 39\n",
      "Test loss: 1.043940, batch loss: 1.007284, model saved under trained_networks/random_model_tmp.ckpt\n",
      "Test loss: 0.812086, batch loss: 0.794245, model saved under trained_networks/random_model_tmp.ckpt\n",
      "Test loss: 0.656367, batch loss: 0.663790, model saved under trained_networks/random_model_tmp.ckpt\n",
      "Test loss: 0.473329, batch loss: 0.503335, model saved under trained_networks/random_model_tmp.ckpt\n",
      "Test loss: 0.427723, batch loss: 0.437674, model saved under trained_networks/random_model_tmp.ckpt\n",
      "Test loss: 0.387589, batch loss: 0.367845, model saved under trained_networks/random_model_tmp.ckpt\n",
      "Test loss: 0.346807, batch loss: 0.318951, model saved under trained_networks/random_model_tmp.ckpt\n",
      "Test loss: 0.330195, batch loss: 0.329714, model saved under trained_networks/random_model_tmp.ckpt\n",
      "Test loss: 0.318597, batch loss: 0.322204, model saved under trained_networks/random_model_tmp.ckpt\n",
      "Test loss: 0.308961, batch loss: 0.300136, model saved under trained_networks/random_model_tmp.ckpt\n",
      "Test loss: 0.296500, batch loss: 0.303443, model saved under trained_networks/random_model_tmp.ckpt\n",
      "Test loss: 0.283651, batch loss: 0.297162, model saved under trained_networks/random_model_tmp.ckpt\n",
      "Test loss: 0.278072, batch loss: 0.257804, model saved under trained_networks/random_model_tmp.ckpt\n",
      "Test loss: 0.274234, batch loss: 0.265325, model saved under trained_networks/random_model_tmp.ckpt\n",
      "Test loss: 0.263769, batch loss: 0.270271, model saved under trained_networks/random_model_tmp.ckpt\n",
      "Test loss: 0.260958, batch loss: 0.246338, model saved under trained_networks/random_model_tmp.ckpt\n",
      "Test loss: 0.260070, batch loss: 0.255014, model saved under trained_networks/random_model_tmp.ckpt\n",
      "Test loss: 0.253492, batch loss: 0.249456, model saved under trained_networks/random_model_tmp.ckpt\n",
      "Test loss: 0.247692, batch loss: 0.229457, model saved under trained_networks/random_model_tmp.ckpt\n",
      "Test loss: 0.246473, batch loss: 0.244336, model saved under trained_networks/random_model_tmp.ckpt\n",
      "Test loss: 0.245402, batch loss: 0.228809, model saved under trained_networks/random_model_tmp.ckpt\n",
      "Test loss: 0.238727, batch loss: 0.241134, model saved under trained_networks/random_model_tmp.ckpt\n",
      "Test loss: 0.232933, batch loss: 0.235187, model saved under trained_networks/random_model_tmp.ckpt\n",
      "Test loss: 0.226510, batch loss: 0.210213, model saved under trained_networks/random_model_tmp.ckpt\n",
      "Test loss: 0.217587, batch loss: 0.205842, model saved under trained_networks/random_model_tmp.ckpt\n",
      "Test loss: 0.215183, batch loss: 0.207733, model saved under trained_networks/random_model_tmp.ckpt\n",
      "Test loss: 0.211414, batch loss: 0.219415, model saved under trained_networks/random_model_tmp.ckpt\n",
      "Test loss: 0.211070, batch loss: 0.208249, model saved under trained_networks/random_model_tmp.ckpt\n",
      "Test loss: 0.212150, batch loss: 0.196499, model saved under trained_networks/random_model_tmp.ckpt\n",
      "Test loss: 0.207262, batch loss: 0.194655, model saved under trained_networks/random_model_tmp.ckpt\n",
      "INFO:tensorflow:Restoring parameters from trained_networks/random_model_tmp.ckpt\n",
      "(39, 0.024185754741329703, 0.2072617)\n",
      "Constructing random adjacency matrix with symmetric diff 42\n",
      "21 21\n"
     ]
    },
    {
     "data": {
      "image/png": "[encoded data removed]",
      "text/plain": [
       "<matplotlib.figure.Figure at 0x1eee97c90b8>"
      ]
     },
     "metadata": {},
     "output_type": "display_data"
    },
    {
     "name": "stdout",
     "output_type": "stream",
     "text": [
      "Constructing graph neural net\n",
      "Training network with symmetric diff 42\n",
      "Test loss: 1.038535, batch loss: 1.013710, model saved under trained_networks/random_model_tmp.ckpt\n",
      "Test loss: 0.523781, batch loss: 0.490158, model saved under trained_networks/random_model_tmp.ckpt\n",
      "Test loss: 0.376114, batch loss: 0.384938, model saved under trained_networks/random_model_tmp.ckpt\n",
      "Test loss: 0.335848, batch loss: 0.354165, model saved under trained_networks/random_model_tmp.ckpt\n",
      "Test loss: 0.287326, batch loss: 0.296993, model saved under trained_networks/random_model_tmp.ckpt\n",
      "Test loss: 0.274011, batch loss: 0.264942, model saved under trained_networks/random_model_tmp.ckpt\n",
      "Test loss: 0.262162, batch loss: 0.243199, model saved under trained_networks/random_model_tmp.ckpt\n",
      "Test loss: 0.247779, batch loss: 0.253951, model saved under trained_networks/random_model_tmp.ckpt\n",
      "Test loss: 0.239283, batch loss: 0.238881, model saved under trained_networks/random_model_tmp.ckpt\n",
      "Test loss: 0.236988, batch loss: 0.242461, model saved under trained_networks/random_model_tmp.ckpt\n",
      "Test loss: 0.237740, batch loss: 0.238189, model saved under trained_networks/random_model_tmp.ckpt\n",
      "Test loss: 0.235092, batch loss: 0.222958, model saved under trained_networks/random_model_tmp.ckpt\n",
      "Test loss: 0.223524, batch loss: 0.230497, model saved under trained_networks/random_model_tmp.ckpt\n",
      "Test loss: 0.218699, batch loss: 0.214433, model saved under trained_networks/random_model_tmp.ckpt\n",
      "Test loss: 0.229035, batch loss: 0.193792, model saved under trained_networks/random_model_tmp.ckpt\n",
      "Test loss: 0.206857, batch loss: 0.192415, model saved under trained_networks/random_model_tmp.ckpt\n",
      "Test loss: 0.202080, batch loss: 0.216039, model saved under trained_networks/random_model_tmp.ckpt\n",
      "Test loss: 0.201713, batch loss: 0.205085, model saved under trained_networks/random_model_tmp.ckpt\n",
      "Test loss: 0.196161, batch loss: 0.185409, model saved under trained_networks/random_model_tmp.ckpt\n",
      "Test loss: 0.193243, batch loss: 0.183106, model saved under trained_networks/random_model_tmp.ckpt\n",
      "Test loss: 0.194340, batch loss: 0.181703, model saved under trained_networks/random_model_tmp.ckpt\n",
      "Test loss: 0.188239, batch loss: 0.193836, model saved under trained_networks/random_model_tmp.ckpt\n",
      "Test loss: 0.189047, batch loss: 0.189162, model saved under trained_networks/random_model_tmp.ckpt\n",
      "Test loss: 0.182365, batch loss: 0.167467, model saved under trained_networks/random_model_tmp.ckpt\n",
      "Test loss: 0.181406, batch loss: 0.167363, model saved under trained_networks/random_model_tmp.ckpt\n",
      "Test loss: 0.178656, batch loss: 0.172024, model saved under trained_networks/random_model_tmp.ckpt\n",
      "Test loss: 0.177431, batch loss: 0.167385, model saved under trained_networks/random_model_tmp.ckpt\n",
      "Test loss: 0.183096, batch loss: 0.172386, model saved under trained_networks/random_model_tmp.ckpt\n",
      "Test loss: 0.173540, batch loss: 0.172956, model saved under trained_networks/random_model_tmp.ckpt\n",
      "Test loss: 0.171719, batch loss: 0.164745, model saved under trained_networks/random_model_tmp.ckpt\n",
      "INFO:tensorflow:Restoring parameters from trained_networks/random_model_tmp.ckpt\n",
      "(42, 0.021940215936201567, 0.17171867)\n",
      "Constructing random adjacency matrix with symmetric diff 0\n",
      "21 21\n"
     ]
    },
    {
     "data": {
      "image/png": "[encoded data removed]",
      "text/plain": [
       "<matplotlib.figure.Figure at 0x1eeea8dce48>"
      ]
     },
     "metadata": {},
     "output_type": "display_data"
    },
    {
     "name": "stdout",
     "output_type": "stream",
     "text": [
      "Constructing graph neural net\n",
      "Training network with symmetric diff 0\n",
      "Test loss: 1.111355, batch loss: 1.065310, model saved under trained_networks/random_model_tmp.ckpt\n",
      "Test loss: 0.400468, batch loss: 0.369743, model saved under trained_networks/random_model_tmp.ckpt\n",
      "Test loss: 0.238708, batch loss: 0.255189, model saved under trained_networks/random_model_tmp.ckpt\n",
      "Test loss: 0.201918, batch loss: 0.187359, model saved under trained_networks/random_model_tmp.ckpt\n",
      "Test loss: 0.194321, batch loss: 0.201241, model saved under trained_networks/random_model_tmp.ckpt\n",
      "Test loss: 0.174186, batch loss: 0.167442, model saved under trained_networks/random_model_tmp.ckpt\n",
      "Test loss: 0.163958, batch loss: 0.148960, model saved under trained_networks/random_model_tmp.ckpt\n",
      "Test loss: 0.160621, batch loss: 0.166460, model saved under trained_networks/random_model_tmp.ckpt\n",
      "Test loss: 0.153653, batch loss: 0.158629, model saved under trained_networks/random_model_tmp.ckpt\n",
      "Test loss: 0.150173, batch loss: 0.150575, model saved under trained_networks/random_model_tmp.ckpt\n",
      "Test loss: 0.146487, batch loss: 0.153504, model saved under trained_networks/random_model_tmp.ckpt\n",
      "Test loss: 0.140984, batch loss: 0.149875, model saved under trained_networks/random_model_tmp.ckpt\n",
      "Test loss: 0.140242, batch loss: 0.133186, model saved under trained_networks/random_model_tmp.ckpt\n",
      "Test loss: 0.136804, batch loss: 0.123737, model saved under trained_networks/random_model_tmp.ckpt\n",
      "Test loss: 0.132771, batch loss: 0.127649, model saved under trained_networks/random_model_tmp.ckpt\n",
      "Test loss: 0.132283, batch loss: 0.132808, model saved under trained_networks/random_model_tmp.ckpt\n",
      "Test loss: 0.128822, batch loss: 0.126874, model saved under trained_networks/random_model_tmp.ckpt\n",
      "Test loss: 0.130588, batch loss: 0.126500, model saved under trained_networks/random_model_tmp.ckpt\n",
      "Test loss: 0.124237, batch loss: 0.125237, model saved under trained_networks/random_model_tmp.ckpt\n",
      "Test loss: 0.126026, batch loss: 0.125608, model saved under trained_networks/random_model_tmp.ckpt\n",
      "Test loss: 0.123945, batch loss: 0.119389, model saved under trained_networks/random_model_tmp.ckpt\n",
      "Test loss: 0.124045, batch loss: 0.124109, model saved under trained_networks/random_model_tmp.ckpt\n",
      "Test loss: 0.119784, batch loss: 0.127372, model saved under trained_networks/random_model_tmp.ckpt\n",
      "Test loss: 0.121533, batch loss: 0.115241, model saved under trained_networks/random_model_tmp.ckpt\n",
      "Test loss: 0.120866, batch loss: 0.115833, model saved under trained_networks/random_model_tmp.ckpt\n",
      "Test loss: 0.124356, batch loss: 0.108430, model saved under trained_networks/random_model_tmp.ckpt\n",
      "Test loss: 0.115370, batch loss: 0.109038, model saved under trained_networks/random_model_tmp.ckpt\n",
      "Test loss: 0.116994, batch loss: 0.112853, model saved under trained_networks/random_model_tmp.ckpt\n",
      "Test loss: 0.113706, batch loss: 0.107924, model saved under trained_networks/random_model_tmp.ckpt\n",
      "Test loss: 0.113886, batch loss: 0.107301, model saved under trained_networks/random_model_tmp.ckpt\n",
      "INFO:tensorflow:Restoring parameters from trained_networks/random_model_tmp.ckpt\n",
      "(0, 0.017850834800773322, 0.113885924)\n",
      "Constructing random adjacency matrix with symmetric diff 3\n",
      "21 21\n"
     ]
    },
    {
     "data": {
      "image/png": "[encoded data removed]",
      "text/plain": [
       "<matplotlib.figure.Figure at 0x1eeea6f1f60>"
      ]
     },
     "metadata": {},
     "output_type": "display_data"
    },
    {
     "name": "stdout",
     "output_type": "stream",
     "text": [
      "Constructing graph neural net\n",
      "Training network with symmetric diff 3\n",
      "Test loss: 1.102020, batch loss: 1.058828, model saved under trained_networks/random_model_tmp.ckpt\n",
      "Test loss: 0.358326, batch loss: 0.323712, model saved under trained_networks/random_model_tmp.ckpt\n",
      "Test loss: 0.276766, batch loss: 0.298916, model saved under trained_networks/random_model_tmp.ckpt\n",
      "Test loss: 0.236348, batch loss: 0.245907, model saved under trained_networks/random_model_tmp.ckpt\n",
      "Test loss: 0.219360, batch loss: 0.216784, model saved under trained_networks/random_model_tmp.ckpt\n",
      "Test loss: 0.189628, batch loss: 0.184096, model saved under trained_networks/random_model_tmp.ckpt\n",
      "Test loss: 0.180992, batch loss: 0.175832, model saved under trained_networks/random_model_tmp.ckpt\n",
      "Test loss: 0.171060, batch loss: 0.180768, model saved under trained_networks/random_model_tmp.ckpt\n",
      "Test loss: 0.167439, batch loss: 0.168520, model saved under trained_networks/random_model_tmp.ckpt\n",
      "Test loss: 0.159328, batch loss: 0.164505, model saved under trained_networks/random_model_tmp.ckpt\n",
      "Test loss: 0.154746, batch loss: 0.163137, model saved under trained_networks/random_model_tmp.ckpt\n",
      "Test loss: 0.150819, batch loss: 0.160116, model saved under trained_networks/random_model_tmp.ckpt\n",
      "Test loss: 0.149859, batch loss: 0.138592, model saved under trained_networks/random_model_tmp.ckpt\n",
      "Test loss: 0.146677, batch loss: 0.143659, model saved under trained_networks/random_model_tmp.ckpt\n",
      "Test loss: 0.140118, batch loss: 0.140399, model saved under trained_networks/random_model_tmp.ckpt\n",
      "Test loss: 0.139844, batch loss: 0.138157, model saved under trained_networks/random_model_tmp.ckpt\n",
      "Test loss: 0.140963, batch loss: 0.140815, model saved under trained_networks/random_model_tmp.ckpt\n",
      "Test loss: 0.137048, batch loss: 0.135381, model saved under trained_networks/random_model_tmp.ckpt\n",
      "Test loss: 0.132208, batch loss: 0.126365, model saved under trained_networks/random_model_tmp.ckpt\n",
      "Test loss: 0.134454, batch loss: 0.130338, model saved under trained_networks/random_model_tmp.ckpt\n",
      "Test loss: 0.129500, batch loss: 0.135105, model saved under trained_networks/random_model_tmp.ckpt\n",
      "Test loss: 0.130283, batch loss: 0.135269, model saved under trained_networks/random_model_tmp.ckpt\n",
      "Test loss: 0.125289, batch loss: 0.130235, model saved under trained_networks/random_model_tmp.ckpt\n",
      "Test loss: 0.122907, batch loss: 0.116571, model saved under trained_networks/random_model_tmp.ckpt\n",
      "Test loss: 0.120653, batch loss: 0.119287, model saved under trained_networks/random_model_tmp.ckpt\n",
      "Test loss: 0.121320, batch loss: 0.116826, model saved under trained_networks/random_model_tmp.ckpt\n",
      "Test loss: 0.120802, batch loss: 0.110107, model saved under trained_networks/random_model_tmp.ckpt\n",
      "Test loss: 0.122557, batch loss: 0.109450, model saved under trained_networks/random_model_tmp.ckpt\n",
      "Test loss: 0.116945, batch loss: 0.106078, model saved under trained_networks/random_model_tmp.ckpt\n",
      "Test loss: 0.115725, batch loss: 0.115872, model saved under trained_networks/random_model_tmp.ckpt\n",
      "INFO:tensorflow:Restoring parameters from trained_networks/random_model_tmp.ckpt\n",
      "(3, 0.018067725867253033, 0.115725406)\n",
      "Constructing random adjacency matrix with symmetric diff 6\n",
      "21 21\n"
     ]
    },
    {
     "data": {
      "image/png": "[encoded data removed]",
      "text/plain": [
       "<matplotlib.figure.Figure at 0x1eefa7dde48>"
      ]
     },
     "metadata": {},
     "output_type": "display_data"
    },
    {
     "name": "stdout",
     "output_type": "stream",
     "text": [
      "Constructing graph neural net\n",
      "Training network with symmetric diff 6\n",
      "Test loss: 1.032613, batch loss: 0.999725, model saved under trained_networks/random_model_tmp.ckpt\n",
      "Test loss: 0.363001, batch loss: 0.328753, model saved under trained_networks/random_model_tmp.ckpt\n",
      "Test loss: 0.260761, batch loss: 0.257293, model saved under trained_networks/random_model_tmp.ckpt\n",
      "Test loss: 0.211962, batch loss: 0.197291, model saved under trained_networks/random_model_tmp.ckpt\n",
      "Test loss: 0.214819, batch loss: 0.207408, model saved under trained_networks/random_model_tmp.ckpt\n",
      "Test loss: 0.185326, batch loss: 0.170765, model saved under trained_networks/random_model_tmp.ckpt\n",
      "Test loss: 0.175532, batch loss: 0.155762, model saved under trained_networks/random_model_tmp.ckpt\n",
      "Test loss: 0.168504, batch loss: 0.179153, model saved under trained_networks/random_model_tmp.ckpt\n",
      "Test loss: 0.164178, batch loss: 0.165616, model saved under trained_networks/random_model_tmp.ckpt\n",
      "Test loss: 0.159621, batch loss: 0.154266, model saved under trained_networks/random_model_tmp.ckpt\n",
      "Test loss: 0.158551, batch loss: 0.159259, model saved under trained_networks/random_model_tmp.ckpt\n",
      "Test loss: 0.158846, batch loss: 0.155652, model saved under trained_networks/random_model_tmp.ckpt\n",
      "Test loss: 0.150971, batch loss: 0.143159, model saved under trained_networks/random_model_tmp.ckpt\n",
      "Test loss: 0.145952, batch loss: 0.138476, model saved under trained_networks/random_model_tmp.ckpt\n",
      "Test loss: 0.146343, batch loss: 0.138102, model saved under trained_networks/random_model_tmp.ckpt\n",
      "Test loss: 0.144231, batch loss: 0.143372, model saved under trained_networks/random_model_tmp.ckpt\n",
      "Test loss: 0.140159, batch loss: 0.141883, model saved under trained_networks/random_model_tmp.ckpt\n",
      "Test loss: 0.141192, batch loss: 0.138662, model saved under trained_networks/random_model_tmp.ckpt\n",
      "Test loss: 0.134438, batch loss: 0.133769, model saved under trained_networks/random_model_tmp.ckpt\n",
      "Test loss: 0.133890, batch loss: 0.134854, model saved under trained_networks/random_model_tmp.ckpt\n",
      "Test loss: 0.131841, batch loss: 0.132656, model saved under trained_networks/random_model_tmp.ckpt\n",
      "Test loss: 0.131908, batch loss: 0.129966, model saved under trained_networks/random_model_tmp.ckpt\n",
      "Test loss: 0.129120, batch loss: 0.128114, model saved under trained_networks/random_model_tmp.ckpt\n",
      "Test loss: 0.124660, batch loss: 0.118670, model saved under trained_networks/random_model_tmp.ckpt\n",
      "Test loss: 0.124767, batch loss: 0.121031, model saved under trained_networks/random_model_tmp.ckpt\n",
      "Test loss: 0.123473, batch loss: 0.110915, model saved under trained_networks/random_model_tmp.ckpt\n",
      "Test loss: 0.122406, batch loss: 0.115610, model saved under trained_networks/random_model_tmp.ckpt\n",
      "Test loss: 0.120702, batch loss: 0.110409, model saved under trained_networks/random_model_tmp.ckpt\n",
      "Test loss: 0.120015, batch loss: 0.115301, model saved under trained_networks/random_model_tmp.ckpt\n",
      "Test loss: 0.120476, batch loss: 0.112885, model saved under trained_networks/random_model_tmp.ckpt\n",
      "INFO:tensorflow:Restoring parameters from trained_networks/random_model_tmp.ckpt\n",
      "(6, 0.018452314773819825, 0.12047637)\n",
      "Constructing random adjacency matrix with symmetric diff 9\n",
      "21 21\n"
     ]
    },
    {
     "data": {
      "image/png": "[encoded data removed]",
      "text/plain": [
       "<matplotlib.figure.Figure at 0x1eeea12ca58>"
      ]
     },
     "metadata": {},
     "output_type": "display_data"
    },
    {
     "name": "stdout",
     "output_type": "stream",
     "text": [
      "Constructing graph neural net\n",
      "Training network with symmetric diff 9\n",
      "Test loss: 1.079251, batch loss: 1.065361, model saved under trained_networks/random_model_tmp.ckpt\n",
      "Test loss: 0.385702, batch loss: 0.320051, model saved under trained_networks/random_model_tmp.ckpt\n",
      "Test loss: 0.294490, batch loss: 0.308356, model saved under trained_networks/random_model_tmp.ckpt\n",
      "Test loss: 0.257877, batch loss: 0.255295, model saved under trained_networks/random_model_tmp.ckpt\n",
      "Test loss: 0.246665, batch loss: 0.264779, model saved under trained_networks/random_model_tmp.ckpt\n",
      "Test loss: 0.229885, batch loss: 0.220252, model saved under trained_networks/random_model_tmp.ckpt\n",
      "Test loss: 0.221822, batch loss: 0.207112, model saved under trained_networks/random_model_tmp.ckpt\n",
      "Test loss: 0.211755, batch loss: 0.216502, model saved under trained_networks/random_model_tmp.ckpt\n",
      "Test loss: 0.205374, batch loss: 0.208137, model saved under trained_networks/random_model_tmp.ckpt\n",
      "Test loss: 0.194122, batch loss: 0.200184, model saved under trained_networks/random_model_tmp.ckpt\n",
      "Test loss: 0.188893, batch loss: 0.188872, model saved under trained_networks/random_model_tmp.ckpt\n",
      "Test loss: 0.176815, batch loss: 0.182746, model saved under trained_networks/random_model_tmp.ckpt\n",
      "Test loss: 0.172889, batch loss: 0.169777, model saved under trained_networks/random_model_tmp.ckpt\n",
      "Test loss: 0.170230, batch loss: 0.157804, model saved under trained_networks/random_model_tmp.ckpt\n",
      "Test loss: 0.182106, batch loss: 0.158057, model saved under trained_networks/random_model_tmp.ckpt\n",
      "Test loss: 0.163148, batch loss: 0.161761, model saved under trained_networks/random_model_tmp.ckpt\n",
      "Test loss: 0.163654, batch loss: 0.167290, model saved under trained_networks/random_model_tmp.ckpt\n",
      "Test loss: 0.158814, batch loss: 0.164383, model saved under trained_networks/random_model_tmp.ckpt\n",
      "Test loss: 0.155183, batch loss: 0.147018, model saved under trained_networks/random_model_tmp.ckpt\n",
      "Test loss: 0.154022, batch loss: 0.153418, model saved under trained_networks/random_model_tmp.ckpt\n",
      "Test loss: 0.149895, batch loss: 0.150732, model saved under trained_networks/random_model_tmp.ckpt\n",
      "Test loss: 0.147580, batch loss: 0.142254, model saved under trained_networks/random_model_tmp.ckpt\n",
      "Test loss: 0.147644, batch loss: 0.143924, model saved under trained_networks/random_model_tmp.ckpt\n",
      "Test loss: 0.144512, batch loss: 0.140615, model saved under trained_networks/random_model_tmp.ckpt\n",
      "Test loss: 0.143489, batch loss: 0.133005, model saved under trained_networks/random_model_tmp.ckpt\n",
      "Test loss: 0.147708, batch loss: 0.135341, model saved under trained_networks/random_model_tmp.ckpt\n",
      "Test loss: 0.141006, batch loss: 0.133333, model saved under trained_networks/random_model_tmp.ckpt\n",
      "Test loss: 0.142674, batch loss: 0.136105, model saved under trained_networks/random_model_tmp.ckpt\n",
      "Test loss: 0.141299, batch loss: 0.132031, model saved under trained_networks/random_model_tmp.ckpt\n",
      "Test loss: 0.138327, batch loss: 0.130086, model saved under trained_networks/random_model_tmp.ckpt\n",
      "INFO:tensorflow:Restoring parameters from trained_networks/random_model_tmp.ckpt\n",
      "(9, 0.019715112876955983, 0.13832666)\n",
      "Constructing random adjacency matrix with symmetric diff 12\n",
      "21 21\n"
     ]
    },
    {
     "data": {
      "image/png": "[encoded data removed]",
      "text/plain": [
       "<matplotlib.figure.Figure at 0x1eef7b6e6a0>"
      ]
     },
     "metadata": {},
     "output_type": "display_data"
    },
    {
     "name": "stdout",
     "output_type": "stream",
     "text": [
      "Constructing graph neural net\n",
      "Training network with symmetric diff 12\n",
      "Test loss: 1.099211, batch loss: 1.087814, model saved under trained_networks/random_model_tmp.ckpt\n",
      "Test loss: 0.393739, batch loss: 0.358768, model saved under trained_networks/random_model_tmp.ckpt\n",
      "Test loss: 0.287933, batch loss: 0.305775, model saved under trained_networks/random_model_tmp.ckpt\n",
      "Test loss: 0.242012, batch loss: 0.224307, model saved under trained_networks/random_model_tmp.ckpt\n",
      "Test loss: 0.236367, batch loss: 0.233048, model saved under trained_networks/random_model_tmp.ckpt\n",
      "Test loss: 0.204885, batch loss: 0.195653, model saved under trained_networks/random_model_tmp.ckpt\n",
      "Test loss: 0.195022, batch loss: 0.172688, model saved under trained_networks/random_model_tmp.ckpt\n",
      "Test loss: 0.184894, batch loss: 0.192279, model saved under trained_networks/random_model_tmp.ckpt\n",
      "Test loss: 0.176452, batch loss: 0.176664, model saved under trained_networks/random_model_tmp.ckpt\n",
      "Test loss: 0.170284, batch loss: 0.170999, model saved under trained_networks/random_model_tmp.ckpt\n",
      "Test loss: 0.172994, batch loss: 0.175607, model saved under trained_networks/random_model_tmp.ckpt\n",
      "Test loss: 0.166240, batch loss: 0.171783, model saved under trained_networks/random_model_tmp.ckpt\n",
      "Test loss: 0.155631, batch loss: 0.155152, model saved under trained_networks/random_model_tmp.ckpt\n",
      "Test loss: 0.152631, batch loss: 0.141886, model saved under trained_networks/random_model_tmp.ckpt\n",
      "Test loss: 0.158307, batch loss: 0.146677, model saved under trained_networks/random_model_tmp.ckpt\n",
      "Test loss: 0.147997, batch loss: 0.154607, model saved under trained_networks/random_model_tmp.ckpt\n",
      "Test loss: 0.143485, batch loss: 0.137925, model saved under trained_networks/random_model_tmp.ckpt\n",
      "Test loss: 0.143893, batch loss: 0.140858, model saved under trained_networks/random_model_tmp.ckpt\n",
      "Test loss: 0.140769, batch loss: 0.137559, model saved under trained_networks/random_model_tmp.ckpt\n",
      "Test loss: 0.141516, batch loss: 0.130971, model saved under trained_networks/random_model_tmp.ckpt\n",
      "Test loss: 0.145199, batch loss: 0.133884, model saved under trained_networks/random_model_tmp.ckpt\n"
     ]
    },
    {
     "ename": "KeyboardInterrupt",
     "evalue": "",
     "output_type": "error",
     "traceback": [
      "\u001b[1;31m---------------------------------------------------------------------------\u001b[0m",
      "\u001b[1;31mKeyboardInterrupt\u001b[0m                         Traceback (most recent call last)",
      "\u001b[1;32m<ipython-input-7-7aab3f2de8a7>\u001b[0m in \u001b[0;36m<module>\u001b[1;34m()\u001b[0m\n\u001b[0;32m     21\u001b[0m         \u001b[0mbatch_iterator\u001b[0m \u001b[1;33m=\u001b[0m \u001b[0mdata_prep\u001b[0m\u001b[1;33m.\u001b[0m\u001b[0mBatchIterator\u001b[0m\u001b[1;33m(\u001b[0m\u001b[0mX_train\u001b[0m\u001b[1;33m,\u001b[0m \u001b[0my_train\u001b[0m\u001b[1;33m,\u001b[0m \u001b[1;36m997\u001b[0m\u001b[1;33m)\u001b[0m\u001b[1;33m\u001b[0m\u001b[0m\n\u001b[0;32m     22\u001b[0m         \u001b[0mprint\u001b[0m\u001b[1;33m(\u001b[0m\u001b[1;34m\"Training network with symmetric diff %d\"\u001b[0m \u001b[1;33m%\u001b[0m \u001b[0mi\u001b[0m\u001b[1;33m)\u001b[0m\u001b[1;33m\u001b[0m\u001b[0m\n\u001b[1;32m---> 23\u001b[1;33m         \u001b[0mtest_and_batch_losses\u001b[0m \u001b[1;33m=\u001b[0m \u001b[0mtrain_eval\u001b[0m\u001b[1;33m.\u001b[0m\u001b[0mtrain_model\u001b[0m\u001b[1;33m(\u001b[0m\u001b[0mnn_output\u001b[0m\u001b[1;33m,\u001b[0m \u001b[0mnn_input\u001b[0m\u001b[1;33m,\u001b[0m \u001b[0mtargets\u001b[0m\u001b[1;33m,\u001b[0m \u001b[0moptimizer\u001b[0m\u001b[1;33m,\u001b[0m \u001b[1;36m30000\u001b[0m\u001b[1;33m,\u001b[0m \u001b[0mbatch_iterator\u001b[0m\u001b[1;33m,\u001b[0m \u001b[0mX_test\u001b[0m\u001b[1;33m,\u001b[0m \u001b[0my_test\u001b[0m\u001b[1;33m,\u001b[0m \u001b[1;34m\"trained_networks/random_model_tmp.ckpt\"\u001b[0m\u001b[1;33m,\u001b[0m \u001b[1;36m1000\u001b[0m\u001b[1;33m,\u001b[0m \u001b[0mverbose\u001b[0m\u001b[1;33m=\u001b[0m\u001b[1;32mTrue\u001b[0m\u001b[1;33m)\u001b[0m\u001b[1;33m\u001b[0m\u001b[0m\n\u001b[0m\u001b[0;32m     24\u001b[0m         \u001b[0mtest_loss\u001b[0m \u001b[1;33m=\u001b[0m \u001b[0mtest_and_batch_losses\u001b[0m\u001b[1;33m[\u001b[0m\u001b[1;33m-\u001b[0m\u001b[1;36m1\u001b[0m\u001b[1;33m]\u001b[0m\u001b[1;33m[\u001b[0m\u001b[1;36m0\u001b[0m\u001b[1;33m]\u001b[0m\u001b[1;33m\u001b[0m\u001b[0m\n\u001b[0;32m     25\u001b[0m         \u001b[0mmodel_avg_error\u001b[0m\u001b[1;33m,\u001b[0m \u001b[0mactual_vs_predicted\u001b[0m \u001b[1;33m=\u001b[0m \u001b[0mtrain_eval\u001b[0m\u001b[1;33m.\u001b[0m\u001b[0mevaluate_model_on_a_dataset\u001b[0m\u001b[1;33m(\u001b[0m\u001b[1;34m\"trained_networks/random_model_tmp.ckpt\"\u001b[0m\u001b[1;33m,\u001b[0m \u001b[0mnn_output\u001b[0m\u001b[1;33m,\u001b[0m\u001b[0mnn_input\u001b[0m\u001b[1;33m,\u001b[0m \u001b[0mX_test\u001b[0m\u001b[1;33m,\u001b[0m \u001b[0my_test\u001b[0m\u001b[1;33m,\u001b[0m \u001b[0my_scaler\u001b[0m\u001b[1;33m)\u001b[0m\u001b[1;33m\u001b[0m\u001b[0m\n",
      "\u001b[1;32m~\\Documents\\TensorCell\\alternating_graph\\training_and_evaluation.py\u001b[0m in \u001b[0;36mtrain_model\u001b[1;34m(neural_net_output_tensor, input_tensor, target_tensor, optimizer, no_of_iterations, batch_iterator, X_test_data, y_test_data, model_checkpoint_file_path, checkpoint_save_frequency, verbose)\u001b[0m\n\u001b[0;32m     35\u001b[0m                 \u001b[0mX_batch\u001b[0m\u001b[1;33m,\u001b[0m \u001b[0my_batch\u001b[0m \u001b[1;33m=\u001b[0m \u001b[0mbatch_iterator\u001b[0m\u001b[1;33m.\u001b[0m\u001b[0mnext\u001b[0m\u001b[1;33m(\u001b[0m\u001b[1;33m)\u001b[0m\u001b[1;33m\u001b[0m\u001b[0m\n\u001b[0;32m     36\u001b[0m                 \u001b[0my_batch\u001b[0m \u001b[1;33m=\u001b[0m \u001b[0my_batch\u001b[0m\u001b[1;33m.\u001b[0m\u001b[0mvalues\u001b[0m\u001b[1;33m.\u001b[0m\u001b[0mreshape\u001b[0m\u001b[1;33m(\u001b[0m\u001b[1;33m[\u001b[0m\u001b[1;33m-\u001b[0m\u001b[1;36m1\u001b[0m\u001b[1;33m,\u001b[0m\u001b[1;36m1\u001b[0m\u001b[1;33m]\u001b[0m\u001b[1;33m)\u001b[0m\u001b[1;33m\u001b[0m\u001b[0m\n\u001b[1;32m---> 37\u001b[1;33m                 \u001b[0ml\u001b[0m\u001b[1;33m,\u001b[0m \u001b[0m_\u001b[0m \u001b[1;33m=\u001b[0m \u001b[0msess\u001b[0m\u001b[1;33m.\u001b[0m\u001b[0mrun\u001b[0m\u001b[1;33m(\u001b[0m\u001b[1;33m[\u001b[0m\u001b[0mloss\u001b[0m\u001b[1;33m,\u001b[0m \u001b[0mminimize_loss\u001b[0m\u001b[1;33m]\u001b[0m\u001b[1;33m,\u001b[0m \u001b[0mfeed_dict\u001b[0m\u001b[1;33m=\u001b[0m\u001b[1;33m{\u001b[0m\u001b[0minput_tensor\u001b[0m\u001b[1;33m:\u001b[0m \u001b[0mX_batch\u001b[0m\u001b[1;33m,\u001b[0m \u001b[0mtarget_tensor\u001b[0m\u001b[1;33m:\u001b[0m \u001b[0my_batch\u001b[0m\u001b[1;33m}\u001b[0m\u001b[1;33m)\u001b[0m\u001b[1;33m\u001b[0m\u001b[0m\n\u001b[0m\u001b[0;32m     38\u001b[0m                 \u001b[1;32mif\u001b[0m \u001b[0mi\u001b[0m \u001b[1;33m%\u001b[0m \u001b[0mcheckpoint_save_frequency\u001b[0m \u001b[1;33m==\u001b[0m \u001b[1;36m0\u001b[0m\u001b[1;33m:\u001b[0m\u001b[1;33m\u001b[0m\u001b[0m\n\u001b[0;32m     39\u001b[0m                         \u001b[0msaver\u001b[0m\u001b[1;33m.\u001b[0m\u001b[0msave\u001b[0m\u001b[1;33m(\u001b[0m\u001b[0msess\u001b[0m\u001b[1;33m,\u001b[0m \u001b[0mmodel_checkpoint_file_path\u001b[0m\u001b[1;33m)\u001b[0m\u001b[1;33m\u001b[0m\u001b[0m\n",
      "\u001b[1;32m~\\AppData\\Local\\conda\\conda\\envs\\aind\\lib\\site-packages\\tensorflow\\python\\client\\session.py\u001b[0m in \u001b[0;36mrun\u001b[1;34m(self, fetches, feed_dict, options, run_metadata)\u001b[0m\n\u001b[0;32m    927\u001b[0m     \u001b[1;32mtry\u001b[0m\u001b[1;33m:\u001b[0m\u001b[1;33m\u001b[0m\u001b[0m\n\u001b[0;32m    928\u001b[0m       result = self._run(None, fetches, feed_dict, options_ptr,\n\u001b[1;32m--> 929\u001b[1;33m                          run_metadata_ptr)\n\u001b[0m\u001b[0;32m    930\u001b[0m       \u001b[1;32mif\u001b[0m \u001b[0mrun_metadata\u001b[0m\u001b[1;33m:\u001b[0m\u001b[1;33m\u001b[0m\u001b[0m\n\u001b[0;32m    931\u001b[0m         \u001b[0mproto_data\u001b[0m \u001b[1;33m=\u001b[0m \u001b[0mtf_session\u001b[0m\u001b[1;33m.\u001b[0m\u001b[0mTF_GetBuffer\u001b[0m\u001b[1;33m(\u001b[0m\u001b[0mrun_metadata_ptr\u001b[0m\u001b[1;33m)\u001b[0m\u001b[1;33m\u001b[0m\u001b[0m\n",
      "\u001b[1;32m~\\AppData\\Local\\conda\\conda\\envs\\aind\\lib\\site-packages\\tensorflow\\python\\client\\session.py\u001b[0m in \u001b[0;36m_run\u001b[1;34m(self, handle, fetches, feed_dict, options, run_metadata)\u001b[0m\n\u001b[0;32m   1150\u001b[0m     \u001b[1;32mif\u001b[0m \u001b[0mfinal_fetches\u001b[0m \u001b[1;32mor\u001b[0m \u001b[0mfinal_targets\u001b[0m \u001b[1;32mor\u001b[0m \u001b[1;33m(\u001b[0m\u001b[0mhandle\u001b[0m \u001b[1;32mand\u001b[0m \u001b[0mfeed_dict_tensor\u001b[0m\u001b[1;33m)\u001b[0m\u001b[1;33m:\u001b[0m\u001b[1;33m\u001b[0m\u001b[0m\n\u001b[0;32m   1151\u001b[0m       results = self._do_run(handle, final_targets, final_fetches,\n\u001b[1;32m-> 1152\u001b[1;33m                              feed_dict_tensor, options, run_metadata)\n\u001b[0m\u001b[0;32m   1153\u001b[0m     \u001b[1;32melse\u001b[0m\u001b[1;33m:\u001b[0m\u001b[1;33m\u001b[0m\u001b[0m\n\u001b[0;32m   1154\u001b[0m       \u001b[0mresults\u001b[0m \u001b[1;33m=\u001b[0m \u001b[1;33m[\u001b[0m\u001b[1;33m]\u001b[0m\u001b[1;33m\u001b[0m\u001b[0m\n",
      "\u001b[1;32m~\\AppData\\Local\\conda\\conda\\envs\\aind\\lib\\site-packages\\tensorflow\\python\\client\\session.py\u001b[0m in \u001b[0;36m_do_run\u001b[1;34m(self, handle, target_list, fetch_list, feed_dict, options, run_metadata)\u001b[0m\n\u001b[0;32m   1326\u001b[0m     \u001b[1;32mif\u001b[0m \u001b[0mhandle\u001b[0m \u001b[1;32mis\u001b[0m \u001b[1;32mNone\u001b[0m\u001b[1;33m:\u001b[0m\u001b[1;33m\u001b[0m\u001b[0m\n\u001b[0;32m   1327\u001b[0m       return self._do_call(_run_fn, feeds, fetches, targets, options,\n\u001b[1;32m-> 1328\u001b[1;33m                            run_metadata)\n\u001b[0m\u001b[0;32m   1329\u001b[0m     \u001b[1;32melse\u001b[0m\u001b[1;33m:\u001b[0m\u001b[1;33m\u001b[0m\u001b[0m\n\u001b[0;32m   1330\u001b[0m       \u001b[1;32mreturn\u001b[0m \u001b[0mself\u001b[0m\u001b[1;33m.\u001b[0m\u001b[0m_do_call\u001b[0m\u001b[1;33m(\u001b[0m\u001b[0m_prun_fn\u001b[0m\u001b[1;33m,\u001b[0m \u001b[0mhandle\u001b[0m\u001b[1;33m,\u001b[0m \u001b[0mfeeds\u001b[0m\u001b[1;33m,\u001b[0m \u001b[0mfetches\u001b[0m\u001b[1;33m)\u001b[0m\u001b[1;33m\u001b[0m\u001b[0m\n",
      "\u001b[1;32m~\\AppData\\Local\\conda\\conda\\envs\\aind\\lib\\site-packages\\tensorflow\\python\\client\\session.py\u001b[0m in \u001b[0;36m_do_call\u001b[1;34m(self, fn, *args)\u001b[0m\n\u001b[0;32m   1332\u001b[0m   \u001b[1;32mdef\u001b[0m \u001b[0m_do_call\u001b[0m\u001b[1;33m(\u001b[0m\u001b[0mself\u001b[0m\u001b[1;33m,\u001b[0m \u001b[0mfn\u001b[0m\u001b[1;33m,\u001b[0m \u001b[1;33m*\u001b[0m\u001b[0margs\u001b[0m\u001b[1;33m)\u001b[0m\u001b[1;33m:\u001b[0m\u001b[1;33m\u001b[0m\u001b[0m\n\u001b[0;32m   1333\u001b[0m     \u001b[1;32mtry\u001b[0m\u001b[1;33m:\u001b[0m\u001b[1;33m\u001b[0m\u001b[0m\n\u001b[1;32m-> 1334\u001b[1;33m       \u001b[1;32mreturn\u001b[0m \u001b[0mfn\u001b[0m\u001b[1;33m(\u001b[0m\u001b[1;33m*\u001b[0m\u001b[0margs\u001b[0m\u001b[1;33m)\u001b[0m\u001b[1;33m\u001b[0m\u001b[0m\n\u001b[0m\u001b[0;32m   1335\u001b[0m     \u001b[1;32mexcept\u001b[0m \u001b[0merrors\u001b[0m\u001b[1;33m.\u001b[0m\u001b[0mOpError\u001b[0m \u001b[1;32mas\u001b[0m \u001b[0me\u001b[0m\u001b[1;33m:\u001b[0m\u001b[1;33m\u001b[0m\u001b[0m\n\u001b[0;32m   1336\u001b[0m       \u001b[0mmessage\u001b[0m \u001b[1;33m=\u001b[0m \u001b[0mcompat\u001b[0m\u001b[1;33m.\u001b[0m\u001b[0mas_text\u001b[0m\u001b[1;33m(\u001b[0m\u001b[0me\u001b[0m\u001b[1;33m.\u001b[0m\u001b[0mmessage\u001b[0m\u001b[1;33m)\u001b[0m\u001b[1;33m\u001b[0m\u001b[0m\n",
      "\u001b[1;32m~\\AppData\\Local\\conda\\conda\\envs\\aind\\lib\\site-packages\\tensorflow\\python\\client\\session.py\u001b[0m in \u001b[0;36m_run_fn\u001b[1;34m(feed_dict, fetch_list, target_list, options, run_metadata)\u001b[0m\n\u001b[0;32m   1317\u001b[0m       \u001b[0mself\u001b[0m\u001b[1;33m.\u001b[0m\u001b[0m_extend_graph\u001b[0m\u001b[1;33m(\u001b[0m\u001b[1;33m)\u001b[0m\u001b[1;33m\u001b[0m\u001b[0m\n\u001b[0;32m   1318\u001b[0m       return self._call_tf_sessionrun(\n\u001b[1;32m-> 1319\u001b[1;33m           options, feed_dict, fetch_list, target_list, run_metadata)\n\u001b[0m\u001b[0;32m   1320\u001b[0m \u001b[1;33m\u001b[0m\u001b[0m\n\u001b[0;32m   1321\u001b[0m     \u001b[1;32mdef\u001b[0m \u001b[0m_prun_fn\u001b[0m\u001b[1;33m(\u001b[0m\u001b[0mhandle\u001b[0m\u001b[1;33m,\u001b[0m \u001b[0mfeed_dict\u001b[0m\u001b[1;33m,\u001b[0m \u001b[0mfetch_list\u001b[0m\u001b[1;33m)\u001b[0m\u001b[1;33m:\u001b[0m\u001b[1;33m\u001b[0m\u001b[0m\n",
      "\u001b[1;32m~\\AppData\\Local\\conda\\conda\\envs\\aind\\lib\\site-packages\\tensorflow\\python\\client\\session.py\u001b[0m in \u001b[0;36m_call_tf_sessionrun\u001b[1;34m(self, options, feed_dict, fetch_list, target_list, run_metadata)\u001b[0m\n\u001b[0;32m   1405\u001b[0m     return tf_session.TF_SessionRun_wrapper(\n\u001b[0;32m   1406\u001b[0m         \u001b[0mself\u001b[0m\u001b[1;33m.\u001b[0m\u001b[0m_session\u001b[0m\u001b[1;33m,\u001b[0m \u001b[0moptions\u001b[0m\u001b[1;33m,\u001b[0m \u001b[0mfeed_dict\u001b[0m\u001b[1;33m,\u001b[0m \u001b[0mfetch_list\u001b[0m\u001b[1;33m,\u001b[0m \u001b[0mtarget_list\u001b[0m\u001b[1;33m,\u001b[0m\u001b[1;33m\u001b[0m\u001b[0m\n\u001b[1;32m-> 1407\u001b[1;33m         run_metadata)\n\u001b[0m\u001b[0;32m   1408\u001b[0m \u001b[1;33m\u001b[0m\u001b[0m\n\u001b[0;32m   1409\u001b[0m   \u001b[1;32mdef\u001b[0m \u001b[0m_call_tf_sessionprun\u001b[0m\u001b[1;33m(\u001b[0m\u001b[0mself\u001b[0m\u001b[1;33m,\u001b[0m \u001b[0mhandle\u001b[0m\u001b[1;33m,\u001b[0m \u001b[0mfeed_dict\u001b[0m\u001b[1;33m,\u001b[0m \u001b[0mfetch_list\u001b[0m\u001b[1;33m)\u001b[0m\u001b[1;33m:\u001b[0m\u001b[1;33m\u001b[0m\u001b[0m\n",
      "\u001b[1;31mKeyboardInterrupt\u001b[0m: "
     ]
    }
   ],
   "source": [
    "symmetric_diffs = [3 * i for i in range(15)]\n",
    "no_of_samples = 5\n",
    "symmetric_diffs *= no_of_samples\n",
    "\n",
    "symmetric_diffs = symmetric_diffs[3:] # just for the moment\n",
    "\n",
    "file_to_save_results = \"random_topologies_3_2.csv\"\n",
    "\n",
    "with open(file_to_save_results,\"a\") as f:\n",
    "    for i in symmetric_diffs:\n",
    "        print(\"Constructing random adjacency matrix with symmetric diff %d\" % i)\n",
    "        random_adj_matrix = graph_utils.generate_random_adjacency_matrix_with_fixed_symmetric_difference(i, ochota_adj_matrix)\n",
    "        plt.imshow(random_adj_matrix, cmap=\"hot\")\n",
    "        plt.show()\n",
    "        tf.reset_default_graph()\n",
    "        nn_input = tf.placeholder(dtype=tf.float32, shape=[None, 21])\n",
    "        targets = tf.placeholder(dtype=tf.float32, shape=[None, 1])\n",
    "        print(\"Constructing graph neural net\")\n",
    "        nn_output = graph_nn.transfer_matrix_neural_net(nn_input, 3, 4, tf.nn.tanh, random_adj_matrix, verbose=False, share_weights_in_transfer_matrix=False, share_biases_in_transfer_matrix=False)\n",
    "        optimizer = tf.train.AdamOptimizer(0.005)\n",
    "        batch_iterator = data_prep.BatchIterator(X_train, y_train, 997)\n",
    "        print(\"Training network with symmetric diff %d\" % i)\n",
    "        test_and_batch_losses = train_eval.train_model(nn_output, nn_input, targets, optimizer, 30000, batch_iterator, X_test, y_test, \"trained_networks/random_model_tmp.ckpt\", 1000, verbose=True)\n",
    "        test_loss = test_and_batch_losses[-1][0]\n",
    "        model_avg_error, actual_vs_predicted = train_eval.evaluate_model_on_a_dataset(\"trained_networks/random_model_tmp.ckpt\", nn_output,nn_input, X_test, y_test, y_scaler)\n",
    "        f.write(\"%d,%f,%f\\n\" % (i, model_avg_error, test_loss))\n",
    "        f.flush()\n",
    "        print((i, model_avg_error, test_loss))\n",
    "    f.close()"
   ]
  },
  {
   "cell_type": "markdown",
   "metadata": {},
   "source": [
    "**NOTE**: Just a quick test, main results obtained outside this notebook and loaded and presented here"
   ]
  },
  {
   "cell_type": "markdown",
   "metadata": {},
   "source": [
    "Random graphs experiment results for type 1 graph neural networks:"
   ]
  },
  {
   "cell_type": "code",
   "execution_count": 2,
   "metadata": {},
   "outputs": [],
   "source": [
    "random_topologies_results = np.genfromtxt(\"random_topologies_3_2.csv\",delimiter=\",\")"
   ]
  },
  {
   "cell_type": "code",
   "execution_count": 3,
   "metadata": {},
   "outputs": [
    {
     "data": {
      "text/html": [
       "<div>\n",
       "<style scoped>\n",
       "    .dataframe tbody tr th:only-of-type {\n",
       "        vertical-align: middle;\n",
       "    }\n",
       "\n",
       "    .dataframe tbody tr th {\n",
       "        vertical-align: top;\n",
       "    }\n",
       "\n",
       "    .dataframe thead th {\n",
       "        text-align: right;\n",
       "    }\n",
       "</style>\n",
       "<table border=\"1\" class=\"dataframe\">\n",
       "  <thead>\n",
       "    <tr style=\"text-align: right;\">\n",
       "      <th></th>\n",
       "      <th>RelativeError</th>\n",
       "      <th>MeanSquaredError</th>\n",
       "    </tr>\n",
       "    <tr>\n",
       "      <th>SymmetricDiff</th>\n",
       "      <th></th>\n",
       "      <th></th>\n",
       "    </tr>\n",
       "  </thead>\n",
       "  <tbody>\n",
       "    <tr>\n",
       "      <th>0.0</th>\n",
       "      <td>0.018080</td>\n",
       "      <td>0.116229</td>\n",
       "    </tr>\n",
       "    <tr>\n",
       "      <th>3.0</th>\n",
       "      <td>0.018266</td>\n",
       "      <td>0.118777</td>\n",
       "    </tr>\n",
       "    <tr>\n",
       "      <th>6.0</th>\n",
       "      <td>0.018547</td>\n",
       "      <td>0.122112</td>\n",
       "    </tr>\n",
       "    <tr>\n",
       "      <th>9.0</th>\n",
       "      <td>0.018764</td>\n",
       "      <td>0.124993</td>\n",
       "    </tr>\n",
       "    <tr>\n",
       "      <th>12.0</th>\n",
       "      <td>0.018923</td>\n",
       "      <td>0.127552</td>\n",
       "    </tr>\n",
       "    <tr>\n",
       "      <th>15.0</th>\n",
       "      <td>0.019387</td>\n",
       "      <td>0.133410</td>\n",
       "    </tr>\n",
       "    <tr>\n",
       "      <th>18.0</th>\n",
       "      <td>0.019646</td>\n",
       "      <td>0.137564</td>\n",
       "    </tr>\n",
       "    <tr>\n",
       "      <th>21.0</th>\n",
       "      <td>0.020341</td>\n",
       "      <td>0.146094</td>\n",
       "    </tr>\n",
       "    <tr>\n",
       "      <th>24.0</th>\n",
       "      <td>0.020650</td>\n",
       "      <td>0.151769</td>\n",
       "    </tr>\n",
       "    <tr>\n",
       "      <th>27.0</th>\n",
       "      <td>0.021028</td>\n",
       "      <td>0.156229</td>\n",
       "    </tr>\n",
       "    <tr>\n",
       "      <th>30.0</th>\n",
       "      <td>0.021300</td>\n",
       "      <td>0.160958</td>\n",
       "    </tr>\n",
       "    <tr>\n",
       "      <th>33.0</th>\n",
       "      <td>0.021315</td>\n",
       "      <td>0.160438</td>\n",
       "    </tr>\n",
       "    <tr>\n",
       "      <th>36.0</th>\n",
       "      <td>0.021782</td>\n",
       "      <td>0.169105</td>\n",
       "    </tr>\n",
       "    <tr>\n",
       "      <th>39.0</th>\n",
       "      <td>0.022070</td>\n",
       "      <td>0.173527</td>\n",
       "    </tr>\n",
       "    <tr>\n",
       "      <th>42.0</th>\n",
       "      <td>0.022025</td>\n",
       "      <td>0.173247</td>\n",
       "    </tr>\n",
       "  </tbody>\n",
       "</table>\n",
       "</div>"
      ],
      "text/plain": [
       "               RelativeError  MeanSquaredError\n",
       "SymmetricDiff                                 \n",
       "0.0                 0.018080          0.116229\n",
       "3.0                 0.018266          0.118777\n",
       "6.0                 0.018547          0.122112\n",
       "9.0                 0.018764          0.124993\n",
       "12.0                0.018923          0.127552\n",
       "15.0                0.019387          0.133410\n",
       "18.0                0.019646          0.137564\n",
       "21.0                0.020341          0.146094\n",
       "24.0                0.020650          0.151769\n",
       "27.0                0.021028          0.156229\n",
       "30.0                0.021300          0.160958\n",
       "33.0                0.021315          0.160438\n",
       "36.0                0.021782          0.169105\n",
       "39.0                0.022070          0.173527\n",
       "42.0                0.022025          0.173247"
      ]
     },
     "execution_count": 3,
     "metadata": {},
     "output_type": "execute_result"
    }
   ],
   "source": [
    "rand_top_data_frame = pd.DataFrame(random_topologies_results, columns=[\"SymmetricDiff\",\"RelativeError\",\"MeanSquaredError\"])\n",
    "medians = rand_top_data_frame.groupby(\"SymmetricDiff\").median()\n",
    "lower_five_perc = rand_top_data_frame.groupby(\"SymmetricDiff\").quantile(0.05)\n",
    "upper_five_perc = rand_top_data_frame.groupby(\"SymmetricDiff\").quantile(0.95)\n",
    "medians"
   ]
  },
  {
   "cell_type": "code",
   "execution_count": 4,
   "metadata": {},
   "outputs": [
    {
     "data": {
      "text/html": [
       "<div>\n",
       "<style scoped>\n",
       "    .dataframe tbody tr th:only-of-type {\n",
       "        vertical-align: middle;\n",
       "    }\n",
       "\n",
       "    .dataframe tbody tr th {\n",
       "        vertical-align: top;\n",
       "    }\n",
       "\n",
       "    .dataframe thead th {\n",
       "        text-align: right;\n",
       "    }\n",
       "</style>\n",
       "<table border=\"1\" class=\"dataframe\">\n",
       "  <thead>\n",
       "    <tr style=\"text-align: right;\">\n",
       "      <th></th>\n",
       "      <th>Count</th>\n",
       "    </tr>\n",
       "    <tr>\n",
       "      <th>SymmetricDiff</th>\n",
       "      <th></th>\n",
       "    </tr>\n",
       "  </thead>\n",
       "  <tbody>\n",
       "    <tr>\n",
       "      <th>0.0</th>\n",
       "      <td>157</td>\n",
       "    </tr>\n",
       "    <tr>\n",
       "      <th>3.0</th>\n",
       "      <td>156</td>\n",
       "    </tr>\n",
       "    <tr>\n",
       "      <th>6.0</th>\n",
       "      <td>156</td>\n",
       "    </tr>\n",
       "    <tr>\n",
       "      <th>9.0</th>\n",
       "      <td>156</td>\n",
       "    </tr>\n",
       "    <tr>\n",
       "      <th>12.0</th>\n",
       "      <td>156</td>\n",
       "    </tr>\n",
       "    <tr>\n",
       "      <th>15.0</th>\n",
       "      <td>156</td>\n",
       "    </tr>\n",
       "    <tr>\n",
       "      <th>18.0</th>\n",
       "      <td>156</td>\n",
       "    </tr>\n",
       "    <tr>\n",
       "      <th>21.0</th>\n",
       "      <td>156</td>\n",
       "    </tr>\n",
       "    <tr>\n",
       "      <th>24.0</th>\n",
       "      <td>156</td>\n",
       "    </tr>\n",
       "    <tr>\n",
       "      <th>27.0</th>\n",
       "      <td>156</td>\n",
       "    </tr>\n",
       "    <tr>\n",
       "      <th>30.0</th>\n",
       "      <td>156</td>\n",
       "    </tr>\n",
       "    <tr>\n",
       "      <th>33.0</th>\n",
       "      <td>156</td>\n",
       "    </tr>\n",
       "    <tr>\n",
       "      <th>36.0</th>\n",
       "      <td>156</td>\n",
       "    </tr>\n",
       "    <tr>\n",
       "      <th>39.0</th>\n",
       "      <td>156</td>\n",
       "    </tr>\n",
       "    <tr>\n",
       "      <th>42.0</th>\n",
       "      <td>156</td>\n",
       "    </tr>\n",
       "  </tbody>\n",
       "</table>\n",
       "</div>"
      ],
      "text/plain": [
       "               Count\n",
       "SymmetricDiff       \n",
       "0.0              157\n",
       "3.0              156\n",
       "6.0              156\n",
       "9.0              156\n",
       "12.0             156\n",
       "15.0             156\n",
       "18.0             156\n",
       "21.0             156\n",
       "24.0             156\n",
       "27.0             156\n",
       "30.0             156\n",
       "33.0             156\n",
       "36.0             156\n",
       "39.0             156\n",
       "42.0             156"
      ]
     },
     "execution_count": 4,
     "metadata": {},
     "output_type": "execute_result"
    }
   ],
   "source": [
    "rand_top_data_frame_ = rand_top_data_frame.copy()\n",
    "rand_top_data_frame_[\"Count\"] = 1\n",
    "rand_top_data_frame_ = rand_top_data_frame_[[\"SymmetricDiff\",\"Count\"]]\n",
    "rand_top_data_frame_.groupby(\"SymmetricDiff\").sum()"
   ]
  },
  {
   "cell_type": "code",
   "execution_count": 25,
   "metadata": {},
   "outputs": [],
   "source": [
    "rel_error_y_err_max = pd.DataFrame()\n",
    "rel_error_y_err_max[\"RelativeErrorMax\"] = upper_five_perc.loc[:,\"RelativeError\"] - medians.loc[:,\"RelativeError\"]\n",
    "rel_error_y_err_min = pd.DataFrame()\n",
    "rel_error_y_err_min[\"RelativeErrorMin\"] = medians.loc[:,\"RelativeError\"] - lower_five_perc.loc[:,\"RelativeError\"]\n",
    "rel_error_y_err = pd.concat([rel_error_y_err_min,rel_error_y_err_max], axis=1).transpose().iloc[0:2,:]"
   ]
  },
  {
   "cell_type": "code",
   "execution_count": 30,
   "metadata": {},
   "outputs": [
    {
     "data": {
      "image/png": "[encoded data removed]",
      "text/plain": [
       "<Figure size 432x288 with 1 Axes>"
      ]
     },
     "metadata": {},
     "output_type": "display_data"
    }
   ],
   "source": [
    "plt.plot(rand_top_data_frame.iloc[:,0] * 2,rand_top_data_frame.iloc[:,1],\"bo\", alpha=0.1, zorder=-32)\n",
    "plt.plot(medians.index.values * 2,medians.iloc[:,0], \"ro\",zorder=-32)\n",
    "plt.errorbar(medians.index.values * 2,medians.iloc[:,0],yerr=rel_error_y_err.values,ecolor=\"r\", barsabove=True)\n",
    "plt.xlabel(\"Symmetric diff\")\n",
    "plt.ylabel(\"Relative test error\")\n",
    "plt.show()"
   ]
  },
  {
   "cell_type": "code",
   "execution_count": 31,
   "metadata": {},
   "outputs": [],
   "source": [
    "ms_error_y_err_max = pd.DataFrame()\n",
    "ms_error_y_err_max[\"MeanSquaredErrorMax\"] = upper_five_perc.loc[:,\"MeanSquaredError\"] - medians.loc[:,\"MeanSquaredError\"]\n",
    "ms_error_y_err_min = pd.DataFrame()\n",
    "ms_error_y_err_min[\"MeanSquaredErrorMin\"] = medians.loc[:,\"MeanSquaredError\"] - lower_five_perc.loc[:,\"MeanSquaredError\"]\n",
    "ms_error_y_err = pd.concat([ms_error_y_err_min,ms_error_y_err_max], axis=1).transpose().iloc[0:2,:]"
   ]
  },
  {
   "cell_type": "code",
   "execution_count": 32,
   "metadata": {},
   "outputs": [
    {
     "data": {
      "image/png": "[encoded data removed]",
      "text/plain": [
       "<Figure size 432x288 with 1 Axes>"
      ]
     },
     "metadata": {},
     "output_type": "display_data"
    }
   ],
   "source": [
    "plt.plot(rand_top_data_frame.iloc[:,0] * 2,rand_top_data_frame.iloc[:,2],\"bo\", alpha=0.1, zorder=-32)\n",
    "plt.plot(medians.index.values * 2,medians.iloc[:,1], \"ro\", zorder=-32)\n",
    "plt.errorbar(medians.index.values * 2,medians.iloc[:,1],yerr=ms_error_y_err.values,ecolor=\"r\", barsabove=True)\n",
    "plt.xlabel(\"Symmetric diff\")\n",
    "plt.ylabel(\"Mean squared error\")\n",
    "plt.show()"
   ]
  },
  {
   "cell_type": "markdown",
   "metadata": {},
   "source": [
    "### Permuted topologies experiments summary"
   ]
  },
  {
   "cell_type": "code",
   "execution_count": 33,
   "metadata": {},
   "outputs": [],
   "source": [
    "permuted_topologies_results = np.genfromtxt(\"permuted_topologies_0.csv\",delimiter=\",\")"
   ]
  },
  {
   "cell_type": "code",
   "execution_count": 67,
   "metadata": {},
   "outputs": [
    {
     "data": {
      "text/html": [
       "<div>\n",
       "<style scoped>\n",
       "    .dataframe tbody tr th:only-of-type {\n",
       "        vertical-align: middle;\n",
       "    }\n",
       "\n",
       "    .dataframe tbody tr th {\n",
       "        vertical-align: top;\n",
       "    }\n",
       "\n",
       "    .dataframe thead th {\n",
       "        text-align: right;\n",
       "    }\n",
       "</style>\n",
       "<table border=\"1\" class=\"dataframe\">\n",
       "  <thead>\n",
       "    <tr style=\"text-align: right;\">\n",
       "      <th></th>\n",
       "      <th>NoOfTranspositions</th>\n",
       "      <th>RelativeError</th>\n",
       "      <th>MeanSquaredError</th>\n",
       "    </tr>\n",
       "    <tr>\n",
       "      <th>SymmetricDiff</th>\n",
       "      <th></th>\n",
       "      <th></th>\n",
       "      <th></th>\n",
       "    </tr>\n",
       "  </thead>\n",
       "  <tbody>\n",
       "    <tr>\n",
       "      <th>0.0</th>\n",
       "      <td>0.0</td>\n",
       "      <td>0.018069</td>\n",
       "      <td>0.116542</td>\n",
       "    </tr>\n",
       "    <tr>\n",
       "      <th>4.0</th>\n",
       "      <td>1.0</td>\n",
       "      <td>0.018415</td>\n",
       "      <td>0.120540</td>\n",
       "    </tr>\n",
       "    <tr>\n",
       "      <th>6.0</th>\n",
       "      <td>1.0</td>\n",
       "      <td>0.018130</td>\n",
       "      <td>0.117396</td>\n",
       "    </tr>\n",
       "    <tr>\n",
       "      <th>8.0</th>\n",
       "      <td>1.0</td>\n",
       "      <td>0.018161</td>\n",
       "      <td>0.117635</td>\n",
       "    </tr>\n",
       "    <tr>\n",
       "      <th>10.0</th>\n",
       "      <td>1.0</td>\n",
       "      <td>0.018688</td>\n",
       "      <td>0.124211</td>\n",
       "    </tr>\n",
       "    <tr>\n",
       "      <th>12.0</th>\n",
       "      <td>1.0</td>\n",
       "      <td>0.018394</td>\n",
       "      <td>0.120348</td>\n",
       "    </tr>\n",
       "    <tr>\n",
       "      <th>14.0</th>\n",
       "      <td>1.0</td>\n",
       "      <td>0.019180</td>\n",
       "      <td>0.131874</td>\n",
       "    </tr>\n",
       "    <tr>\n",
       "      <th>16.0</th>\n",
       "      <td>1.0</td>\n",
       "      <td>0.018803</td>\n",
       "      <td>0.126247</td>\n",
       "    </tr>\n",
       "    <tr>\n",
       "      <th>18.0</th>\n",
       "      <td>2.0</td>\n",
       "      <td>0.018667</td>\n",
       "      <td>0.124117</td>\n",
       "    </tr>\n",
       "    <tr>\n",
       "      <th>20.0</th>\n",
       "      <td>2.0</td>\n",
       "      <td>0.019258</td>\n",
       "      <td>0.132241</td>\n",
       "    </tr>\n",
       "    <tr>\n",
       "      <th>22.0</th>\n",
       "      <td>2.0</td>\n",
       "      <td>0.019165</td>\n",
       "      <td>0.131344</td>\n",
       "    </tr>\n",
       "    <tr>\n",
       "      <th>24.0</th>\n",
       "      <td>2.0</td>\n",
       "      <td>0.020832</td>\n",
       "      <td>0.153797</td>\n",
       "    </tr>\n",
       "    <tr>\n",
       "      <th>26.0</th>\n",
       "      <td>2.0</td>\n",
       "      <td>0.019888</td>\n",
       "      <td>0.139485</td>\n",
       "    </tr>\n",
       "    <tr>\n",
       "      <th>28.0</th>\n",
       "      <td>3.0</td>\n",
       "      <td>0.020352</td>\n",
       "      <td>0.146243</td>\n",
       "    </tr>\n",
       "    <tr>\n",
       "      <th>30.0</th>\n",
       "      <td>3.0</td>\n",
       "      <td>0.020818</td>\n",
       "      <td>0.152795</td>\n",
       "    </tr>\n",
       "    <tr>\n",
       "      <th>32.0</th>\n",
       "      <td>3.0</td>\n",
       "      <td>0.021340</td>\n",
       "      <td>0.161070</td>\n",
       "    </tr>\n",
       "    <tr>\n",
       "      <th>34.0</th>\n",
       "      <td>3.0</td>\n",
       "      <td>0.022997</td>\n",
       "      <td>0.189333</td>\n",
       "    </tr>\n",
       "    <tr>\n",
       "      <th>36.0</th>\n",
       "      <td>3.0</td>\n",
       "      <td>0.020864</td>\n",
       "      <td>0.155250</td>\n",
       "    </tr>\n",
       "    <tr>\n",
       "      <th>38.0</th>\n",
       "      <td>4.0</td>\n",
       "      <td>0.020763</td>\n",
       "      <td>0.152303</td>\n",
       "    </tr>\n",
       "    <tr>\n",
       "      <th>40.0</th>\n",
       "      <td>5.0</td>\n",
       "      <td>0.021468</td>\n",
       "      <td>0.164560</td>\n",
       "    </tr>\n",
       "    <tr>\n",
       "      <th>42.0</th>\n",
       "      <td>5.0</td>\n",
       "      <td>0.021271</td>\n",
       "      <td>0.160205</td>\n",
       "    </tr>\n",
       "    <tr>\n",
       "      <th>44.0</th>\n",
       "      <td>6.0</td>\n",
       "      <td>0.021044</td>\n",
       "      <td>0.159079</td>\n",
       "    </tr>\n",
       "    <tr>\n",
       "      <th>46.0</th>\n",
       "      <td>6.0</td>\n",
       "      <td>0.021899</td>\n",
       "      <td>0.171541</td>\n",
       "    </tr>\n",
       "    <tr>\n",
       "      <th>48.0</th>\n",
       "      <td>6.0</td>\n",
       "      <td>0.022617</td>\n",
       "      <td>0.182705</td>\n",
       "    </tr>\n",
       "    <tr>\n",
       "      <th>50.0</th>\n",
       "      <td>8.0</td>\n",
       "      <td>0.022068</td>\n",
       "      <td>0.173370</td>\n",
       "    </tr>\n",
       "    <tr>\n",
       "      <th>52.0</th>\n",
       "      <td>7.0</td>\n",
       "      <td>0.023377</td>\n",
       "      <td>0.194730</td>\n",
       "    </tr>\n",
       "    <tr>\n",
       "      <th>54.0</th>\n",
       "      <td>8.0</td>\n",
       "      <td>0.023704</td>\n",
       "      <td>0.201737</td>\n",
       "    </tr>\n",
       "    <tr>\n",
       "      <th>56.0</th>\n",
       "      <td>8.0</td>\n",
       "      <td>0.023293</td>\n",
       "      <td>0.197077</td>\n",
       "    </tr>\n",
       "    <tr>\n",
       "      <th>58.0</th>\n",
       "      <td>10.0</td>\n",
       "      <td>0.023398</td>\n",
       "      <td>0.194978</td>\n",
       "    </tr>\n",
       "    <tr>\n",
       "      <th>60.0</th>\n",
       "      <td>11.0</td>\n",
       "      <td>0.023803</td>\n",
       "      <td>0.204583</td>\n",
       "    </tr>\n",
       "    <tr>\n",
       "      <th>62.0</th>\n",
       "      <td>11.0</td>\n",
       "      <td>0.024462</td>\n",
       "      <td>0.211832</td>\n",
       "    </tr>\n",
       "    <tr>\n",
       "      <th>64.0</th>\n",
       "      <td>14.0</td>\n",
       "      <td>0.024310</td>\n",
       "      <td>0.211376</td>\n",
       "    </tr>\n",
       "    <tr>\n",
       "      <th>66.0</th>\n",
       "      <td>14.0</td>\n",
       "      <td>0.024298</td>\n",
       "      <td>0.210911</td>\n",
       "    </tr>\n",
       "    <tr>\n",
       "      <th>68.0</th>\n",
       "      <td>15.0</td>\n",
       "      <td>0.023894</td>\n",
       "      <td>0.203744</td>\n",
       "    </tr>\n",
       "    <tr>\n",
       "      <th>70.0</th>\n",
       "      <td>16.0</td>\n",
       "      <td>0.024501</td>\n",
       "      <td>0.214330</td>\n",
       "    </tr>\n",
       "    <tr>\n",
       "      <th>72.0</th>\n",
       "      <td>16.0</td>\n",
       "      <td>0.024638</td>\n",
       "      <td>0.217040</td>\n",
       "    </tr>\n",
       "    <tr>\n",
       "      <th>74.0</th>\n",
       "      <td>17.0</td>\n",
       "      <td>0.025220</td>\n",
       "      <td>0.224450</td>\n",
       "    </tr>\n",
       "    <tr>\n",
       "      <th>76.0</th>\n",
       "      <td>17.0</td>\n",
       "      <td>0.024998</td>\n",
       "      <td>0.224363</td>\n",
       "    </tr>\n",
       "    <tr>\n",
       "      <th>78.0</th>\n",
       "      <td>18.0</td>\n",
       "      <td>0.024231</td>\n",
       "      <td>0.208958</td>\n",
       "    </tr>\n",
       "    <tr>\n",
       "      <th>80.0</th>\n",
       "      <td>18.0</td>\n",
       "      <td>0.025866</td>\n",
       "      <td>0.238201</td>\n",
       "    </tr>\n",
       "    <tr>\n",
       "      <th>82.0</th>\n",
       "      <td>17.0</td>\n",
       "      <td>0.026206</td>\n",
       "      <td>0.246159</td>\n",
       "    </tr>\n",
       "    <tr>\n",
       "      <th>84.0</th>\n",
       "      <td>18.5</td>\n",
       "      <td>0.026482</td>\n",
       "      <td>0.249421</td>\n",
       "    </tr>\n",
       "    <tr>\n",
       "      <th>86.0</th>\n",
       "      <td>17.0</td>\n",
       "      <td>0.026945</td>\n",
       "      <td>0.257961</td>\n",
       "    </tr>\n",
       "  </tbody>\n",
       "</table>\n",
       "</div>"
      ],
      "text/plain": [
       "               NoOfTranspositions  RelativeError  MeanSquaredError\n",
       "SymmetricDiff                                                     \n",
       "0.0                           0.0       0.018069          0.116542\n",
       "4.0                           1.0       0.018415          0.120540\n",
       "6.0                           1.0       0.018130          0.117396\n",
       "8.0                           1.0       0.018161          0.117635\n",
       "10.0                          1.0       0.018688          0.124211\n",
       "12.0                          1.0       0.018394          0.120348\n",
       "14.0                          1.0       0.019180          0.131874\n",
       "16.0                          1.0       0.018803          0.126247\n",
       "18.0                          2.0       0.018667          0.124117\n",
       "20.0                          2.0       0.019258          0.132241\n",
       "22.0                          2.0       0.019165          0.131344\n",
       "24.0                          2.0       0.020832          0.153797\n",
       "26.0                          2.0       0.019888          0.139485\n",
       "28.0                          3.0       0.020352          0.146243\n",
       "30.0                          3.0       0.020818          0.152795\n",
       "32.0                          3.0       0.021340          0.161070\n",
       "34.0                          3.0       0.022997          0.189333\n",
       "36.0                          3.0       0.020864          0.155250\n",
       "38.0                          4.0       0.020763          0.152303\n",
       "40.0                          5.0       0.021468          0.164560\n",
       "42.0                          5.0       0.021271          0.160205\n",
       "44.0                          6.0       0.021044          0.159079\n",
       "46.0                          6.0       0.021899          0.171541\n",
       "48.0                          6.0       0.022617          0.182705\n",
       "50.0                          8.0       0.022068          0.173370\n",
       "52.0                          7.0       0.023377          0.194730\n",
       "54.0                          8.0       0.023704          0.201737\n",
       "56.0                          8.0       0.023293          0.197077\n",
       "58.0                         10.0       0.023398          0.194978\n",
       "60.0                         11.0       0.023803          0.204583\n",
       "62.0                         11.0       0.024462          0.211832\n",
       "64.0                         14.0       0.024310          0.211376\n",
       "66.0                         14.0       0.024298          0.210911\n",
       "68.0                         15.0       0.023894          0.203744\n",
       "70.0                         16.0       0.024501          0.214330\n",
       "72.0                         16.0       0.024638          0.217040\n",
       "74.0                         17.0       0.025220          0.224450\n",
       "76.0                         17.0       0.024998          0.224363\n",
       "78.0                         18.0       0.024231          0.208958\n",
       "80.0                         18.0       0.025866          0.238201\n",
       "82.0                         17.0       0.026206          0.246159\n",
       "84.0                         18.5       0.026482          0.249421\n",
       "86.0                         17.0       0.026945          0.257961"
      ]
     },
     "execution_count": 67,
     "metadata": {},
     "output_type": "execute_result"
    }
   ],
   "source": [
    "perm_top_data_frame = pd.DataFrame(permuted_topologies_results, columns=[\"NoOfTranspositions\",\"SymmetricDiff\",\"RelativeError\",\"MeanSquaredError\"])\n",
    "medians = perm_top_data_frame.groupby(\"SymmetricDiff\").median()\n",
    "lower_five_perc = perm_top_data_frame.groupby(\"SymmetricDiff\").quantile(0.05)\n",
    "upper_five_perc = perm_top_data_frame.groupby(\"SymmetricDiff\").quantile(0.95)\n",
    "medians"
   ]
  },
  {
   "cell_type": "code",
   "execution_count": 73,
   "metadata": {},
   "outputs": [
    {
     "data": {
      "text/html": [
       "<div>\n",
       "<style scoped>\n",
       "    .dataframe tbody tr th:only-of-type {\n",
       "        vertical-align: middle;\n",
       "    }\n",
       "\n",
       "    .dataframe tbody tr th {\n",
       "        vertical-align: top;\n",
       "    }\n",
       "\n",
       "    .dataframe thead th {\n",
       "        text-align: right;\n",
       "    }\n",
       "</style>\n",
       "<table border=\"1\" class=\"dataframe\">\n",
       "  <thead>\n",
       "    <tr style=\"text-align: right;\">\n",
       "      <th></th>\n",
       "      <th>Count</th>\n",
       "    </tr>\n",
       "    <tr>\n",
       "      <th>SymmetricDiff</th>\n",
       "      <th></th>\n",
       "    </tr>\n",
       "  </thead>\n",
       "  <tbody>\n",
       "    <tr>\n",
       "      <th>0.0</th>\n",
       "      <td>105</td>\n",
       "    </tr>\n",
       "    <tr>\n",
       "      <th>4.0</th>\n",
       "      <td>5</td>\n",
       "    </tr>\n",
       "    <tr>\n",
       "      <th>6.0</th>\n",
       "      <td>7</td>\n",
       "    </tr>\n",
       "    <tr>\n",
       "      <th>8.0</th>\n",
       "      <td>7</td>\n",
       "    </tr>\n",
       "    <tr>\n",
       "      <th>10.0</th>\n",
       "      <td>17</td>\n",
       "    </tr>\n",
       "    <tr>\n",
       "      <th>12.0</th>\n",
       "      <td>17</td>\n",
       "    </tr>\n",
       "    <tr>\n",
       "      <th>14.0</th>\n",
       "      <td>31</td>\n",
       "    </tr>\n",
       "    <tr>\n",
       "      <th>16.0</th>\n",
       "      <td>19</td>\n",
       "    </tr>\n",
       "    <tr>\n",
       "      <th>18.0</th>\n",
       "      <td>15</td>\n",
       "    </tr>\n",
       "    <tr>\n",
       "      <th>20.0</th>\n",
       "      <td>23</td>\n",
       "    </tr>\n",
       "    <tr>\n",
       "      <th>22.0</th>\n",
       "      <td>18</td>\n",
       "    </tr>\n",
       "    <tr>\n",
       "      <th>24.0</th>\n",
       "      <td>17</td>\n",
       "    </tr>\n",
       "    <tr>\n",
       "      <th>26.0</th>\n",
       "      <td>25</td>\n",
       "    </tr>\n",
       "    <tr>\n",
       "      <th>28.0</th>\n",
       "      <td>21</td>\n",
       "    </tr>\n",
       "    <tr>\n",
       "      <th>30.0</th>\n",
       "      <td>19</td>\n",
       "    </tr>\n",
       "    <tr>\n",
       "      <th>32.0</th>\n",
       "      <td>29</td>\n",
       "    </tr>\n",
       "    <tr>\n",
       "      <th>34.0</th>\n",
       "      <td>24</td>\n",
       "    </tr>\n",
       "    <tr>\n",
       "      <th>36.0</th>\n",
       "      <td>29</td>\n",
       "    </tr>\n",
       "    <tr>\n",
       "      <th>38.0</th>\n",
       "      <td>34</td>\n",
       "    </tr>\n",
       "    <tr>\n",
       "      <th>40.0</th>\n",
       "      <td>38</td>\n",
       "    </tr>\n",
       "    <tr>\n",
       "      <th>42.0</th>\n",
       "      <td>32</td>\n",
       "    </tr>\n",
       "    <tr>\n",
       "      <th>44.0</th>\n",
       "      <td>47</td>\n",
       "    </tr>\n",
       "    <tr>\n",
       "      <th>46.0</th>\n",
       "      <td>37</td>\n",
       "    </tr>\n",
       "    <tr>\n",
       "      <th>48.0</th>\n",
       "      <td>37</td>\n",
       "    </tr>\n",
       "    <tr>\n",
       "      <th>50.0</th>\n",
       "      <td>57</td>\n",
       "    </tr>\n",
       "    <tr>\n",
       "      <th>52.0</th>\n",
       "      <td>75</td>\n",
       "    </tr>\n",
       "    <tr>\n",
       "      <th>54.0</th>\n",
       "      <td>80</td>\n",
       "    </tr>\n",
       "    <tr>\n",
       "      <th>56.0</th>\n",
       "      <td>61</td>\n",
       "    </tr>\n",
       "    <tr>\n",
       "      <th>58.0</th>\n",
       "      <td>81</td>\n",
       "    </tr>\n",
       "    <tr>\n",
       "      <th>60.0</th>\n",
       "      <td>79</td>\n",
       "    </tr>\n",
       "    <tr>\n",
       "      <th>62.0</th>\n",
       "      <td>122</td>\n",
       "    </tr>\n",
       "    <tr>\n",
       "      <th>64.0</th>\n",
       "      <td>103</td>\n",
       "    </tr>\n",
       "    <tr>\n",
       "      <th>66.0</th>\n",
       "      <td>154</td>\n",
       "    </tr>\n",
       "    <tr>\n",
       "      <th>68.0</th>\n",
       "      <td>138</td>\n",
       "    </tr>\n",
       "    <tr>\n",
       "      <th>70.0</th>\n",
       "      <td>119</td>\n",
       "    </tr>\n",
       "    <tr>\n",
       "      <th>72.0</th>\n",
       "      <td>137</td>\n",
       "    </tr>\n",
       "    <tr>\n",
       "      <th>74.0</th>\n",
       "      <td>127</td>\n",
       "    </tr>\n",
       "    <tr>\n",
       "      <th>76.0</th>\n",
       "      <td>86</td>\n",
       "    </tr>\n",
       "    <tr>\n",
       "      <th>78.0</th>\n",
       "      <td>52</td>\n",
       "    </tr>\n",
       "    <tr>\n",
       "      <th>80.0</th>\n",
       "      <td>33</td>\n",
       "    </tr>\n",
       "    <tr>\n",
       "      <th>82.0</th>\n",
       "      <td>23</td>\n",
       "    </tr>\n",
       "    <tr>\n",
       "      <th>84.0</th>\n",
       "      <td>14</td>\n",
       "    </tr>\n",
       "    <tr>\n",
       "      <th>86.0</th>\n",
       "      <td>6</td>\n",
       "    </tr>\n",
       "  </tbody>\n",
       "</table>\n",
       "</div>"
      ],
      "text/plain": [
       "               Count\n",
       "SymmetricDiff       \n",
       "0.0              105\n",
       "4.0                5\n",
       "6.0                7\n",
       "8.0                7\n",
       "10.0              17\n",
       "12.0              17\n",
       "14.0              31\n",
       "16.0              19\n",
       "18.0              15\n",
       "20.0              23\n",
       "22.0              18\n",
       "24.0              17\n",
       "26.0              25\n",
       "28.0              21\n",
       "30.0              19\n",
       "32.0              29\n",
       "34.0              24\n",
       "36.0              29\n",
       "38.0              34\n",
       "40.0              38\n",
       "42.0              32\n",
       "44.0              47\n",
       "46.0              37\n",
       "48.0              37\n",
       "50.0              57\n",
       "52.0              75\n",
       "54.0              80\n",
       "56.0              61\n",
       "58.0              81\n",
       "60.0              79\n",
       "62.0             122\n",
       "64.0             103\n",
       "66.0             154\n",
       "68.0             138\n",
       "70.0             119\n",
       "72.0             137\n",
       "74.0             127\n",
       "76.0              86\n",
       "78.0              52\n",
       "80.0              33\n",
       "82.0              23\n",
       "84.0              14\n",
       "86.0               6"
      ]
     },
     "execution_count": 73,
     "metadata": {},
     "output_type": "execute_result"
    }
   ],
   "source": [
    "perm_top_data_frame_ = perm_top_data_frame.copy()\n",
    "perm_top_data_frame_[\"Count\"] = 1\n",
    "perm_top_data_frame_ = perm_top_data_frame_[[\"SymmetricDiff\",\"Count\"]]\n",
    "perm_top_data_frame_.groupby(\"SymmetricDiff\").sum()"
   ]
  },
  {
   "cell_type": "code",
   "execution_count": 69,
   "metadata": {},
   "outputs": [],
   "source": [
    "rel_error_y_err_max = pd.DataFrame()\n",
    "rel_error_y_err_max[\"RelativeErrorMax\"] = upper_five_perc.loc[:,\"RelativeError\"] - medians.loc[:,\"RelativeError\"]\n",
    "rel_error_y_err_min = pd.DataFrame()\n",
    "rel_error_y_err_min[\"RelativeErrorMin\"] = medians.loc[:,\"RelativeError\"] - lower_five_perc.loc[:,\"RelativeError\"]\n",
    "rel_error_y_err = rel_error_y_err_min"
   ]
  },
  {
   "cell_type": "code",
   "execution_count": 70,
   "metadata": {},
   "outputs": [
    {
     "data": {
      "image/png": "[encoded data removed]",
      "text/plain": [
       "<Figure size 432x288 with 1 Axes>"
      ]
     },
     "metadata": {},
     "output_type": "display_data"
    }
   ],
   "source": [
    "plt.plot(perm_top_data_frame.iloc[:,1],perm_top_data_frame.iloc[:,2],\"bo\",alpha=0.1)\n",
    "plt.plot(medians.index.values,medians.iloc[:,1], \"ro\")\n",
    "plt.errorbar(medians.index.values,medians.iloc[:,1],yerr=rel_error_y_err.values,lolims=False,uplims=True,ecolor=\"r\", barsabove=True)\n",
    "plt.xlabel(\"Symmetric diff\") # <-- not divided by two here\n",
    "plt.ylabel(\"Relative test error\")\n",
    "plt.show()"
   ]
  },
  {
   "cell_type": "code",
   "execution_count": 71,
   "metadata": {},
   "outputs": [],
   "source": [
    "ms_error_y_err_max = pd.DataFrame()\n",
    "ms_error_y_err_max[\"MeanSquaredErrorMax\"] = upper_five_perc.loc[:,\"MeanSquaredError\"] - medians.loc[:,\"MeanSquaredError\"]\n",
    "ms_error_y_err_min = pd.DataFrame()\n",
    "ms_error_y_err_min[\"MeanSquaredErrorMin\"] = medians.loc[:,\"MeanSquaredError\"] - lower_five_perc.loc[:,\"MeanSquaredError\"]\n",
    "ms_error_y_err = ms_error_y_err_min"
   ]
  },
  {
   "cell_type": "code",
   "execution_count": 72,
   "metadata": {},
   "outputs": [
    {
     "data": {
      "image/png": "[encoded data removed]",
      "text/plain": [
       "<Figure size 432x288 with 1 Axes>"
      ]
     },
     "metadata": {},
     "output_type": "display_data"
    }
   ],
   "source": [
    "plt.plot(perm_top_data_frame.iloc[:,1],perm_top_data_frame.iloc[:,3],\"bo\", alpha=0.1)\n",
    "plt.plot(medians.index.values,medians.iloc[:,2], \"ro\")\n",
    "plt.errorbar(medians.index.values,medians.iloc[:,2],yerr=ms_error_y_err.values,lolims=False,uplims=True,ecolor=\"r\", barsabove=True)\n",
    "plt.xlabel(\"Symmetric diff\") # <-- not divided by two here\n",
    "plt.ylabel(\"Mean squared error\")\n",
    "plt.show()"
   ]
  },
  {
   "cell_type": "markdown",
   "metadata": {},
   "source": [
    "A quick check of fit and eval experiments results - more details in a separate notebook"
   ]
  },
  {
   "cell_type": "code",
   "execution_count": 3,
   "metadata": {},
   "outputs": [
    {
     "data": {
      "text/html": [
       "<div>\n",
       "<style scoped>\n",
       "    .dataframe tbody tr th:only-of-type {\n",
       "        vertical-align: middle;\n",
       "    }\n",
       "\n",
       "    .dataframe tbody tr th {\n",
       "        vertical-align: top;\n",
       "    }\n",
       "\n",
       "    .dataframe thead th {\n",
       "        text-align: right;\n",
       "    }\n",
       "</style>\n",
       "<table border=\"1\" class=\"dataframe\">\n",
       "  <thead>\n",
       "    <tr style=\"text-align: right;\">\n",
       "      <th></th>\n",
       "      <th>0</th>\n",
       "      <th>1</th>\n",
       "      <th>2</th>\n",
       "      <th>3</th>\n",
       "      <th>4</th>\n",
       "      <th>5</th>\n",
       "    </tr>\n",
       "  </thead>\n",
       "  <tbody>\n",
       "    <tr>\n",
       "      <th>61</th>\n",
       "      <td>3</td>\n",
       "      <td>6</td>\n",
       "      <td>tanh</td>\n",
       "      <td>100k_fit_and_evaluate_experiments/model_3_6_ta...</td>\n",
       "      <td>0.015654</td>\n",
       "      <td>0.016347</td>\n",
       "    </tr>\n",
       "    <tr>\n",
       "      <th>26</th>\n",
       "      <td>4</td>\n",
       "      <td>6</td>\n",
       "      <td>tanh</td>\n",
       "      <td>100k_fit_and_evaluate_experiments/model_4_6_ta...</td>\n",
       "      <td>0.013958</td>\n",
       "      <td>0.016786</td>\n",
       "    </tr>\n",
       "    <tr>\n",
       "      <th>63</th>\n",
       "      <td>2</td>\n",
       "      <td>5</td>\n",
       "      <td>tanh</td>\n",
       "      <td>100k_fit_and_evaluate_experiments/model_2_5_ta...</td>\n",
       "      <td>0.016845</td>\n",
       "      <td>0.017154</td>\n",
       "    </tr>\n",
       "    <tr>\n",
       "      <th>27</th>\n",
       "      <td>6</td>\n",
       "      <td>6</td>\n",
       "      <td>tanh</td>\n",
       "      <td>100k_fit_and_evaluate_experiments/model_6_6_ta...</td>\n",
       "      <td>0.013177</td>\n",
       "      <td>0.017183</td>\n",
       "    </tr>\n",
       "    <tr>\n",
       "      <th>6</th>\n",
       "      <td>6</td>\n",
       "      <td>4</td>\n",
       "      <td>tanh</td>\n",
       "      <td>100k_fit_and_evaluate_experiments/model_6_4_ta...</td>\n",
       "      <td>0.015155</td>\n",
       "      <td>0.017238</td>\n",
       "    </tr>\n",
       "    <tr>\n",
       "      <th>54</th>\n",
       "      <td>5</td>\n",
       "      <td>3</td>\n",
       "      <td>tanh</td>\n",
       "      <td>100k_fit_and_evaluate_experiments/model_5_3_ta...</td>\n",
       "      <td>0.017120</td>\n",
       "      <td>0.017969</td>\n",
       "    </tr>\n",
       "    <tr>\n",
       "      <th>7</th>\n",
       "      <td>3</td>\n",
       "      <td>4</td>\n",
       "      <td>tanh</td>\n",
       "      <td>100k_fit_and_evaluate_experiments/model_3_4_ta...</td>\n",
       "      <td>0.016459</td>\n",
       "      <td>0.017978</td>\n",
       "    </tr>\n",
       "    <tr>\n",
       "      <th>36</th>\n",
       "      <td>5</td>\n",
       "      <td>5</td>\n",
       "      <td>tanh</td>\n",
       "      <td>100k_fit_and_evaluate_experiments/model_5_5_ta...</td>\n",
       "      <td>0.014324</td>\n",
       "      <td>0.018343</td>\n",
       "    </tr>\n",
       "    <tr>\n",
       "      <th>68</th>\n",
       "      <td>5</td>\n",
       "      <td>6</td>\n",
       "      <td>tanh</td>\n",
       "      <td>100k_fit_and_evaluate_experiments/model_5_6_ta...</td>\n",
       "      <td>0.013963</td>\n",
       "      <td>0.018536</td>\n",
       "    </tr>\n",
       "    <tr>\n",
       "      <th>59</th>\n",
       "      <td>6</td>\n",
       "      <td>3</td>\n",
       "      <td>tanh</td>\n",
       "      <td>100k_fit_and_evaluate_experiments/model_6_3_ta...</td>\n",
       "      <td>0.015926</td>\n",
       "      <td>0.018740</td>\n",
       "    </tr>\n",
       "    <tr>\n",
       "      <th>58</th>\n",
       "      <td>3</td>\n",
       "      <td>3</td>\n",
       "      <td>tanh</td>\n",
       "      <td>100k_fit_and_evaluate_experiments/model_3_3_ta...</td>\n",
       "      <td>0.017603</td>\n",
       "      <td>0.019008</td>\n",
       "    </tr>\n",
       "    <tr>\n",
       "      <th>3</th>\n",
       "      <td>2</td>\n",
       "      <td>6</td>\n",
       "      <td>tanh</td>\n",
       "      <td>100k_fit_and_evaluate_experiments/model_2_6_ta...</td>\n",
       "      <td>0.016229</td>\n",
       "      <td>0.019263</td>\n",
       "    </tr>\n",
       "    <tr>\n",
       "      <th>16</th>\n",
       "      <td>4</td>\n",
       "      <td>5</td>\n",
       "      <td>tanh</td>\n",
       "      <td>100k_fit_and_evaluate_experiments/model_4_5_ta...</td>\n",
       "      <td>0.014224</td>\n",
       "      <td>0.019344</td>\n",
       "    </tr>\n",
       "    <tr>\n",
       "      <th>65</th>\n",
       "      <td>4</td>\n",
       "      <td>3</td>\n",
       "      <td>tanh</td>\n",
       "      <td>100k_fit_and_evaluate_experiments/model_4_3_ta...</td>\n",
       "      <td>0.016665</td>\n",
       "      <td>0.019557</td>\n",
       "    </tr>\n",
       "    <tr>\n",
       "      <th>42</th>\n",
       "      <td>3</td>\n",
       "      <td>5</td>\n",
       "      <td>tanh</td>\n",
       "      <td>100k_fit_and_evaluate_experiments/model_3_5_ta...</td>\n",
       "      <td>0.015403</td>\n",
       "      <td>0.019866</td>\n",
       "    </tr>\n",
       "    <tr>\n",
       "      <th>13</th>\n",
       "      <td>6</td>\n",
       "      <td>4</td>\n",
       "      <td>relu</td>\n",
       "      <td>100k_fit_and_evaluate_experiments/model_6_4_re...</td>\n",
       "      <td>0.015926</td>\n",
       "      <td>0.020315</td>\n",
       "    </tr>\n",
       "    <tr>\n",
       "      <th>8</th>\n",
       "      <td>2</td>\n",
       "      <td>4</td>\n",
       "      <td>tanh</td>\n",
       "      <td>100k_fit_and_evaluate_experiments/model_2_4_ta...</td>\n",
       "      <td>0.018014</td>\n",
       "      <td>0.020603</td>\n",
       "    </tr>\n",
       "    <tr>\n",
       "      <th>4</th>\n",
       "      <td>3</td>\n",
       "      <td>5</td>\n",
       "      <td>relu</td>\n",
       "      <td>100k_fit_and_evaluate_experiments/model_3_5_re...</td>\n",
       "      <td>0.016797</td>\n",
       "      <td>0.020684</td>\n",
       "    </tr>\n",
       "    <tr>\n",
       "      <th>64</th>\n",
       "      <td>5</td>\n",
       "      <td>4</td>\n",
       "      <td>tanh</td>\n",
       "      <td>100k_fit_and_evaluate_experiments/model_5_4_ta...</td>\n",
       "      <td>0.014879</td>\n",
       "      <td>0.020846</td>\n",
       "    </tr>\n",
       "    <tr>\n",
       "      <th>17</th>\n",
       "      <td>5</td>\n",
       "      <td>6</td>\n",
       "      <td>relu</td>\n",
       "      <td>100k_fit_and_evaluate_experiments/model_5_6_re...</td>\n",
       "      <td>0.014817</td>\n",
       "      <td>0.021568</td>\n",
       "    </tr>\n",
       "    <tr>\n",
       "      <th>2</th>\n",
       "      <td>6</td>\n",
       "      <td>2</td>\n",
       "      <td>tanh</td>\n",
       "      <td>100k_fit_and_evaluate_experiments/model_6_2_ta...</td>\n",
       "      <td>0.018606</td>\n",
       "      <td>0.021594</td>\n",
       "    </tr>\n",
       "    <tr>\n",
       "      <th>62</th>\n",
       "      <td>5</td>\n",
       "      <td>2</td>\n",
       "      <td>tanh</td>\n",
       "      <td>100k_fit_and_evaluate_experiments/model_5_2_ta...</td>\n",
       "      <td>0.019122</td>\n",
       "      <td>0.022301</td>\n",
       "    </tr>\n",
       "    <tr>\n",
       "      <th>29</th>\n",
       "      <td>1</td>\n",
       "      <td>6</td>\n",
       "      <td>tanh</td>\n",
       "      <td>100k_fit_and_evaluate_experiments/model_1_6_ta...</td>\n",
       "      <td>0.021819</td>\n",
       "      <td>0.022408</td>\n",
       "    </tr>\n",
       "    <tr>\n",
       "      <th>44</th>\n",
       "      <td>6</td>\n",
       "      <td>5</td>\n",
       "      <td>tanh</td>\n",
       "      <td>100k_fit_and_evaluate_experiments/model_6_5_ta...</td>\n",
       "      <td>0.014187</td>\n",
       "      <td>0.022479</td>\n",
       "    </tr>\n",
       "    <tr>\n",
       "      <th>71</th>\n",
       "      <td>4</td>\n",
       "      <td>5</td>\n",
       "      <td>relu</td>\n",
       "      <td>100k_fit_and_evaluate_experiments/model_4_5_re...</td>\n",
       "      <td>0.015946</td>\n",
       "      <td>0.022596</td>\n",
       "    </tr>\n",
       "    <tr>\n",
       "      <th>38</th>\n",
       "      <td>4</td>\n",
       "      <td>4</td>\n",
       "      <td>tanh</td>\n",
       "      <td>100k_fit_and_evaluate_experiments/model_4_4_ta...</td>\n",
       "      <td>0.015706</td>\n",
       "      <td>0.022722</td>\n",
       "    </tr>\n",
       "    <tr>\n",
       "      <th>18</th>\n",
       "      <td>6</td>\n",
       "      <td>3</td>\n",
       "      <td>relu</td>\n",
       "      <td>100k_fit_and_evaluate_experiments/model_6_3_re...</td>\n",
       "      <td>0.017941</td>\n",
       "      <td>0.022745</td>\n",
       "    </tr>\n",
       "    <tr>\n",
       "      <th>31</th>\n",
       "      <td>3</td>\n",
       "      <td>6</td>\n",
       "      <td>relu</td>\n",
       "      <td>100k_fit_and_evaluate_experiments/model_3_6_re...</td>\n",
       "      <td>0.015632</td>\n",
       "      <td>0.022932</td>\n",
       "    </tr>\n",
       "    <tr>\n",
       "      <th>24</th>\n",
       "      <td>4</td>\n",
       "      <td>4</td>\n",
       "      <td>relu</td>\n",
       "      <td>100k_fit_and_evaluate_experiments/model_4_4_re...</td>\n",
       "      <td>0.016430</td>\n",
       "      <td>0.022965</td>\n",
       "    </tr>\n",
       "    <tr>\n",
       "      <th>33</th>\n",
       "      <td>4</td>\n",
       "      <td>1</td>\n",
       "      <td>tanh</td>\n",
       "      <td>100k_fit_and_evaluate_experiments/model_4_1_ta...</td>\n",
       "      <td>0.024952</td>\n",
       "      <td>0.022998</td>\n",
       "    </tr>\n",
       "    <tr>\n",
       "      <th>...</th>\n",
       "      <td>...</td>\n",
       "      <td>...</td>\n",
       "      <td>...</td>\n",
       "      <td>...</td>\n",
       "      <td>...</td>\n",
       "      <td>...</td>\n",
       "    </tr>\n",
       "    <tr>\n",
       "      <th>37</th>\n",
       "      <td>3</td>\n",
       "      <td>4</td>\n",
       "      <td>relu</td>\n",
       "      <td>100k_fit_and_evaluate_experiments/model_3_4_re...</td>\n",
       "      <td>0.016595</td>\n",
       "      <td>0.028871</td>\n",
       "    </tr>\n",
       "    <tr>\n",
       "      <th>66</th>\n",
       "      <td>2</td>\n",
       "      <td>2</td>\n",
       "      <td>tanh</td>\n",
       "      <td>100k_fit_and_evaluate_experiments/model_2_2_ta...</td>\n",
       "      <td>0.022651</td>\n",
       "      <td>0.029754</td>\n",
       "    </tr>\n",
       "    <tr>\n",
       "      <th>55</th>\n",
       "      <td>2</td>\n",
       "      <td>6</td>\n",
       "      <td>relu</td>\n",
       "      <td>100k_fit_and_evaluate_experiments/model_2_6_re...</td>\n",
       "      <td>0.016762</td>\n",
       "      <td>0.031927</td>\n",
       "    </tr>\n",
       "    <tr>\n",
       "      <th>23</th>\n",
       "      <td>5</td>\n",
       "      <td>4</td>\n",
       "      <td>relu</td>\n",
       "      <td>100k_fit_and_evaluate_experiments/model_5_4_re...</td>\n",
       "      <td>0.015965</td>\n",
       "      <td>0.032382</td>\n",
       "    </tr>\n",
       "    <tr>\n",
       "      <th>15</th>\n",
       "      <td>6</td>\n",
       "      <td>2</td>\n",
       "      <td>relu</td>\n",
       "      <td>100k_fit_and_evaluate_experiments/model_6_2_re...</td>\n",
       "      <td>0.021272</td>\n",
       "      <td>0.035398</td>\n",
       "    </tr>\n",
       "    <tr>\n",
       "      <th>49</th>\n",
       "      <td>3</td>\n",
       "      <td>2</td>\n",
       "      <td>relu</td>\n",
       "      <td>100k_fit_and_evaluate_experiments/model_3_2_re...</td>\n",
       "      <td>0.020586</td>\n",
       "      <td>0.035813</td>\n",
       "    </tr>\n",
       "    <tr>\n",
       "      <th>60</th>\n",
       "      <td>2</td>\n",
       "      <td>4</td>\n",
       "      <td>relu</td>\n",
       "      <td>100k_fit_and_evaluate_experiments/model_2_4_re...</td>\n",
       "      <td>0.018118</td>\n",
       "      <td>0.037983</td>\n",
       "    </tr>\n",
       "    <tr>\n",
       "      <th>25</th>\n",
       "      <td>3</td>\n",
       "      <td>1</td>\n",
       "      <td>tanh</td>\n",
       "      <td>100k_fit_and_evaluate_experiments/model_3_1_ta...</td>\n",
       "      <td>0.030399</td>\n",
       "      <td>0.039302</td>\n",
       "    </tr>\n",
       "    <tr>\n",
       "      <th>57</th>\n",
       "      <td>1</td>\n",
       "      <td>4</td>\n",
       "      <td>tanh</td>\n",
       "      <td>100k_fit_and_evaluate_experiments/model_1_4_ta...</td>\n",
       "      <td>0.025672</td>\n",
       "      <td>0.040432</td>\n",
       "    </tr>\n",
       "    <tr>\n",
       "      <th>34</th>\n",
       "      <td>5</td>\n",
       "      <td>2</td>\n",
       "      <td>relu</td>\n",
       "      <td>100k_fit_and_evaluate_experiments/model_5_2_re...</td>\n",
       "      <td>0.022177</td>\n",
       "      <td>0.040773</td>\n",
       "    </tr>\n",
       "    <tr>\n",
       "      <th>32</th>\n",
       "      <td>4</td>\n",
       "      <td>2</td>\n",
       "      <td>relu</td>\n",
       "      <td>100k_fit_and_evaluate_experiments/model_4_2_re...</td>\n",
       "      <td>0.021853</td>\n",
       "      <td>0.040950</td>\n",
       "    </tr>\n",
       "    <tr>\n",
       "      <th>11</th>\n",
       "      <td>2</td>\n",
       "      <td>5</td>\n",
       "      <td>relu</td>\n",
       "      <td>100k_fit_and_evaluate_experiments/model_2_5_re...</td>\n",
       "      <td>0.017675</td>\n",
       "      <td>0.044542</td>\n",
       "    </tr>\n",
       "    <tr>\n",
       "      <th>67</th>\n",
       "      <td>1</td>\n",
       "      <td>3</td>\n",
       "      <td>tanh</td>\n",
       "      <td>100k_fit_and_evaluate_experiments/model_1_3_ta...</td>\n",
       "      <td>0.037768</td>\n",
       "      <td>0.044805</td>\n",
       "    </tr>\n",
       "    <tr>\n",
       "      <th>43</th>\n",
       "      <td>6</td>\n",
       "      <td>1</td>\n",
       "      <td>relu</td>\n",
       "      <td>100k_fit_and_evaluate_experiments/model_6_1_re...</td>\n",
       "      <td>0.039482</td>\n",
       "      <td>0.045250</td>\n",
       "    </tr>\n",
       "    <tr>\n",
       "      <th>14</th>\n",
       "      <td>1</td>\n",
       "      <td>4</td>\n",
       "      <td>relu</td>\n",
       "      <td>100k_fit_and_evaluate_experiments/model_1_4_re...</td>\n",
       "      <td>0.032673</td>\n",
       "      <td>0.045308</td>\n",
       "    </tr>\n",
       "    <tr>\n",
       "      <th>20</th>\n",
       "      <td>4</td>\n",
       "      <td>1</td>\n",
       "      <td>relu</td>\n",
       "      <td>100k_fit_and_evaluate_experiments/model_4_1_re...</td>\n",
       "      <td>0.032631</td>\n",
       "      <td>0.046355</td>\n",
       "    </tr>\n",
       "    <tr>\n",
       "      <th>47</th>\n",
       "      <td>2</td>\n",
       "      <td>2</td>\n",
       "      <td>relu</td>\n",
       "      <td>100k_fit_and_evaluate_experiments/model_2_2_re...</td>\n",
       "      <td>0.025603</td>\n",
       "      <td>0.048528</td>\n",
       "    </tr>\n",
       "    <tr>\n",
       "      <th>9</th>\n",
       "      <td>2</td>\n",
       "      <td>3</td>\n",
       "      <td>relu</td>\n",
       "      <td>100k_fit_and_evaluate_experiments/model_2_3_re...</td>\n",
       "      <td>0.021304</td>\n",
       "      <td>0.048676</td>\n",
       "    </tr>\n",
       "    <tr>\n",
       "      <th>19</th>\n",
       "      <td>1</td>\n",
       "      <td>5</td>\n",
       "      <td>tanh</td>\n",
       "      <td>100k_fit_and_evaluate_experiments/model_1_5_ta...</td>\n",
       "      <td>0.025099</td>\n",
       "      <td>0.053131</td>\n",
       "    </tr>\n",
       "    <tr>\n",
       "      <th>21</th>\n",
       "      <td>1</td>\n",
       "      <td>5</td>\n",
       "      <td>relu</td>\n",
       "      <td>100k_fit_and_evaluate_experiments/model_1_5_re...</td>\n",
       "      <td>0.026464</td>\n",
       "      <td>0.055658</td>\n",
       "    </tr>\n",
       "    <tr>\n",
       "      <th>1</th>\n",
       "      <td>5</td>\n",
       "      <td>1</td>\n",
       "      <td>relu</td>\n",
       "      <td>100k_fit_and_evaluate_experiments/model_5_1_re...</td>\n",
       "      <td>0.036907</td>\n",
       "      <td>0.057685</td>\n",
       "    </tr>\n",
       "    <tr>\n",
       "      <th>35</th>\n",
       "      <td>1</td>\n",
       "      <td>1</td>\n",
       "      <td>tanh</td>\n",
       "      <td>100k_fit_and_evaluate_experiments/model_1_1_ta...</td>\n",
       "      <td>0.037239</td>\n",
       "      <td>0.058187</td>\n",
       "    </tr>\n",
       "    <tr>\n",
       "      <th>46</th>\n",
       "      <td>3</td>\n",
       "      <td>1</td>\n",
       "      <td>relu</td>\n",
       "      <td>100k_fit_and_evaluate_experiments/model_3_1_re...</td>\n",
       "      <td>0.037538</td>\n",
       "      <td>0.058985</td>\n",
       "    </tr>\n",
       "    <tr>\n",
       "      <th>40</th>\n",
       "      <td>1</td>\n",
       "      <td>6</td>\n",
       "      <td>relu</td>\n",
       "      <td>100k_fit_and_evaluate_experiments/model_1_6_re...</td>\n",
       "      <td>0.022677</td>\n",
       "      <td>0.059090</td>\n",
       "    </tr>\n",
       "    <tr>\n",
       "      <th>48</th>\n",
       "      <td>1</td>\n",
       "      <td>2</td>\n",
       "      <td>tanh</td>\n",
       "      <td>100k_fit_and_evaluate_experiments/model_1_2_ta...</td>\n",
       "      <td>0.039785</td>\n",
       "      <td>0.059493</td>\n",
       "    </tr>\n",
       "    <tr>\n",
       "      <th>53</th>\n",
       "      <td>2</td>\n",
       "      <td>1</td>\n",
       "      <td>tanh</td>\n",
       "      <td>100k_fit_and_evaluate_experiments/model_2_1_ta...</td>\n",
       "      <td>0.033922</td>\n",
       "      <td>0.065226</td>\n",
       "    </tr>\n",
       "    <tr>\n",
       "      <th>0</th>\n",
       "      <td>1</td>\n",
       "      <td>1</td>\n",
       "      <td>relu</td>\n",
       "      <td>100k_fit_and_evaluate_experiments/model_1_1_re...</td>\n",
       "      <td>0.049325</td>\n",
       "      <td>0.068004</td>\n",
       "    </tr>\n",
       "    <tr>\n",
       "      <th>5</th>\n",
       "      <td>2</td>\n",
       "      <td>1</td>\n",
       "      <td>relu</td>\n",
       "      <td>100k_fit_and_evaluate_experiments/model_2_1_re...</td>\n",
       "      <td>0.044148</td>\n",
       "      <td>0.071485</td>\n",
       "    </tr>\n",
       "    <tr>\n",
       "      <th>12</th>\n",
       "      <td>1</td>\n",
       "      <td>3</td>\n",
       "      <td>relu</td>\n",
       "      <td>100k_fit_and_evaluate_experiments/model_1_3_re...</td>\n",
       "      <td>0.037612</td>\n",
       "      <td>0.079943</td>\n",
       "    </tr>\n",
       "    <tr>\n",
       "      <th>22</th>\n",
       "      <td>1</td>\n",
       "      <td>2</td>\n",
       "      <td>relu</td>\n",
       "      <td>100k_fit_and_evaluate_experiments/model_1_2_re...</td>\n",
       "      <td>0.039957</td>\n",
       "      <td>0.090182</td>\n",
       "    </tr>\n",
       "  </tbody>\n",
       "</table>\n",
       "<p>72 rows × 6 columns</p>\n",
       "</div>"
      ],
      "text/plain": [
       "    0  1     2                                                  3         4  \\\n",
       "61  3  6  tanh  100k_fit_and_evaluate_experiments/model_3_6_ta...  0.015654   \n",
       "26  4  6  tanh  100k_fit_and_evaluate_experiments/model_4_6_ta...  0.013958   \n",
       "63  2  5  tanh  100k_fit_and_evaluate_experiments/model_2_5_ta...  0.016845   \n",
       "27  6  6  tanh  100k_fit_and_evaluate_experiments/model_6_6_ta...  0.013177   \n",
       "6   6  4  tanh  100k_fit_and_evaluate_experiments/model_6_4_ta...  0.015155   \n",
       "54  5  3  tanh  100k_fit_and_evaluate_experiments/model_5_3_ta...  0.017120   \n",
       "7   3  4  tanh  100k_fit_and_evaluate_experiments/model_3_4_ta...  0.016459   \n",
       "36  5  5  tanh  100k_fit_and_evaluate_experiments/model_5_5_ta...  0.014324   \n",
       "68  5  6  tanh  100k_fit_and_evaluate_experiments/model_5_6_ta...  0.013963   \n",
       "59  6  3  tanh  100k_fit_and_evaluate_experiments/model_6_3_ta...  0.015926   \n",
       "58  3  3  tanh  100k_fit_and_evaluate_experiments/model_3_3_ta...  0.017603   \n",
       "3   2  6  tanh  100k_fit_and_evaluate_experiments/model_2_6_ta...  0.016229   \n",
       "16  4  5  tanh  100k_fit_and_evaluate_experiments/model_4_5_ta...  0.014224   \n",
       "65  4  3  tanh  100k_fit_and_evaluate_experiments/model_4_3_ta...  0.016665   \n",
       "42  3  5  tanh  100k_fit_and_evaluate_experiments/model_3_5_ta...  0.015403   \n",
       "13  6  4  relu  100k_fit_and_evaluate_experiments/model_6_4_re...  0.015926   \n",
       "8   2  4  tanh  100k_fit_and_evaluate_experiments/model_2_4_ta...  0.018014   \n",
       "4   3  5  relu  100k_fit_and_evaluate_experiments/model_3_5_re...  0.016797   \n",
       "64  5  4  tanh  100k_fit_and_evaluate_experiments/model_5_4_ta...  0.014879   \n",
       "17  5  6  relu  100k_fit_and_evaluate_experiments/model_5_6_re...  0.014817   \n",
       "2   6  2  tanh  100k_fit_and_evaluate_experiments/model_6_2_ta...  0.018606   \n",
       "62  5  2  tanh  100k_fit_and_evaluate_experiments/model_5_2_ta...  0.019122   \n",
       "29  1  6  tanh  100k_fit_and_evaluate_experiments/model_1_6_ta...  0.021819   \n",
       "44  6  5  tanh  100k_fit_and_evaluate_experiments/model_6_5_ta...  0.014187   \n",
       "71  4  5  relu  100k_fit_and_evaluate_experiments/model_4_5_re...  0.015946   \n",
       "38  4  4  tanh  100k_fit_and_evaluate_experiments/model_4_4_ta...  0.015706   \n",
       "18  6  3  relu  100k_fit_and_evaluate_experiments/model_6_3_re...  0.017941   \n",
       "31  3  6  relu  100k_fit_and_evaluate_experiments/model_3_6_re...  0.015632   \n",
       "24  4  4  relu  100k_fit_and_evaluate_experiments/model_4_4_re...  0.016430   \n",
       "33  4  1  tanh  100k_fit_and_evaluate_experiments/model_4_1_ta...  0.024952   \n",
       ".. .. ..   ...                                                ...       ...   \n",
       "37  3  4  relu  100k_fit_and_evaluate_experiments/model_3_4_re...  0.016595   \n",
       "66  2  2  tanh  100k_fit_and_evaluate_experiments/model_2_2_ta...  0.022651   \n",
       "55  2  6  relu  100k_fit_and_evaluate_experiments/model_2_6_re...  0.016762   \n",
       "23  5  4  relu  100k_fit_and_evaluate_experiments/model_5_4_re...  0.015965   \n",
       "15  6  2  relu  100k_fit_and_evaluate_experiments/model_6_2_re...  0.021272   \n",
       "49  3  2  relu  100k_fit_and_evaluate_experiments/model_3_2_re...  0.020586   \n",
       "60  2  4  relu  100k_fit_and_evaluate_experiments/model_2_4_re...  0.018118   \n",
       "25  3  1  tanh  100k_fit_and_evaluate_experiments/model_3_1_ta...  0.030399   \n",
       "57  1  4  tanh  100k_fit_and_evaluate_experiments/model_1_4_ta...  0.025672   \n",
       "34  5  2  relu  100k_fit_and_evaluate_experiments/model_5_2_re...  0.022177   \n",
       "32  4  2  relu  100k_fit_and_evaluate_experiments/model_4_2_re...  0.021853   \n",
       "11  2  5  relu  100k_fit_and_evaluate_experiments/model_2_5_re...  0.017675   \n",
       "67  1  3  tanh  100k_fit_and_evaluate_experiments/model_1_3_ta...  0.037768   \n",
       "43  6  1  relu  100k_fit_and_evaluate_experiments/model_6_1_re...  0.039482   \n",
       "14  1  4  relu  100k_fit_and_evaluate_experiments/model_1_4_re...  0.032673   \n",
       "20  4  1  relu  100k_fit_and_evaluate_experiments/model_4_1_re...  0.032631   \n",
       "47  2  2  relu  100k_fit_and_evaluate_experiments/model_2_2_re...  0.025603   \n",
       "9   2  3  relu  100k_fit_and_evaluate_experiments/model_2_3_re...  0.021304   \n",
       "19  1  5  tanh  100k_fit_and_evaluate_experiments/model_1_5_ta...  0.025099   \n",
       "21  1  5  relu  100k_fit_and_evaluate_experiments/model_1_5_re...  0.026464   \n",
       "1   5  1  relu  100k_fit_and_evaluate_experiments/model_5_1_re...  0.036907   \n",
       "35  1  1  tanh  100k_fit_and_evaluate_experiments/model_1_1_ta...  0.037239   \n",
       "46  3  1  relu  100k_fit_and_evaluate_experiments/model_3_1_re...  0.037538   \n",
       "40  1  6  relu  100k_fit_and_evaluate_experiments/model_1_6_re...  0.022677   \n",
       "48  1  2  tanh  100k_fit_and_evaluate_experiments/model_1_2_ta...  0.039785   \n",
       "53  2  1  tanh  100k_fit_and_evaluate_experiments/model_2_1_ta...  0.033922   \n",
       "0   1  1  relu  100k_fit_and_evaluate_experiments/model_1_1_re...  0.049325   \n",
       "5   2  1  relu  100k_fit_and_evaluate_experiments/model_2_1_re...  0.044148   \n",
       "12  1  3  relu  100k_fit_and_evaluate_experiments/model_1_3_re...  0.037612   \n",
       "22  1  2  relu  100k_fit_and_evaluate_experiments/model_1_2_re...  0.039957   \n",
       "\n",
       "           5  \n",
       "61  0.016347  \n",
       "26  0.016786  \n",
       "63  0.017154  \n",
       "27  0.017183  \n",
       "6   0.017238  \n",
       "54  0.017969  \n",
       "7   0.017978  \n",
       "36  0.018343  \n",
       "68  0.018536  \n",
       "59  0.018740  \n",
       "58  0.019008  \n",
       "3   0.019263  \n",
       "16  0.019344  \n",
       "65  0.019557  \n",
       "42  0.019866  \n",
       "13  0.020315  \n",
       "8   0.020603  \n",
       "4   0.020684  \n",
       "64  0.020846  \n",
       "17  0.021568  \n",
       "2   0.021594  \n",
       "62  0.022301  \n",
       "29  0.022408  \n",
       "44  0.022479  \n",
       "71  0.022596  \n",
       "38  0.022722  \n",
       "18  0.022745  \n",
       "31  0.022932  \n",
       "24  0.022965  \n",
       "33  0.022998  \n",
       "..       ...  \n",
       "37  0.028871  \n",
       "66  0.029754  \n",
       "55  0.031927  \n",
       "23  0.032382  \n",
       "15  0.035398  \n",
       "49  0.035813  \n",
       "60  0.037983  \n",
       "25  0.039302  \n",
       "57  0.040432  \n",
       "34  0.040773  \n",
       "32  0.040950  \n",
       "11  0.044542  \n",
       "67  0.044805  \n",
       "43  0.045250  \n",
       "14  0.045308  \n",
       "20  0.046355  \n",
       "47  0.048528  \n",
       "9   0.048676  \n",
       "19  0.053131  \n",
       "21  0.055658  \n",
       "1   0.057685  \n",
       "35  0.058187  \n",
       "46  0.058985  \n",
       "40  0.059090  \n",
       "48  0.059493  \n",
       "53  0.065226  \n",
       "0   0.068004  \n",
       "5   0.071485  \n",
       "12  0.079943  \n",
       "22  0.090182  \n",
       "\n",
       "[72 rows x 6 columns]"
      ]
     },
     "execution_count": 3,
     "metadata": {},
     "output_type": "execute_result"
    }
   ],
   "source": [
    "df = pd.read_csv(\"100k_fit_and_evaluate_experiments/fit_eval_results.csv\",header=None)\n",
    "df.sort_values([5])"
   ]
  },
  {
   "cell_type": "markdown",
   "metadata": {},
   "source": [
    "### Experiments with intermediate layers - visualization in mind, not included in the paper"
   ]
  },
  {
   "cell_type": "markdown",
   "metadata": {},
   "source": [
    "Define a network and get its layer list:"
   ]
  },
  {
   "cell_type": "code",
   "execution_count": 6,
   "metadata": {},
   "outputs": [
    {
     "name": "stdout",
     "output_type": "stream",
     "text": [
      "(21, 48, 1, 4)\n",
      "(?, 48, 4)\n",
      "(48, 21, 4, 4)\n",
      "(?, 21, 4)\n",
      "(21, 48, 4, 4)\n",
      "(?, 48, 4)\n",
      "(?, 192)\n"
     ]
    }
   ],
   "source": [
    "nn_input = tf.placeholder(dtype=tf.float32, shape=[None, 21])\n",
    "targets = tf.placeholder(dtype=tf.float32, shape=[None, 1])\n",
    "nn_output, nn_layers = graph_nn.transfer_matrix_neural_net_with_layer_output(nn_input, 3, 4, tf.nn.tanh, ochota_adj_matrix, verbose=True, share_weights_in_transfer_matrix=False, share_biases_in_transfer_matrix=False)"
   ]
  },
  {
   "cell_type": "code",
   "execution_count": 7,
   "metadata": {},
   "outputs": [
    {
     "data": {
      "text/plain": [
       "[<tf.Tensor 'Placeholder:0' shape=(?, 21) dtype=float32>,\n",
       " <tf.Tensor 'Tanh:0' shape=(?, 48, 4) dtype=float32>,\n",
       " <tf.Tensor 'Tanh_1:0' shape=(?, 21, 4) dtype=float32>,\n",
       " <tf.Tensor 'Tanh_2:0' shape=(?, 48, 4) dtype=float32>,\n",
       " <tf.Tensor 'dense/Identity:0' shape=(?, 1) dtype=float32>]"
      ]
     },
     "execution_count": 7,
     "metadata": {},
     "output_type": "execute_result"
    }
   ],
   "source": [
    "nn_layers"
   ]
  },
  {
   "cell_type": "markdown",
   "metadata": {},
   "source": [
    "Load a trained network:"
   ]
  },
  {
   "cell_type": "code",
   "execution_count": 8,
   "metadata": {},
   "outputs": [
    {
     "name": "stdout",
     "output_type": "stream",
     "text": [
      "INFO:tensorflow:Restoring parameters from 100k_fit_and_evaluate_experiments/model_3_4_tanh.ckpt\n"
     ]
    }
   ],
   "source": [
    "# close session (if open)\n",
    "try:\n",
    "    sess.close()\n",
    "except:\n",
    "    pass\n",
    "\n",
    "# open new session\n",
    "sess =  tf.Session()\n",
    "\n",
    "saver = tf.train.Saver()\n",
    "saver.restore(sess, \"100k_fit_and_evaluate_experiments/model_3_4_tanh.ckpt\")"
   ]
  },
  {
   "cell_type": "code",
   "execution_count": 19,
   "metadata": {},
   "outputs": [
    {
     "name": "stdout",
     "output_type": "stream",
     "text": [
      "INFO:tensorflow:Restoring parameters from 100k_fit_and_evaluate_experiments/model_3_4_tanh.ckpt\n",
      "0.016459187597153417\n"
     ]
    }
   ],
   "source": [
    "model_avg_error, actual_vs_predicted = train_eval.evaluate_model_on_a_dataset(\"100k_fit_and_evaluate_experiments/model_3_4_tanh.ckpt\", nn_output,nn_input, X_test, y_test, y_scaler)\n",
    "print(model_avg_error)"
   ]
  },
  {
   "cell_type": "code",
   "execution_count": 20,
   "metadata": {},
   "outputs": [
    {
     "data": {
      "text/plain": [
       "Text(0.5,1,'Actual vs. predicted')"
      ]
     },
     "execution_count": 20,
     "metadata": {},
     "output_type": "execute_result"
    },
    {
     "data": {
      "image/png": "[encoded data removed]",
      "text/plain": [
       "<Figure size 432x288 with 1 Axes>"
      ]
     },
     "metadata": {},
     "output_type": "display_data"
    }
   ],
   "source": [
    "y_test_sorted = [x[0] for x in actual_vs_predicted]\n",
    "y_test_pred_sorted = [x[1] for x in actual_vs_predicted]\n",
    "plt.plot(y_test_pred_sorted, y_test_sorted)\n",
    "plt.plot(y_test_pred_sorted, y_test_pred_sorted)\n",
    "plt.title(\"Actual vs. predicted\")"
   ]
  },
  {
   "cell_type": "code",
   "execution_count": 9,
   "metadata": {},
   "outputs": [],
   "source": [
    "X_test = X_test.reset_index(drop=True)\n",
    "y_test = y_test.reset_index(drop=True)\n",
    "example_X = X_test.iloc[y_test.idxmin(),:].values.reshape([1,-1])"
   ]
  },
  {
   "cell_type": "markdown",
   "metadata": {},
   "source": [
    "Plot layer activations for the exemplary input:"
   ]
  },
  {
   "cell_type": "code",
   "execution_count": 35,
   "metadata": {},
   "outputs": [
    {
     "data": {
      "image/png": "[encoded data removed]",
      "text/plain": [
       "<Figure size 432x288 with 2 Axes>"
      ]
     },
     "metadata": {},
     "output_type": "display_data"
    },
    {
     "data": {
      "image/png": "[encoded data removed]",
      "text/plain": [
       "<Figure size 432x288 with 2 Axes>"
      ]
     },
     "metadata": {},
     "output_type": "display_data"
    },
    {
     "data": {
      "image/png": "[encoded data removed]",
      "text/plain": [
       "<Figure size 432x288 with 2 Axes>"
      ]
     },
     "metadata": {},
     "output_type": "display_data"
    },
    {
     "data": {
      "image/png": "[encoded data removed]",
      "text/plain": [
       "<Figure size 432x288 with 2 Axes>"
      ]
     },
     "metadata": {},
     "output_type": "display_data"
    },
    {
     "data": {
      "image/png": "[encoded data removed]",
      "text/plain": [
       "<Figure size 432x288 with 2 Axes>"
      ]
     },
     "metadata": {},
     "output_type": "display_data"
    }
   ],
   "source": [
    "import seaborn as sns\n",
    "for l in nn_layers:\n",
    "    l_out = sess.run(l, feed_dict={nn_input: example_X})\n",
    "    if len(l_out.shape) > 2:\n",
    "        l_out_ = np.squeeze(l_out)\n",
    "    else:\n",
    "        l_out_ = np.transpose(l_out)\n",
    "    sns.heatmap(l_out_, linewidth=0.5, center=0.0)\n",
    "    plt.show()"
   ]
  },
  {
   "cell_type": "markdown",
   "metadata": {},
   "source": [
    "Now for gradients:"
   ]
  },
  {
   "cell_type": "code",
   "execution_count": 47,
   "metadata": {},
   "outputs": [
    {
     "data": {
      "image/png": "[encoded data removed]",
      "text/plain": [
       "<Figure size 432x288 with 2 Axes>"
      ]
     },
     "metadata": {},
     "output_type": "display_data"
    },
    {
     "data": {
      "image/png": "[encoded data removed]",
      "text/plain": [
       "<Figure size 432x288 with 2 Axes>"
      ]
     },
     "metadata": {},
     "output_type": "display_data"
    },
    {
     "data": {
      "image/png": "[encoded data removed]",
      "text/plain": [
       "<Figure size 432x288 with 2 Axes>"
      ]
     },
     "metadata": {},
     "output_type": "display_data"
    },
    {
     "data": {
      "image/png": "[encoded data removed]",
      "text/plain": [
       "<Figure size 432x288 with 2 Axes>"
      ]
     },
     "metadata": {},
     "output_type": "display_data"
    },
    {
     "data": {
      "image/png": "[encoded data removed]",
      "text/plain": [
       "<Figure size 432x288 with 2 Axes>"
      ]
     },
     "metadata": {},
     "output_type": "display_data"
    }
   ],
   "source": [
    "import seaborn as sns\n",
    "for l in nn_layers:\n",
    "    l_out = sess.run(l, feed_dict={nn_input: example_X})\n",
    "    gradient_op = tf.gradients(nn_output, l)\n",
    "    gradient = sess.run(gradient_op, feed_dict={nn_input: example_X})\n",
    "    gradient = gradient[0].reshape(l_out.shape)\n",
    "    if len(l_out.shape) > 2:\n",
    "        l_out_ = np.squeeze(l_out)\n",
    "        gradient_ = np.squeeze(gradient)\n",
    "    else:\n",
    "        l_out_ = np.transpose(l_out)\n",
    "        gradient_ = np.transpose(gradient)\n",
    "    sns.heatmap(gradient_, linewidth=0.5, center=0.0)\n",
    "    plt.show()"
   ]
  },
  {
   "cell_type": "markdown",
   "metadata": {},
   "source": [
    "The same thing for Kiepf's type network:"
   ]
  },
  {
   "cell_type": "code",
   "execution_count": 6,
   "metadata": {},
   "outputs": [
    {
     "name": "stdout",
     "output_type": "stream",
     "text": [
      "(21, 21, 1, 4)\n",
      "(?, 21, 4)\n",
      "(21, 21, 4, 4)\n",
      "(?, 21, 4)\n",
      "(21, 21, 4, 4)\n",
      "(?, 21, 4)\n",
      "(21, 21, 4, 4)\n",
      "(?, 21, 4)\n",
      "(21, 21, 4, 4)\n",
      "(?, 21, 4)\n",
      "(?, 84)\n"
     ]
    }
   ],
   "source": [
    "nn_input = tf.placeholder(dtype=tf.float32, shape=[None, 21])\n",
    "targets = tf.placeholder(dtype=tf.float32, shape=[None, 1])\n",
    "nn_output, nn_layers = graph_nn.kipfs_transfer_matrix_neural_net_with_layer_output(nn_input, 5, 4, tf.nn.tanh, ochota_adj_matrix, verbose=True)"
   ]
  },
  {
   "cell_type": "code",
   "execution_count": 7,
   "metadata": {},
   "outputs": [],
   "source": [
    "optimizer = tf.train.AdamOptimizer(0.005)"
   ]
  },
  {
   "cell_type": "code",
   "execution_count": 7,
   "metadata": {},
   "outputs": [
    {
     "data": {
      "text/plain": [
       "[<tf.Tensor 'Placeholder:0' shape=(?, 21) dtype=float32>,\n",
       " <tf.Tensor 'Tanh:0' shape=(?, 21, 4) dtype=float32>,\n",
       " <tf.Tensor 'Tanh_1:0' shape=(?, 21, 4) dtype=float32>,\n",
       " <tf.Tensor 'Tanh_2:0' shape=(?, 21, 4) dtype=float32>,\n",
       " <tf.Tensor 'dense/Identity:0' shape=(?, 1) dtype=float32>]"
      ]
     },
     "execution_count": 7,
     "metadata": {},
     "output_type": "execute_result"
    }
   ],
   "source": [
    "nn_layers"
   ]
  },
  {
   "cell_type": "code",
   "execution_count": 7,
   "metadata": {},
   "outputs": [
    {
     "name": "stdout",
     "output_type": "stream",
     "text": [
      "INFO:tensorflow:Restoring parameters from trained_networks/kipfs_5_4_tanh_model.ckpt\n"
     ]
    }
   ],
   "source": [
    "# close session (if open)\n",
    "try:\n",
    "    sess.close()\n",
    "except:\n",
    "    pass\n",
    "\n",
    "# open new session\n",
    "sess =  tf.Session()\n",
    "\n",
    "saver = tf.train.Saver()\n",
    "saver.restore(sess, \"trained_networks/kipfs_5_4_tanh_model.ckpt\")"
   ]
  },
  {
   "cell_type": "code",
   "execution_count": 10,
   "metadata": {},
   "outputs": [
    {
     "data": {
      "image/png": "[encoded data removed]",
      "text/plain": [
       "<Figure size 432x288 with 2 Axes>"
      ]
     },
     "metadata": {},
     "output_type": "display_data"
    },
    {
     "data": {
      "image/png": "[encoded data removed]",
      "text/plain": [
       "<Figure size 432x288 with 2 Axes>"
      ]
     },
     "metadata": {},
     "output_type": "display_data"
    },
    {
     "data": {
      "image/png": "[encoded data removed]",
      "text/plain": [
       "<Figure size 432x288 with 2 Axes>"
      ]
     },
     "metadata": {},
     "output_type": "display_data"
    },
    {
     "data": {
      "image/png": "[encoded data removed]",
      "text/plain": [
       "<Figure size 432x288 with 2 Axes>"
      ]
     },
     "metadata": {},
     "output_type": "display_data"
    },
    {
     "data": {
      "image/png": "[encoded data removed]",
      "text/plain": [
       "<Figure size 432x288 with 2 Axes>"
      ]
     },
     "metadata": {},
     "output_type": "display_data"
    },
    {
     "data": {
      "image/png": "[encoded data removed]",
      "text/plain": [
       "<Figure size 432x288 with 2 Axes>"
      ]
     },
     "metadata": {},
     "output_type": "display_data"
    },
    {
     "data": {
      "image/png": "[encoded data removed]",
      "text/plain": [
       "<Figure size 432x288 with 2 Axes>"
      ]
     },
     "metadata": {},
     "output_type": "display_data"
    }
   ],
   "source": [
    "import seaborn as sns\n",
    "for l in nn_layers:\n",
    "    l_out = sess.run(l, feed_dict={nn_input: example_X})\n",
    "    gradient_op = tf.gradients(nn_output, l)\n",
    "    gradient = sess.run(gradient_op, feed_dict={nn_input: example_X})\n",
    "    gradient = gradient[0].reshape(l_out.shape)\n",
    "    if len(l_out.shape) > 2:\n",
    "        l_out_ = np.squeeze(l_out)\n",
    "        gradient_ = np.squeeze(gradient)\n",
    "    else:\n",
    "        l_out_ = np.transpose(l_out)\n",
    "        gradient_ = np.transpose(gradient)\n",
    "    sns.heatmap(gradient_, linewidth=0.5, center=0.0)\n",
    "    plt.show()"
   ]
  },
  {
   "cell_type": "code",
   "execution_count": 30,
   "metadata": {},
   "outputs": [
    {
     "name": "stdout",
     "output_type": "stream",
     "text": [
      "Prediction 49839.535156, rounded: 49878.835938\n",
      "Prediction 38128.316406, rounded: 38110.808594\n",
      "Prediction 33890.445312, rounded: 33915.703125\n",
      "Prediction 33365.394531, rounded: 33371.246094\n",
      "Prediction 33266.769531, rounded: 33268.164062\n",
      "Prediction 33220.554688, rounded: 33221.386719\n",
      "Prediction 33197.457031, rounded: 33200.843750\n",
      "Prediction 33183.570312, rounded: 33189.644531\n",
      "Prediction 33173.433594, rounded: 33179.843750\n",
      "Prediction 33165.074219, rounded: 33175.351562\n",
      "Prediction 33157.796875, rounded: 33159.843750\n",
      "Prediction 33151.292969, rounded: 33153.410156\n",
      "Prediction 33145.414062, rounded: 33150.875000\n",
      "Prediction 33140.066406, rounded: 33146.917969\n",
      "Prediction 33135.191406, rounded: 33144.082031\n",
      "Prediction 33130.734375, rounded: 33141.957031\n",
      "Prediction 33126.667969, rounded: 33132.984375\n",
      "Prediction 33122.937500, rounded: 33119.382812\n",
      "Prediction 33119.519531, rounded: 33118.238281\n",
      "Prediction 33116.363281, rounded: 33116.832031\n",
      "Prediction 33113.457031, rounded: 33115.765625\n",
      "Prediction 33110.765625, rounded: 33109.476562\n",
      "Prediction 33108.265625, rounded: 33108.304688\n",
      "Prediction 33105.933594, rounded: 33107.671875\n",
      "Prediction 33103.761719, rounded: 33106.574219\n",
      "Prediction 33101.730469, rounded: 33105.238281\n",
      "Prediction 33099.820312, rounded: 33105.238281\n",
      "Prediction 33098.019531, rounded: 33099.457031\n",
      "Prediction 33096.335938, rounded: 33098.332031\n",
      "Prediction 33094.738281, rounded: 33097.625000\n",
      "Prediction 33093.238281, rounded: 33096.683594\n",
      "Prediction 33091.812500, rounded: 33095.539062\n",
      "Prediction 33090.457031, rounded: 33096.062500\n",
      "Prediction 33089.171875, rounded: 33095.460938\n",
      "Prediction 33087.957031, rounded: 33094.816406\n",
      "Prediction 33086.796875, rounded: 33094.281250\n",
      "Prediction 33085.687500, rounded: 33093.644531\n",
      "Prediction 33084.632812, rounded: 33093.023438\n",
      "Prediction 33083.628906, rounded: 33092.679688\n",
      "Prediction 33082.664062, rounded: 33092.132812\n",
      "Prediction 33081.750000, rounded: 33092.132812\n",
      "Prediction 33080.863281, rounded: 33091.417969\n",
      "Prediction 33080.023438, rounded: 33085.593750\n",
      "Prediction 33079.210938, rounded: 33085.722656\n",
      "Prediction 33078.437500, rounded: 33084.523438\n",
      "Prediction 33077.691406, rounded: 33084.437500\n",
      "Prediction 33076.976562, rounded: 33084.437500\n",
      "Prediction 33076.289062, rounded: 33083.234375\n",
      "Prediction 33075.625000, rounded: 33083.234375\n",
      "Prediction 33074.992188, rounded: 33083.152344\n",
      "Prediction 33074.378906, rounded: 33081.941406\n",
      "Prediction 33073.781250, rounded: 33081.941406\n",
      "Prediction 33073.218750, rounded: 33081.941406\n",
      "Prediction 33072.664062, rounded: 33078.121094\n",
      "Prediction 33072.136719, rounded: 33076.820312\n",
      "Prediction 33071.625000, rounded: 33076.820312\n",
      "Prediction 33071.128906, rounded: 33076.820312\n",
      "Prediction 33070.648438, rounded: 33076.656250\n",
      "Prediction 33070.187500, rounded: 33075.980469\n",
      "Prediction 33069.738281, rounded: 33075.343750\n",
      "Prediction 33069.304688, rounded: 33075.343750\n",
      "Prediction 33068.886719, rounded: 33075.343750\n",
      "Prediction 33068.480469, rounded: 33074.746094\n",
      "Prediction 33068.082031, rounded: 33074.664062\n",
      "Prediction 33067.699219, rounded: 33074.664062\n",
      "Prediction 33067.328125, rounded: 33074.031250\n",
      "Prediction 33066.972656, rounded: 33074.031250\n",
      "Prediction 33066.621094, rounded: 33071.343750\n",
      "Prediction 33066.281250, rounded: 33070.730469\n",
      "Prediction 33065.949219, rounded: 33070.730469\n",
      "Prediction 33065.632812, rounded: 33070.730469\n",
      "Prediction 33065.320312, rounded: 33070.730469\n",
      "Prediction 33065.015625, rounded: 33070.632812\n",
      "Prediction 33064.718750, rounded: 33069.968750\n",
      "Prediction 33064.429688, rounded: 33069.351562\n",
      "Prediction 33064.144531, rounded: 33069.351562\n",
      "Prediction 33063.878906, rounded: 33069.351562\n",
      "Prediction 33063.613281, rounded: 33069.351562\n",
      "Prediction 33063.355469, rounded: 33069.253906\n",
      "Prediction 33063.101562, rounded: 33069.253906\n",
      "Prediction 33062.855469, rounded: 33069.253906\n",
      "Prediction 33062.617188, rounded: 33069.253906\n",
      "Prediction 33062.382812, rounded: 33068.621094\n",
      "Prediction 33062.152344, rounded: 33067.867188\n",
      "Prediction 33061.929688, rounded: 33067.867188\n",
      "Prediction 33061.710938, rounded: 33067.867188\n",
      "Prediction 33061.496094, rounded: 33067.867188\n",
      "Prediction 33061.289062, rounded: 33067.867188\n",
      "Prediction 33061.085938, rounded: 33067.867188\n",
      "Prediction 33060.886719, rounded: 33067.773438\n",
      "Prediction 33060.687500, rounded: 33067.773438\n",
      "Prediction 33060.500000, rounded: 33067.773438\n",
      "Prediction 33060.316406, rounded: 33067.136719\n",
      "Prediction 33060.132812, rounded: 33067.136719\n",
      "Prediction 33059.953125, rounded: 33067.136719\n",
      "Prediction 33059.777344, rounded: 33066.382812\n",
      "Prediction 33059.609375, rounded: 33066.382812\n",
      "Prediction 33059.441406, rounded: 33066.382812\n",
      "Prediction 33059.277344, rounded: 33066.382812\n",
      "Prediction 33059.117188, rounded: 33066.382812\n"
     ]
    }
   ],
   "source": [
    "updater = MomentumGradientDescent()\n",
    "\n",
    "trajectory = train_eval.generate_gradient_descent_trajectory(sess, nn_output, nn_input, X_scaler, y_scaler, updater, 3000, 30, verbose=True)"
   ]
  },
  {
   "cell_type": "code",
   "execution_count": 31,
   "metadata": {},
   "outputs": [],
   "source": [
    "min_X_example = X_scaler.transform(np.array(trajectory[-1][0])).reshape(1,21)"
   ]
  },
  {
   "cell_type": "code",
   "execution_count": 32,
   "metadata": {},
   "outputs": [
    {
     "data": {
      "image/png": "[encoded data removed]",
      "text/plain": [
       "<Figure size 432x288 with 2 Axes>"
      ]
     },
     "metadata": {},
     "output_type": "display_data"
    },
    {
     "data": {
      "image/png": "[encoded data removed]",
      "text/plain": [
       "<Figure size 432x288 with 2 Axes>"
      ]
     },
     "metadata": {},
     "output_type": "display_data"
    },
    {
     "data": {
      "image/png": "[encoded data removed]",
      "text/plain": [
       "<Figure size 432x288 with 2 Axes>"
      ]
     },
     "metadata": {},
     "output_type": "display_data"
    },
    {
     "data": {
      "image/png": "[encoded data removed]",
      "text/plain": [
       "<Figure size 432x288 with 2 Axes>"
      ]
     },
     "metadata": {},
     "output_type": "display_data"
    },
    {
     "data": {
      "image/png": "[encoded data removed]",
      "text/plain": [
       "<Figure size 432x288 with 2 Axes>"
      ]
     },
     "metadata": {},
     "output_type": "display_data"
    },
    {
     "data": {
      "image/png": "[encoded data removed]",
      "text/plain": [
       "<Figure size 432x288 with 2 Axes>"
      ]
     },
     "metadata": {},
     "output_type": "display_data"
    },
    {
     "data": {
      "image/png": "[encoded data removed]",
      "text/plain": [
       "<Figure size 432x288 with 2 Axes>"
      ]
     },
     "metadata": {},
     "output_type": "display_data"
    }
   ],
   "source": [
    "import seaborn as sns\n",
    "for l in nn_layers:\n",
    "    l_out = sess.run(l, feed_dict={nn_input: min_X_example})\n",
    "    gradient_op = tf.gradients(nn_output, l)\n",
    "    gradient = sess.run(gradient_op, feed_dict={nn_input: min_X_example})\n",
    "    gradient = gradient[0].reshape(l_out.shape)\n",
    "    if len(l_out.shape) > 2:\n",
    "        l_out_ = np.squeeze(l_out)\n",
    "        gradient_ = np.squeeze(gradient)\n",
    "    else:\n",
    "        l_out_ = np.transpose(l_out)\n",
    "        gradient_ = np.transpose(gradient)\n",
    "    sns.heatmap(gradient_, linewidth=0.5, center=0.0)\n",
    "    plt.show()"
   ]
  }
 ],
 "metadata": {
  "kernelspec": {
   "display_name": "Python [conda env:aind]",
   "language": "python",
   "name": "conda-env-aind-py"
  },
  "language_info": {
   "codemirror_mode": {
    "name": "ipython",
    "version": 3
   },
   "file_extension": ".py",
   "mimetype": "text/x-python",
   "name": "python",
   "nbconvert_exporter": "python",
   "pygments_lexer": "ipython3",
   "version": "3.5.4"
  }
 },
 "nbformat": 4,
 "nbformat_minor": 2
}
