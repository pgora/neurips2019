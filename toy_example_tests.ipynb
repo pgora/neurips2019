{
 "cells": [
  {
   "cell_type": "markdown",
   "metadata": {},
   "source": [
    "# Tests related to toy problem"
   ]
  },
  {
   "cell_type": "code",
   "execution_count": 1,
   "metadata": {},
   "outputs": [
    {
     "name": "stderr",
     "output_type": "stream",
     "text": [
      "C:\\Users\\Lukasz\\AppData\\Local\\conda\\conda\\envs\\aind\\lib\\site-packages\\h5py\\__init__.py:36: FutureWarning: Conversion of the second argument of issubdtype from `float` to `np.floating` is deprecated. In future, it will be treated as `np.float64 == np.dtype(float).type`.\n",
      "  from ._conv import register_converters as _register_converters\n"
     ]
    }
   ],
   "source": [
    "%load_ext autoreload\n",
    "%autoreload 2\n",
    "\n",
    "import numpy as np\n",
    "import pandas as pd\n",
    "import tensorflow as tf\n",
    "\n",
    "import matplotlib.pyplot as plt\n",
    "\n",
    "import graph_utils as graph_utils\n",
    "import graph_neural_networks as graph_nn\n",
    "import data_preparation_utils as data_prep\n",
    "from iterative_updaters import VanillaGradientDescent, MomentumGradientDescent, NesterovMomentumGradientDescent, RMSPropGradientDescent, AdamGradientDescent\n",
    "import training_and_evaluation as train_eval\n",
    "import graph_nn_experiments as experiments"
   ]
  },
  {
   "cell_type": "markdown",
   "metadata": {},
   "source": [
    "Core methods for generating training data for the toy example:"
   ]
  },
  {
   "cell_type": "code",
   "execution_count": 2,
   "metadata": {},
   "outputs": [],
   "source": [
    "def generate_dataset_based_on_graph(graph, nb_of_points):\n",
    "    points = generate_points(size=graph.shape[0], nb_of_points=nb_of_points)\n",
    "    values = get_values_for_points(points, graph)\n",
    "    return points, values\n",
    "\n",
    "\n",
    "def generate_points(size, nb_of_points):\n",
    "    return np.random.randint(\n",
    "        low=0, \n",
    "        high=120, \n",
    "        size=(nb_of_points, size),\n",
    "    )\n",
    "\n",
    "\n",
    "def get_values_for_points(points, graph):\n",
    "    return np.array([get_value_for_point(point, graph) for point in points])\n",
    "\n",
    "\n",
    "def get_value_for_point(point, graph):\n",
    "    full_entropy = 0\n",
    "    rescaled_point = point / 40.0\n",
    "    for i in range(graph.shape[0]):\n",
    "        row_sum = 0\n",
    "        row_ent = 0\n",
    "        for j in range(graph.shape[1]):\n",
    "            if graph[i, j] == 0:\n",
    "                continue\n",
    "            current_distance = 0.5 * (point[i] - point[j]) ** 2\n",
    "            exp_current_distance = np.exp(-current_distance)\n",
    "            row_ent += current_distance * exp_current_distance\n",
    "            row_sum += exp_current_distance\n",
    "        if row_sum > 0:\n",
    "            full_entropy += row_ent / row_sum + np.log(row_sum)\n",
    "    return full_entropy"
   ]
  },
  {
   "cell_type": "markdown",
   "metadata": {},
   "source": [
    "Load adjacency matrix for crossings in Ochota:"
   ]
  },
  {
   "cell_type": "code",
   "execution_count": 3,
   "metadata": {},
   "outputs": [],
   "source": [
    "ochota_adj_matrix = np.genfromtxt(\"macierz_sasiedztwa.txt\")"
   ]
  },
  {
   "cell_type": "code",
   "execution_count": 5,
   "metadata": {},
   "outputs": [
    {
     "data": {
      "image/png": "[encoded data removed]",
      "text/plain": [
       "<Figure size 432x288 with 1 Axes>"
      ]
     },
     "metadata": {},
     "output_type": "display_data"
    }
   ],
   "source": [
    "plt.imshow(ochota_adj_matrix, cmap='hot', interpolation='nearest')\n",
    "plt.show()"
   ]
  },
  {
   "cell_type": "markdown",
   "metadata": {},
   "source": [
    "Generate and save training set for the toy problem:"
   ]
  },
  {
   "cell_type": "code",
   "execution_count": 5,
   "metadata": {},
   "outputs": [],
   "source": [
    "X, y = generate_dataset_based_on_graph(nb_of_points=100000, graph=ochota_adj_matrix)\n",
    "Xy = np.hstack([X,y.reshape(-1,1)])\n",
    "np.savetxt(\"toy_set.csv\", Xy, delimiter=\",\")"
   ]
  },
  {
   "cell_type": "markdown",
   "metadata": {},
   "source": [
    "**Now try the alternating transfer matrix architecture on toy dataset:**"
   ]
  },
  {
   "cell_type": "markdown",
   "metadata": {},
   "source": [
    "Load the data:"
   ]
  },
  {
   "cell_type": "code",
   "execution_count": 6,
   "metadata": {},
   "outputs": [
    {
     "data": {
      "text/html": [
       "<div>\n",
       "<style scoped>\n",
       "    .dataframe tbody tr th:only-of-type {\n",
       "        vertical-align: middle;\n",
       "    }\n",
       "\n",
       "    .dataframe tbody tr th {\n",
       "        vertical-align: top;\n",
       "    }\n",
       "\n",
       "    .dataframe thead th {\n",
       "        text-align: right;\n",
       "    }\n",
       "</style>\n",
       "<table border=\"1\" class=\"dataframe\">\n",
       "  <thead>\n",
       "    <tr style=\"text-align: right;\">\n",
       "      <th></th>\n",
       "      <th>0</th>\n",
       "      <th>1</th>\n",
       "      <th>2</th>\n",
       "      <th>3</th>\n",
       "      <th>4</th>\n",
       "      <th>5</th>\n",
       "      <th>6</th>\n",
       "      <th>7</th>\n",
       "      <th>8</th>\n",
       "      <th>9</th>\n",
       "      <th>...</th>\n",
       "      <th>12</th>\n",
       "      <th>13</th>\n",
       "      <th>14</th>\n",
       "      <th>15</th>\n",
       "      <th>16</th>\n",
       "      <th>17</th>\n",
       "      <th>18</th>\n",
       "      <th>19</th>\n",
       "      <th>20</th>\n",
       "      <th>21</th>\n",
       "    </tr>\n",
       "  </thead>\n",
       "  <tbody>\n",
       "    <tr>\n",
       "      <th>0</th>\n",
       "      <td>3.0</td>\n",
       "      <td>36.0</td>\n",
       "      <td>116.0</td>\n",
       "      <td>63.0</td>\n",
       "      <td>60.0</td>\n",
       "      <td>70.0</td>\n",
       "      <td>91.0</td>\n",
       "      <td>9.0</td>\n",
       "      <td>60.0</td>\n",
       "      <td>109.0</td>\n",
       "      <td>...</td>\n",
       "      <td>29.0</td>\n",
       "      <td>20.0</td>\n",
       "      <td>107.0</td>\n",
       "      <td>54.0</td>\n",
       "      <td>106.0</td>\n",
       "      <td>95.0</td>\n",
       "      <td>98.0</td>\n",
       "      <td>91.0</td>\n",
       "      <td>88.0</td>\n",
       "      <td>0.912229</td>\n",
       "    </tr>\n",
       "    <tr>\n",
       "      <th>1</th>\n",
       "      <td>97.0</td>\n",
       "      <td>114.0</td>\n",
       "      <td>59.0</td>\n",
       "      <td>103.0</td>\n",
       "      <td>67.0</td>\n",
       "      <td>45.0</td>\n",
       "      <td>99.0</td>\n",
       "      <td>70.0</td>\n",
       "      <td>37.0</td>\n",
       "      <td>53.0</td>\n",
       "      <td>...</td>\n",
       "      <td>13.0</td>\n",
       "      <td>40.0</td>\n",
       "      <td>7.0</td>\n",
       "      <td>55.0</td>\n",
       "      <td>22.0</td>\n",
       "      <td>102.0</td>\n",
       "      <td>48.0</td>\n",
       "      <td>91.0</td>\n",
       "      <td>65.0</td>\n",
       "      <td>0.063708</td>\n",
       "    </tr>\n",
       "    <tr>\n",
       "      <th>2</th>\n",
       "      <td>23.0</td>\n",
       "      <td>2.0</td>\n",
       "      <td>83.0</td>\n",
       "      <td>63.0</td>\n",
       "      <td>21.0</td>\n",
       "      <td>66.0</td>\n",
       "      <td>29.0</td>\n",
       "      <td>4.0</td>\n",
       "      <td>48.0</td>\n",
       "      <td>58.0</td>\n",
       "      <td>...</td>\n",
       "      <td>70.0</td>\n",
       "      <td>63.0</td>\n",
       "      <td>66.0</td>\n",
       "      <td>1.0</td>\n",
       "      <td>103.0</td>\n",
       "      <td>72.0</td>\n",
       "      <td>96.0</td>\n",
       "      <td>82.0</td>\n",
       "      <td>65.0</td>\n",
       "      <td>3.863808</td>\n",
       "    </tr>\n",
       "    <tr>\n",
       "      <th>3</th>\n",
       "      <td>93.0</td>\n",
       "      <td>104.0</td>\n",
       "      <td>51.0</td>\n",
       "      <td>42.0</td>\n",
       "      <td>35.0</td>\n",
       "      <td>55.0</td>\n",
       "      <td>33.0</td>\n",
       "      <td>67.0</td>\n",
       "      <td>92.0</td>\n",
       "      <td>9.0</td>\n",
       "      <td>...</td>\n",
       "      <td>9.0</td>\n",
       "      <td>77.0</td>\n",
       "      <td>55.0</td>\n",
       "      <td>74.0</td>\n",
       "      <td>76.0</td>\n",
       "      <td>14.0</td>\n",
       "      <td>16.0</td>\n",
       "      <td>36.0</td>\n",
       "      <td>82.0</td>\n",
       "      <td>1.449872</td>\n",
       "    </tr>\n",
       "    <tr>\n",
       "      <th>4</th>\n",
       "      <td>81.0</td>\n",
       "      <td>16.0</td>\n",
       "      <td>24.0</td>\n",
       "      <td>50.0</td>\n",
       "      <td>87.0</td>\n",
       "      <td>2.0</td>\n",
       "      <td>96.0</td>\n",
       "      <td>52.0</td>\n",
       "      <td>76.0</td>\n",
       "      <td>12.0</td>\n",
       "      <td>...</td>\n",
       "      <td>98.0</td>\n",
       "      <td>90.0</td>\n",
       "      <td>67.0</td>\n",
       "      <td>119.0</td>\n",
       "      <td>99.0</td>\n",
       "      <td>117.0</td>\n",
       "      <td>10.0</td>\n",
       "      <td>115.0</td>\n",
       "      <td>118.0</td>\n",
       "      <td>2.153349</td>\n",
       "    </tr>\n",
       "  </tbody>\n",
       "</table>\n",
       "<p>5 rows × 22 columns</p>\n",
       "</div>"
      ],
      "text/plain": [
       "     0      1      2      3     4     5     6     7     8      9     ...     \\\n",
       "0   3.0   36.0  116.0   63.0  60.0  70.0  91.0   9.0  60.0  109.0    ...      \n",
       "1  97.0  114.0   59.0  103.0  67.0  45.0  99.0  70.0  37.0   53.0    ...      \n",
       "2  23.0    2.0   83.0   63.0  21.0  66.0  29.0   4.0  48.0   58.0    ...      \n",
       "3  93.0  104.0   51.0   42.0  35.0  55.0  33.0  67.0  92.0    9.0    ...      \n",
       "4  81.0   16.0   24.0   50.0  87.0   2.0  96.0  52.0  76.0   12.0    ...      \n",
       "\n",
       "     12    13     14     15     16     17    18     19     20        21  \n",
       "0  29.0  20.0  107.0   54.0  106.0   95.0  98.0   91.0   88.0  0.912229  \n",
       "1  13.0  40.0    7.0   55.0   22.0  102.0  48.0   91.0   65.0  0.063708  \n",
       "2  70.0  63.0   66.0    1.0  103.0   72.0  96.0   82.0   65.0  3.863808  \n",
       "3   9.0  77.0   55.0   74.0   76.0   14.0  16.0   36.0   82.0  1.449872  \n",
       "4  98.0  90.0   67.0  119.0   99.0  117.0  10.0  115.0  118.0  2.153349  \n",
       "\n",
       "[5 rows x 22 columns]"
      ]
     },
     "execution_count": 6,
     "metadata": {},
     "output_type": "execute_result"
    }
   ],
   "source": [
    "toy_data = pd.read_csv(\"toy_set.csv\", header=None)\n",
    "toy_data.head()"
   ]
  },
  {
   "cell_type": "markdown",
   "metadata": {},
   "source": [
    "Normalize:"
   ]
  },
  {
   "cell_type": "code",
   "execution_count": 7,
   "metadata": {},
   "outputs": [],
   "source": [
    "X, y, X_scaler, y_scaler = data_prep.scale_standard_traffic_light_data(toy_data)"
   ]
  },
  {
   "cell_type": "code",
   "execution_count": 48,
   "metadata": {},
   "outputs": [
    {
     "data": {
      "text/html": [
       "<div>\n",
       "<style scoped>\n",
       "    .dataframe tbody tr th:only-of-type {\n",
       "        vertical-align: middle;\n",
       "    }\n",
       "\n",
       "    .dataframe tbody tr th {\n",
       "        vertical-align: top;\n",
       "    }\n",
       "\n",
       "    .dataframe thead th {\n",
       "        text-align: right;\n",
       "    }\n",
       "</style>\n",
       "<table border=\"1\" class=\"dataframe\">\n",
       "  <thead>\n",
       "    <tr style=\"text-align: right;\">\n",
       "      <th></th>\n",
       "      <th>0</th>\n",
       "      <th>1</th>\n",
       "      <th>2</th>\n",
       "      <th>3</th>\n",
       "      <th>4</th>\n",
       "      <th>5</th>\n",
       "      <th>6</th>\n",
       "      <th>7</th>\n",
       "      <th>8</th>\n",
       "      <th>9</th>\n",
       "      <th>...</th>\n",
       "      <th>11</th>\n",
       "      <th>12</th>\n",
       "      <th>13</th>\n",
       "      <th>14</th>\n",
       "      <th>15</th>\n",
       "      <th>16</th>\n",
       "      <th>17</th>\n",
       "      <th>18</th>\n",
       "      <th>19</th>\n",
       "      <th>20</th>\n",
       "    </tr>\n",
       "  </thead>\n",
       "  <tbody>\n",
       "    <tr>\n",
       "      <th>0</th>\n",
       "      <td>-0.950000</td>\n",
       "      <td>-0.400000</td>\n",
       "      <td>0.933333</td>\n",
       "      <td>0.050000</td>\n",
       "      <td>0.000000</td>\n",
       "      <td>0.166667</td>\n",
       "      <td>0.516667</td>\n",
       "      <td>-0.850000</td>\n",
       "      <td>0.000000</td>\n",
       "      <td>0.816667</td>\n",
       "      <td>...</td>\n",
       "      <td>0.100000</td>\n",
       "      <td>-0.516667</td>\n",
       "      <td>-0.666667</td>\n",
       "      <td>0.783333</td>\n",
       "      <td>-0.100000</td>\n",
       "      <td>0.766667</td>\n",
       "      <td>0.583333</td>\n",
       "      <td>0.633333</td>\n",
       "      <td>0.516667</td>\n",
       "      <td>0.466667</td>\n",
       "    </tr>\n",
       "    <tr>\n",
       "      <th>1</th>\n",
       "      <td>0.616667</td>\n",
       "      <td>0.900000</td>\n",
       "      <td>-0.016667</td>\n",
       "      <td>0.716667</td>\n",
       "      <td>0.116667</td>\n",
       "      <td>-0.250000</td>\n",
       "      <td>0.650000</td>\n",
       "      <td>0.166667</td>\n",
       "      <td>-0.383333</td>\n",
       "      <td>-0.116667</td>\n",
       "      <td>...</td>\n",
       "      <td>-0.950000</td>\n",
       "      <td>-0.783333</td>\n",
       "      <td>-0.333333</td>\n",
       "      <td>-0.883333</td>\n",
       "      <td>-0.083333</td>\n",
       "      <td>-0.633333</td>\n",
       "      <td>0.700000</td>\n",
       "      <td>-0.200000</td>\n",
       "      <td>0.516667</td>\n",
       "      <td>0.083333</td>\n",
       "    </tr>\n",
       "    <tr>\n",
       "      <th>2</th>\n",
       "      <td>-0.616667</td>\n",
       "      <td>-0.966667</td>\n",
       "      <td>0.383333</td>\n",
       "      <td>0.050000</td>\n",
       "      <td>-0.650000</td>\n",
       "      <td>0.100000</td>\n",
       "      <td>-0.516667</td>\n",
       "      <td>-0.933333</td>\n",
       "      <td>-0.200000</td>\n",
       "      <td>-0.033333</td>\n",
       "      <td>...</td>\n",
       "      <td>0.016667</td>\n",
       "      <td>0.166667</td>\n",
       "      <td>0.050000</td>\n",
       "      <td>0.100000</td>\n",
       "      <td>-0.983333</td>\n",
       "      <td>0.716667</td>\n",
       "      <td>0.200000</td>\n",
       "      <td>0.600000</td>\n",
       "      <td>0.366667</td>\n",
       "      <td>0.083333</td>\n",
       "    </tr>\n",
       "    <tr>\n",
       "      <th>3</th>\n",
       "      <td>0.550000</td>\n",
       "      <td>0.733333</td>\n",
       "      <td>-0.150000</td>\n",
       "      <td>-0.300000</td>\n",
       "      <td>-0.416667</td>\n",
       "      <td>-0.083333</td>\n",
       "      <td>-0.450000</td>\n",
       "      <td>0.116667</td>\n",
       "      <td>0.533333</td>\n",
       "      <td>-0.850000</td>\n",
       "      <td>...</td>\n",
       "      <td>-0.683333</td>\n",
       "      <td>-0.850000</td>\n",
       "      <td>0.283333</td>\n",
       "      <td>-0.083333</td>\n",
       "      <td>0.233333</td>\n",
       "      <td>0.266667</td>\n",
       "      <td>-0.766667</td>\n",
       "      <td>-0.733333</td>\n",
       "      <td>-0.400000</td>\n",
       "      <td>0.366667</td>\n",
       "    </tr>\n",
       "    <tr>\n",
       "      <th>4</th>\n",
       "      <td>0.350000</td>\n",
       "      <td>-0.733333</td>\n",
       "      <td>-0.600000</td>\n",
       "      <td>-0.166667</td>\n",
       "      <td>0.450000</td>\n",
       "      <td>-0.966667</td>\n",
       "      <td>0.600000</td>\n",
       "      <td>-0.133333</td>\n",
       "      <td>0.266667</td>\n",
       "      <td>-0.800000</td>\n",
       "      <td>...</td>\n",
       "      <td>-0.483333</td>\n",
       "      <td>0.633333</td>\n",
       "      <td>0.500000</td>\n",
       "      <td>0.116667</td>\n",
       "      <td>0.983333</td>\n",
       "      <td>0.650000</td>\n",
       "      <td>0.950000</td>\n",
       "      <td>-0.833333</td>\n",
       "      <td>0.916667</td>\n",
       "      <td>0.966667</td>\n",
       "    </tr>\n",
       "  </tbody>\n",
       "</table>\n",
       "<p>5 rows × 21 columns</p>\n",
       "</div>"
      ],
      "text/plain": [
       "         0         1         2         3         4         5         6   \\\n",
       "0 -0.950000 -0.400000  0.933333  0.050000  0.000000  0.166667  0.516667   \n",
       "1  0.616667  0.900000 -0.016667  0.716667  0.116667 -0.250000  0.650000   \n",
       "2 -0.616667 -0.966667  0.383333  0.050000 -0.650000  0.100000 -0.516667   \n",
       "3  0.550000  0.733333 -0.150000 -0.300000 -0.416667 -0.083333 -0.450000   \n",
       "4  0.350000 -0.733333 -0.600000 -0.166667  0.450000 -0.966667  0.600000   \n",
       "\n",
       "         7         8         9     ...           11        12        13  \\\n",
       "0 -0.850000  0.000000  0.816667    ...     0.100000 -0.516667 -0.666667   \n",
       "1  0.166667 -0.383333 -0.116667    ...    -0.950000 -0.783333 -0.333333   \n",
       "2 -0.933333 -0.200000 -0.033333    ...     0.016667  0.166667  0.050000   \n",
       "3  0.116667  0.533333 -0.850000    ...    -0.683333 -0.850000  0.283333   \n",
       "4 -0.133333  0.266667 -0.800000    ...    -0.483333  0.633333  0.500000   \n",
       "\n",
       "         14        15        16        17        18        19        20  \n",
       "0  0.783333 -0.100000  0.766667  0.583333  0.633333  0.516667  0.466667  \n",
       "1 -0.883333 -0.083333 -0.633333  0.700000 -0.200000  0.516667  0.083333  \n",
       "2  0.100000 -0.983333  0.716667  0.200000  0.600000  0.366667  0.083333  \n",
       "3 -0.083333  0.233333  0.266667 -0.766667 -0.733333 -0.400000  0.366667  \n",
       "4  0.116667  0.983333  0.650000  0.950000 -0.833333  0.916667  0.966667  \n",
       "\n",
       "[5 rows x 21 columns]"
      ]
     },
     "execution_count": 48,
     "metadata": {},
     "output_type": "execute_result"
    }
   ],
   "source": [
    "X.head()"
   ]
  },
  {
   "cell_type": "code",
   "execution_count": 49,
   "metadata": {},
   "outputs": [
    {
     "data": {
      "text/html": [
       "<div>\n",
       "<style scoped>\n",
       "    .dataframe tbody tr th:only-of-type {\n",
       "        vertical-align: middle;\n",
       "    }\n",
       "\n",
       "    .dataframe tbody tr th {\n",
       "        vertical-align: top;\n",
       "    }\n",
       "\n",
       "    .dataframe thead th {\n",
       "        text-align: right;\n",
       "    }\n",
       "</style>\n",
       "<table border=\"1\" class=\"dataframe\">\n",
       "  <thead>\n",
       "    <tr style=\"text-align: right;\">\n",
       "      <th></th>\n",
       "      <th>0</th>\n",
       "      <th>1</th>\n",
       "      <th>2</th>\n",
       "      <th>3</th>\n",
       "      <th>4</th>\n",
       "      <th>5</th>\n",
       "      <th>6</th>\n",
       "      <th>7</th>\n",
       "      <th>8</th>\n",
       "      <th>9</th>\n",
       "      <th>...</th>\n",
       "      <th>11</th>\n",
       "      <th>12</th>\n",
       "      <th>13</th>\n",
       "      <th>14</th>\n",
       "      <th>15</th>\n",
       "      <th>16</th>\n",
       "      <th>17</th>\n",
       "      <th>18</th>\n",
       "      <th>19</th>\n",
       "      <th>20</th>\n",
       "    </tr>\n",
       "  </thead>\n",
       "  <tbody>\n",
       "    <tr>\n",
       "      <th>0</th>\n",
       "      <td>3.0</td>\n",
       "      <td>36.0</td>\n",
       "      <td>116.0</td>\n",
       "      <td>63.0</td>\n",
       "      <td>60.0</td>\n",
       "      <td>70.0</td>\n",
       "      <td>91.0</td>\n",
       "      <td>9.0</td>\n",
       "      <td>60.0</td>\n",
       "      <td>109.0</td>\n",
       "      <td>...</td>\n",
       "      <td>66.0</td>\n",
       "      <td>29.0</td>\n",
       "      <td>20.0</td>\n",
       "      <td>107.0</td>\n",
       "      <td>54.0</td>\n",
       "      <td>106.0</td>\n",
       "      <td>95.0</td>\n",
       "      <td>98.0</td>\n",
       "      <td>91.0</td>\n",
       "      <td>88.0</td>\n",
       "    </tr>\n",
       "    <tr>\n",
       "      <th>1</th>\n",
       "      <td>97.0</td>\n",
       "      <td>114.0</td>\n",
       "      <td>59.0</td>\n",
       "      <td>103.0</td>\n",
       "      <td>67.0</td>\n",
       "      <td>45.0</td>\n",
       "      <td>99.0</td>\n",
       "      <td>70.0</td>\n",
       "      <td>37.0</td>\n",
       "      <td>53.0</td>\n",
       "      <td>...</td>\n",
       "      <td>3.0</td>\n",
       "      <td>13.0</td>\n",
       "      <td>40.0</td>\n",
       "      <td>7.0</td>\n",
       "      <td>55.0</td>\n",
       "      <td>22.0</td>\n",
       "      <td>102.0</td>\n",
       "      <td>48.0</td>\n",
       "      <td>91.0</td>\n",
       "      <td>65.0</td>\n",
       "    </tr>\n",
       "    <tr>\n",
       "      <th>2</th>\n",
       "      <td>23.0</td>\n",
       "      <td>2.0</td>\n",
       "      <td>83.0</td>\n",
       "      <td>63.0</td>\n",
       "      <td>21.0</td>\n",
       "      <td>66.0</td>\n",
       "      <td>29.0</td>\n",
       "      <td>4.0</td>\n",
       "      <td>48.0</td>\n",
       "      <td>58.0</td>\n",
       "      <td>...</td>\n",
       "      <td>61.0</td>\n",
       "      <td>70.0</td>\n",
       "      <td>63.0</td>\n",
       "      <td>66.0</td>\n",
       "      <td>1.0</td>\n",
       "      <td>103.0</td>\n",
       "      <td>72.0</td>\n",
       "      <td>96.0</td>\n",
       "      <td>82.0</td>\n",
       "      <td>65.0</td>\n",
       "    </tr>\n",
       "    <tr>\n",
       "      <th>3</th>\n",
       "      <td>93.0</td>\n",
       "      <td>104.0</td>\n",
       "      <td>51.0</td>\n",
       "      <td>42.0</td>\n",
       "      <td>35.0</td>\n",
       "      <td>55.0</td>\n",
       "      <td>33.0</td>\n",
       "      <td>67.0</td>\n",
       "      <td>92.0</td>\n",
       "      <td>9.0</td>\n",
       "      <td>...</td>\n",
       "      <td>19.0</td>\n",
       "      <td>9.0</td>\n",
       "      <td>77.0</td>\n",
       "      <td>55.0</td>\n",
       "      <td>74.0</td>\n",
       "      <td>76.0</td>\n",
       "      <td>14.0</td>\n",
       "      <td>16.0</td>\n",
       "      <td>36.0</td>\n",
       "      <td>82.0</td>\n",
       "    </tr>\n",
       "    <tr>\n",
       "      <th>4</th>\n",
       "      <td>81.0</td>\n",
       "      <td>16.0</td>\n",
       "      <td>24.0</td>\n",
       "      <td>50.0</td>\n",
       "      <td>87.0</td>\n",
       "      <td>2.0</td>\n",
       "      <td>96.0</td>\n",
       "      <td>52.0</td>\n",
       "      <td>76.0</td>\n",
       "      <td>12.0</td>\n",
       "      <td>...</td>\n",
       "      <td>31.0</td>\n",
       "      <td>98.0</td>\n",
       "      <td>90.0</td>\n",
       "      <td>67.0</td>\n",
       "      <td>119.0</td>\n",
       "      <td>99.0</td>\n",
       "      <td>117.0</td>\n",
       "      <td>10.0</td>\n",
       "      <td>115.0</td>\n",
       "      <td>118.0</td>\n",
       "    </tr>\n",
       "  </tbody>\n",
       "</table>\n",
       "<p>5 rows × 21 columns</p>\n",
       "</div>"
      ],
      "text/plain": [
       "     0      1      2      3     4     5     6     7     8      9   ...    \\\n",
       "0   3.0   36.0  116.0   63.0  60.0  70.0  91.0   9.0  60.0  109.0  ...     \n",
       "1  97.0  114.0   59.0  103.0  67.0  45.0  99.0  70.0  37.0   53.0  ...     \n",
       "2  23.0    2.0   83.0   63.0  21.0  66.0  29.0   4.0  48.0   58.0  ...     \n",
       "3  93.0  104.0   51.0   42.0  35.0  55.0  33.0  67.0  92.0    9.0  ...     \n",
       "4  81.0   16.0   24.0   50.0  87.0   2.0  96.0  52.0  76.0   12.0  ...     \n",
       "\n",
       "     11    12    13     14     15     16     17    18     19     20  \n",
       "0  66.0  29.0  20.0  107.0   54.0  106.0   95.0  98.0   91.0   88.0  \n",
       "1   3.0  13.0  40.0    7.0   55.0   22.0  102.0  48.0   91.0   65.0  \n",
       "2  61.0  70.0  63.0   66.0    1.0  103.0   72.0  96.0   82.0   65.0  \n",
       "3  19.0   9.0  77.0   55.0   74.0   76.0   14.0  16.0   36.0   82.0  \n",
       "4  31.0  98.0  90.0   67.0  119.0   99.0  117.0  10.0  115.0  118.0  \n",
       "\n",
       "[5 rows x 21 columns]"
      ]
     },
     "execution_count": 49,
     "metadata": {},
     "output_type": "execute_result"
    }
   ],
   "source": [
    "X_scaler.inverse_transform(X).head()"
   ]
  },
  {
   "cell_type": "code",
   "execution_count": 50,
   "metadata": {},
   "outputs": [
    {
     "data": {
      "text/plain": [
       "array([0.91222938, 0.06370843, 3.863808  , ..., 2.12677172, 3.50303496,\n",
       "       3.8080778 ])"
      ]
     },
     "execution_count": 50,
     "metadata": {},
     "output_type": "execute_result"
    }
   ],
   "source": [
    "y_scaler.inverse_transform(y)"
   ]
  },
  {
   "cell_type": "markdown",
   "metadata": {},
   "source": [
    "Some data insights:"
   ]
  },
  {
   "cell_type": "code",
   "execution_count": 97,
   "metadata": {},
   "outputs": [
    {
     "name": "stdout",
     "output_type": "stream",
     "text": [
      "1.3469049658032791e-40\n"
     ]
    },
    {
     "data": {
      "image/png": "[encoded data removed]",
      "text/plain": [
       "<Figure size 432x288 with 1 Axes>"
      ]
     },
     "metadata": {},
     "output_type": "display_data"
    }
   ],
   "source": [
    "p_ = plt.hist(toy_data.iloc[:,21], bins=50)\n",
    "print(min(toy_data.iloc[:,21]))"
   ]
  },
  {
   "cell_type": "markdown",
   "metadata": {},
   "source": [
    "Normalization seems to work ok."
   ]
  },
  {
   "cell_type": "markdown",
   "metadata": {},
   "source": [
    "Train test split:"
   ]
  },
  {
   "cell_type": "code",
   "execution_count": 8,
   "metadata": {},
   "outputs": [],
   "source": [
    "from sklearn.model_selection import train_test_split\n",
    "\n",
    "X_train, X_test, y_train, y_test = train_test_split(X, y, test_size=0.1, random_state=831191)"
   ]
  },
  {
   "cell_type": "markdown",
   "metadata": {},
   "source": [
    "Now construct the neural net and define the loss:"
   ]
  },
  {
   "cell_type": "code",
   "execution_count": 81,
   "metadata": {
    "scrolled": true
   },
   "outputs": [
    {
     "name": "stdout",
     "output_type": "stream",
     "text": [
      "(21, 48, 1, 4)\n",
      "(?, 48, 4)\n",
      "(48, 21, 4, 4)\n",
      "(?, 21, 4)\n",
      "(21, 48, 4, 4)\n",
      "(?, 48, 4)\n",
      "(?, 192)\n"
     ]
    }
   ],
   "source": [
    "nn_input = tf.placeholder(dtype=tf.float32, shape=[None, 21])\n",
    "targets = tf.placeholder(dtype=tf.float32, shape=[None, 1])\n",
    "# this one works fine for toy problem: ..._net(nn_input, 3, 2, tf.nn.tanh, ochota_adj_matrix..., 3, 4 also works very well\n",
    "nn_output = graph_nn.transfer_matrix_neural_net(nn_input, 3, 4, tf.nn.tanh, ochota_adj_matrix, verbose=True, share_weights_in_transfer_matrix=False, share_biases_in_transfer_matrix=False)"
   ]
  },
  {
   "cell_type": "markdown",
   "metadata": {},
   "source": [
    "__NOTE__: transfer_matrix_neural_net(traffic_signal_settings, 3, 4, tf.nn.tanh, ochota_adj_matrix) seems to work ok (+ Adam using 0.01 learning rate)"
   ]
  },
  {
   "cell_type": "markdown",
   "metadata": {},
   "source": [
    "Now define the optimizer:"
   ]
  },
  {
   "cell_type": "code",
   "execution_count": 82,
   "metadata": {},
   "outputs": [],
   "source": [
    "optimizer = tf.train.AdamOptimizer(0.005) #0.0035"
   ]
  },
  {
   "cell_type": "markdown",
   "metadata": {},
   "source": [
    "Define batch iterator: "
   ]
  },
  {
   "cell_type": "code",
   "execution_count": 83,
   "metadata": {},
   "outputs": [],
   "source": [
    "batch_iterator = data_prep.BatchIterator(X_train, y_train, 997)"
   ]
  },
  {
   "cell_type": "markdown",
   "metadata": {},
   "source": [
    "Now, train for several epochs:"
   ]
  },
  {
   "cell_type": "code",
   "execution_count": 84,
   "metadata": {},
   "outputs": [
    {
     "name": "stdout",
     "output_type": "stream",
     "text": [
      "Test loss: 1.067633, batch loss: 1.039141, model saved under trained_networks/test_model.ckpt\n",
      "Test loss: 0.964787, batch loss: 0.879653, model saved under trained_networks/test_model.ckpt\n",
      "Test loss: 0.956827, batch loss: 0.928736, model saved under trained_networks/test_model.ckpt\n",
      "Test loss: 0.912852, batch loss: 0.958222, model saved under trained_networks/test_model.ckpt\n",
      "Test loss: 0.859871, batch loss: 0.845640, model saved under trained_networks/test_model.ckpt\n",
      "Test loss: 0.789902, batch loss: 0.819555, model saved under trained_networks/test_model.ckpt\n",
      "Test loss: 0.726970, batch loss: 0.737484, model saved under trained_networks/test_model.ckpt\n",
      "Test loss: 0.682902, batch loss: 0.722054, model saved under trained_networks/test_model.ckpt\n",
      "Test loss: 0.641682, batch loss: 0.601089, model saved under trained_networks/test_model.ckpt\n",
      "Test loss: 0.611788, batch loss: 0.608177, model saved under trained_networks/test_model.ckpt\n",
      "Test loss: 0.591937, batch loss: 0.564992, model saved under trained_networks/test_model.ckpt\n",
      "Test loss: 0.554630, batch loss: 0.529918, model saved under trained_networks/test_model.ckpt\n",
      "Test loss: 0.514072, batch loss: 0.518257, model saved under trained_networks/test_model.ckpt\n",
      "Test loss: 0.493088, batch loss: 0.472626, model saved under trained_networks/test_model.ckpt\n",
      "Test loss: 0.483182, batch loss: 0.477598, model saved under trained_networks/test_model.ckpt\n",
      "Test loss: 0.485728, batch loss: 0.451697, model saved under trained_networks/test_model.ckpt\n",
      "Test loss: 0.466004, batch loss: 0.467617, model saved under trained_networks/test_model.ckpt\n",
      "Test loss: 0.461552, batch loss: 0.432160, model saved under trained_networks/test_model.ckpt\n",
      "Test loss: 0.453302, batch loss: 0.467465, model saved under trained_networks/test_model.ckpt\n",
      "Test loss: 0.443359, batch loss: 0.418620, model saved under trained_networks/test_model.ckpt\n",
      "Test loss: 0.423538, batch loss: 0.463725, model saved under trained_networks/test_model.ckpt\n",
      "Test loss: 0.403435, batch loss: 0.391455, model saved under trained_networks/test_model.ckpt\n",
      "Test loss: 0.394307, batch loss: 0.402939, model saved under trained_networks/test_model.ckpt\n",
      "Test loss: 0.382841, batch loss: 0.359455, model saved under trained_networks/test_model.ckpt\n",
      "Test loss: 0.370197, batch loss: 0.378624, model saved under trained_networks/test_model.ckpt\n",
      "Test loss: 0.357871, batch loss: 0.336599, model saved under trained_networks/test_model.ckpt\n",
      "Test loss: 0.339686, batch loss: 0.367912, model saved under trained_networks/test_model.ckpt\n",
      "Test loss: 0.326934, batch loss: 0.323508, model saved under trained_networks/test_model.ckpt\n",
      "Test loss: 0.310206, batch loss: 0.330306, model saved under trained_networks/test_model.ckpt\n",
      "Test loss: 0.287367, batch loss: 0.289247, model saved under trained_networks/test_model.ckpt\n",
      "Test loss: 0.267634, batch loss: 0.285320, model saved under trained_networks/test_model.ckpt\n",
      "Test loss: 0.256722, batch loss: 0.266524, model saved under trained_networks/test_model.ckpt\n",
      "Test loss: 0.254695, batch loss: 0.232117, model saved under trained_networks/test_model.ckpt\n",
      "Test loss: 0.246753, batch loss: 0.231116, model saved under trained_networks/test_model.ckpt\n",
      "Test loss: 0.238876, batch loss: 0.242343, model saved under trained_networks/test_model.ckpt\n",
      "Test loss: 0.235659, batch loss: 0.228360, model saved under trained_networks/test_model.ckpt\n",
      "Test loss: 0.232903, batch loss: 0.218066, model saved under trained_networks/test_model.ckpt\n",
      "Test loss: 0.226804, batch loss: 0.216714, model saved under trained_networks/test_model.ckpt\n",
      "Test loss: 0.219453, batch loss: 0.202361, model saved under trained_networks/test_model.ckpt\n",
      "Test loss: 0.214348, batch loss: 0.220220, model saved under trained_networks/test_model.ckpt\n",
      "Test loss: 0.212098, batch loss: 0.207253, model saved under trained_networks/test_model.ckpt\n",
      "Test loss: 0.202838, batch loss: 0.192574, model saved under trained_networks/test_model.ckpt\n",
      "Test loss: 0.197164, batch loss: 0.186950, model saved under trained_networks/test_model.ckpt\n",
      "Test loss: 0.189833, batch loss: 0.216164, model saved under trained_networks/test_model.ckpt\n",
      "Test loss: 0.183757, batch loss: 0.182645, model saved under trained_networks/test_model.ckpt\n",
      "Test loss: 0.177022, batch loss: 0.165572, model saved under trained_networks/test_model.ckpt\n",
      "Test loss: 0.168430, batch loss: 0.166598, model saved under trained_networks/test_model.ckpt\n",
      "Test loss: 0.160066, batch loss: 0.142260, model saved under trained_networks/test_model.ckpt\n",
      "Test loss: 0.157594, batch loss: 0.163787, model saved under trained_networks/test_model.ckpt\n",
      "Test loss: 0.149924, batch loss: 0.141967, model saved under trained_networks/test_model.ckpt\n",
      "Test loss: 0.146525, batch loss: 0.144959, model saved under trained_networks/test_model.ckpt\n",
      "Test loss: 0.140865, batch loss: 0.151316, model saved under trained_networks/test_model.ckpt\n",
      "Test loss: 0.141023, batch loss: 0.141377, model saved under trained_networks/test_model.ckpt\n",
      "Test loss: 0.140298, batch loss: 0.146422, model saved under trained_networks/test_model.ckpt\n",
      "Test loss: 0.132958, batch loss: 0.128452, model saved under trained_networks/test_model.ckpt\n",
      "Test loss: 0.134105, batch loss: 0.126502, model saved under trained_networks/test_model.ckpt\n",
      "Test loss: 0.124282, batch loss: 0.115149, model saved under trained_networks/test_model.ckpt\n",
      "Test loss: 0.120849, batch loss: 0.137077, model saved under trained_networks/test_model.ckpt\n",
      "Test loss: 0.117663, batch loss: 0.129000, model saved under trained_networks/test_model.ckpt\n",
      "Test loss: 0.116457, batch loss: 0.111953, model saved under trained_networks/test_model.ckpt\n",
      "Test loss: 0.114108, batch loss: 0.118854, model saved under trained_networks/test_model.ckpt\n",
      "Test loss: 0.113957, batch loss: 0.112257, model saved under trained_networks/test_model.ckpt\n",
      "Test loss: 0.113852, batch loss: 0.101226, model saved under trained_networks/test_model.ckpt\n",
      "Test loss: 0.107255, batch loss: 0.102263, model saved under trained_networks/test_model.ckpt\n",
      "Test loss: 0.105191, batch loss: 0.097070, model saved under trained_networks/test_model.ckpt\n",
      "Test loss: 0.106725, batch loss: 0.103935, model saved under trained_networks/test_model.ckpt\n",
      "Test loss: 0.104392, batch loss: 0.109931, model saved under trained_networks/test_model.ckpt\n",
      "Test loss: 0.105614, batch loss: 0.098351, model saved under trained_networks/test_model.ckpt\n",
      "Test loss: 0.106610, batch loss: 0.106400, model saved under trained_networks/test_model.ckpt\n",
      "Test loss: 0.101374, batch loss: 0.090301, model saved under trained_networks/test_model.ckpt\n",
      "Test loss: 0.100572, batch loss: 0.094094, model saved under trained_networks/test_model.ckpt\n",
      "Test loss: 0.100224, batch loss: 0.099427, model saved under trained_networks/test_model.ckpt\n",
      "Test loss: 0.096399, batch loss: 0.084930, model saved under trained_networks/test_model.ckpt\n",
      "Test loss: 0.089927, batch loss: 0.092985, model saved under trained_networks/test_model.ckpt\n",
      "Test loss: 0.087163, batch loss: 0.076397, model saved under trained_networks/test_model.ckpt\n",
      "Test loss: 0.076622, batch loss: 0.072392, model saved under trained_networks/test_model.ckpt\n",
      "Test loss: 0.067914, batch loss: 0.067514, model saved under trained_networks/test_model.ckpt\n",
      "Test loss: 0.064604, batch loss: 0.062615, model saved under trained_networks/test_model.ckpt\n",
      "Test loss: 0.065055, batch loss: 0.052614, model saved under trained_networks/test_model.ckpt\n",
      "Test loss: 0.063540, batch loss: 0.054195, model saved under trained_networks/test_model.ckpt\n",
      "Test loss: 0.060302, batch loss: 0.060124, model saved under trained_networks/test_model.ckpt\n",
      "Test loss: 0.059198, batch loss: 0.057572, model saved under trained_networks/test_model.ckpt\n",
      "Test loss: 0.058174, batch loss: 0.055874, model saved under trained_networks/test_model.ckpt\n",
      "Test loss: 0.058034, batch loss: 0.052880, model saved under trained_networks/test_model.ckpt\n",
      "Test loss: 0.057310, batch loss: 0.052277, model saved under trained_networks/test_model.ckpt\n",
      "Test loss: 0.056501, batch loss: 0.047755, model saved under trained_networks/test_model.ckpt\n",
      "Test loss: 0.055256, batch loss: 0.051898, model saved under trained_networks/test_model.ckpt\n",
      "Test loss: 0.054131, batch loss: 0.050693, model saved under trained_networks/test_model.ckpt\n"
     ]
    },
    {
     "name": "stdout",
     "output_type": "stream",
     "text": [
      "Test loss: 0.054166, batch loss: 0.049557, model saved under trained_networks/test_model.ckpt\n",
      "Test loss: 0.053101, batch loss: 0.046637, model saved under trained_networks/test_model.ckpt\n",
      "Test loss: 0.054325, batch loss: 0.048401, model saved under trained_networks/test_model.ckpt\n",
      "Test loss: 0.052912, batch loss: 0.046581, model saved under trained_networks/test_model.ckpt\n",
      "Test loss: 0.052074, batch loss: 0.052029, model saved under trained_networks/test_model.ckpt\n",
      "Test loss: 0.050244, batch loss: 0.053352, model saved under trained_networks/test_model.ckpt\n",
      "Test loss: 0.048675, batch loss: 0.045648, model saved under trained_networks/test_model.ckpt\n",
      "Test loss: 0.048689, batch loss: 0.047270, model saved under trained_networks/test_model.ckpt\n",
      "Test loss: 0.049935, batch loss: 0.047261, model saved under trained_networks/test_model.ckpt\n",
      "Test loss: 0.048019, batch loss: 0.049212, model saved under trained_networks/test_model.ckpt\n",
      "Test loss: 0.049722, batch loss: 0.042558, model saved under trained_networks/test_model.ckpt\n",
      "Test loss: 0.047673, batch loss: 0.036961, model saved under trained_networks/test_model.ckpt\n"
     ]
    }
   ],
   "source": [
    "test_and_batch_losses = train_eval.train_model(nn_output, nn_input, targets, optimizer, 100000, batch_iterator, X_test, y_test, \"trained_networks/test_model.ckpt\", 1000, verbose=True)"
   ]
  },
  {
   "cell_type": "markdown",
   "metadata": {},
   "source": [
    "Check relative accuracy on test set:"
   ]
  },
  {
   "cell_type": "code",
   "execution_count": 93,
   "metadata": {},
   "outputs": [
    {
     "name": "stdout",
     "output_type": "stream",
     "text": [
      "INFO:tensorflow:Restoring parameters from trained_networks/test_model.ckpt\n",
      "0.04767262460957649\n"
     ]
    }
   ],
   "source": [
    "model_avg_error, actual_vs_predicted = train_eval.evaluate_toy_model_on_a_dataset(\"trained_networks/test_model.ckpt\", nn_output,nn_input, X_test, y_test, y_scaler)\n",
    "print(model_avg_error)"
   ]
  },
  {
   "cell_type": "code",
   "execution_count": 94,
   "metadata": {},
   "outputs": [
    {
     "data": {
      "text/plain": [
       "Text(0.5,1,'Actual vs. predicted')"
      ]
     },
     "execution_count": 94,
     "metadata": {},
     "output_type": "execute_result"
    },
    {
     "data": {
      "image/png": "[encoded data removed]",
      "text/plain": [
       "<Figure size 432x288 with 1 Axes>"
      ]
     },
     "metadata": {},
     "output_type": "display_data"
    }
   ],
   "source": [
    "y_test_sorted = [x[0] for x in actual_vs_predicted]\n",
    "y_test_pred_sorted = [x[1] for x in actual_vs_predicted]\n",
    "plt.plot(y_test_pred_sorted, y_test_sorted)\n",
    "plt.plot(y_test_pred_sorted, y_test_pred_sorted)\n",
    "plt.title(\"Actual vs. predicted\")"
   ]
  },
  {
   "cell_type": "markdown",
   "metadata": {},
   "source": [
    "Now feedforward:"
   ]
  },
  {
   "cell_type": "code",
   "execution_count": 10,
   "metadata": {},
   "outputs": [],
   "source": [
    "nn_input = tf.placeholder(dtype=tf.float32, shape=[None, 21])\n",
    "targets = tf.placeholder(dtype=tf.float32, shape=[None, 1])\n",
    "\n",
    "# simple feedforward neural net works much worse\n",
    "nn_output = tf.layers.dense(nn_input, 40, activation=tf.nn.tanh)\n",
    "nn_output = tf.layers.dense(nn_output, 40, activation=tf.nn.tanh)\n",
    "nn_output = tf.layers.dense(nn_output, 40, activation=tf.nn.tanh)\n",
    "nn_output = tf.layers.dense(nn_output, 1)"
   ]
  },
  {
   "cell_type": "code",
   "execution_count": 11,
   "metadata": {},
   "outputs": [],
   "source": [
    "optimizer = tf.train.AdamOptimizer(0.005)"
   ]
  },
  {
   "cell_type": "code",
   "execution_count": 12,
   "metadata": {},
   "outputs": [],
   "source": [
    "batch_iterator = data_prep.BatchIterator(X_train, y_train, 997)"
   ]
  },
  {
   "cell_type": "code",
   "execution_count": 13,
   "metadata": {},
   "outputs": [
    {
     "name": "stdout",
     "output_type": "stream",
     "text": [
      "Test loss: 1.064946, batch loss: 1.182546, model saved under trained_networks/feedforward_test_toy_model.ckpt\n",
      "Test loss: 0.970659, batch loss: 0.890029, model saved under trained_networks/feedforward_test_toy_model.ckpt\n",
      "Test loss: 0.982254, batch loss: 0.916147, model saved under trained_networks/feedforward_test_toy_model.ckpt\n",
      "Test loss: 0.988402, batch loss: 0.997349, model saved under trained_networks/feedforward_test_toy_model.ckpt\n",
      "Test loss: 1.004339, batch loss: 0.910136, model saved under trained_networks/feedforward_test_toy_model.ckpt\n",
      "Test loss: 1.022107, batch loss: 0.915059, model saved under trained_networks/feedforward_test_toy_model.ckpt\n",
      "Test loss: 1.034172, batch loss: 0.830933, model saved under trained_networks/feedforward_test_toy_model.ckpt\n",
      "Test loss: 1.043808, batch loss: 0.893621, model saved under trained_networks/feedforward_test_toy_model.ckpt\n",
      "Test loss: 1.054036, batch loss: 0.902936, model saved under trained_networks/feedforward_test_toy_model.ckpt\n",
      "Test loss: 1.062351, batch loss: 0.820840, model saved under trained_networks/feedforward_test_toy_model.ckpt\n",
      "Test loss: 1.071037, batch loss: 0.837143, model saved under trained_networks/feedforward_test_toy_model.ckpt\n",
      "Test loss: 1.078170, batch loss: 0.871495, model saved under trained_networks/feedforward_test_toy_model.ckpt\n",
      "Test loss: 1.087214, batch loss: 0.878682, model saved under trained_networks/feedforward_test_toy_model.ckpt\n",
      "Test loss: 1.084818, batch loss: 0.851759, model saved under trained_networks/feedforward_test_toy_model.ckpt\n",
      "Test loss: 1.088039, batch loss: 0.832928, model saved under trained_networks/feedforward_test_toy_model.ckpt\n",
      "Test loss: 1.090018, batch loss: 0.868409, model saved under trained_networks/feedforward_test_toy_model.ckpt\n",
      "Test loss: 1.097291, batch loss: 0.811452, model saved under trained_networks/feedforward_test_toy_model.ckpt\n",
      "Test loss: 1.100163, batch loss: 0.859094, model saved under trained_networks/feedforward_test_toy_model.ckpt\n",
      "Test loss: 1.105632, batch loss: 0.941074, model saved under trained_networks/feedforward_test_toy_model.ckpt\n",
      "Test loss: 1.111626, batch loss: 0.781242, model saved under trained_networks/feedforward_test_toy_model.ckpt\n",
      "Test loss: 1.110250, batch loss: 0.813019, model saved under trained_networks/feedforward_test_toy_model.ckpt\n",
      "Test loss: 1.106746, batch loss: 0.757443, model saved under trained_networks/feedforward_test_toy_model.ckpt\n",
      "Test loss: 1.106021, batch loss: 0.844563, model saved under trained_networks/feedforward_test_toy_model.ckpt\n",
      "Test loss: 1.105960, batch loss: 0.734800, model saved under trained_networks/feedforward_test_toy_model.ckpt\n",
      "Test loss: 1.105993, batch loss: 0.795261, model saved under trained_networks/feedforward_test_toy_model.ckpt\n",
      "Test loss: 1.117324, batch loss: 0.815289, model saved under trained_networks/feedforward_test_toy_model.ckpt\n",
      "Test loss: 1.113124, batch loss: 0.927661, model saved under trained_networks/feedforward_test_toy_model.ckpt\n",
      "Test loss: 1.112258, batch loss: 0.840253, model saved under trained_networks/feedforward_test_toy_model.ckpt\n",
      "Test loss: 1.112022, batch loss: 0.799959, model saved under trained_networks/feedforward_test_toy_model.ckpt\n",
      "Test loss: 1.117045, batch loss: 0.843654, model saved under trained_networks/feedforward_test_toy_model.ckpt\n",
      "Test loss: 1.119651, batch loss: 0.785485, model saved under trained_networks/feedforward_test_toy_model.ckpt\n",
      "Test loss: 1.119628, batch loss: 0.831540, model saved under trained_networks/feedforward_test_toy_model.ckpt\n",
      "Test loss: 1.121644, batch loss: 0.845071, model saved under trained_networks/feedforward_test_toy_model.ckpt\n",
      "Test loss: 1.123445, batch loss: 0.798266, model saved under trained_networks/feedforward_test_toy_model.ckpt\n",
      "Test loss: 1.124829, batch loss: 0.847565, model saved under trained_networks/feedforward_test_toy_model.ckpt\n",
      "Test loss: 1.124019, batch loss: 0.821167, model saved under trained_networks/feedforward_test_toy_model.ckpt\n",
      "Test loss: 1.117163, batch loss: 0.776551, model saved under trained_networks/feedforward_test_toy_model.ckpt\n",
      "Test loss: 1.121956, batch loss: 0.886034, model saved under trained_networks/feedforward_test_toy_model.ckpt\n",
      "Test loss: 1.131940, batch loss: 0.856182, model saved under trained_networks/feedforward_test_toy_model.ckpt\n",
      "Test loss: 1.125502, batch loss: 0.806298, model saved under trained_networks/feedforward_test_toy_model.ckpt\n",
      "Test loss: 1.118806, batch loss: 0.770189, model saved under trained_networks/feedforward_test_toy_model.ckpt\n",
      "Test loss: 1.117854, batch loss: 0.796807, model saved under trained_networks/feedforward_test_toy_model.ckpt\n",
      "Test loss: 1.123356, batch loss: 0.809786, model saved under trained_networks/feedforward_test_toy_model.ckpt\n",
      "Test loss: 1.125538, batch loss: 0.864810, model saved under trained_networks/feedforward_test_toy_model.ckpt\n",
      "Test loss: 1.128141, batch loss: 0.775869, model saved under trained_networks/feedforward_test_toy_model.ckpt\n",
      "Test loss: 1.128878, batch loss: 0.744937, model saved under trained_networks/feedforward_test_toy_model.ckpt\n",
      "Test loss: 1.127889, batch loss: 0.787390, model saved under trained_networks/feedforward_test_toy_model.ckpt\n",
      "Test loss: 1.131373, batch loss: 0.797594, model saved under trained_networks/feedforward_test_toy_model.ckpt\n",
      "Test loss: 1.131438, batch loss: 0.854250, model saved under trained_networks/feedforward_test_toy_model.ckpt\n",
      "Test loss: 1.124779, batch loss: 0.825699, model saved under trained_networks/feedforward_test_toy_model.ckpt\n",
      "Test loss: 1.118877, batch loss: 0.773702, model saved under trained_networks/feedforward_test_toy_model.ckpt\n",
      "Test loss: 1.131778, batch loss: 0.798867, model saved under trained_networks/feedforward_test_toy_model.ckpt\n",
      "Test loss: 1.124669, batch loss: 0.779325, model saved under trained_networks/feedforward_test_toy_model.ckpt\n",
      "Test loss: 1.122981, batch loss: 0.754667, model saved under trained_networks/feedforward_test_toy_model.ckpt\n",
      "Test loss: 1.123019, batch loss: 0.806508, model saved under trained_networks/feedforward_test_toy_model.ckpt\n",
      "Test loss: 1.131222, batch loss: 0.824315, model saved under trained_networks/feedforward_test_toy_model.ckpt\n",
      "Test loss: 1.133291, batch loss: 0.768249, model saved under trained_networks/feedforward_test_toy_model.ckpt\n",
      "Test loss: 1.134717, batch loss: 0.867811, model saved under trained_networks/feedforward_test_toy_model.ckpt\n",
      "Test loss: 1.131188, batch loss: 0.874946, model saved under trained_networks/feedforward_test_toy_model.ckpt\n",
      "Test loss: 1.133641, batch loss: 0.762134, model saved under trained_networks/feedforward_test_toy_model.ckpt\n",
      "Test loss: 1.130883, batch loss: 0.807116, model saved under trained_networks/feedforward_test_toy_model.ckpt\n",
      "Test loss: 1.135126, batch loss: 0.862523, model saved under trained_networks/feedforward_test_toy_model.ckpt\n",
      "Test loss: 1.129059, batch loss: 0.767666, model saved under trained_networks/feedforward_test_toy_model.ckpt\n",
      "Test loss: 1.133997, batch loss: 0.790858, model saved under trained_networks/feedforward_test_toy_model.ckpt\n",
      "Test loss: 1.143459, batch loss: 0.856626, model saved under trained_networks/feedforward_test_toy_model.ckpt\n",
      "Test loss: 1.134904, batch loss: 0.922814, model saved under trained_networks/feedforward_test_toy_model.ckpt\n",
      "Test loss: 1.137017, batch loss: 0.812432, model saved under trained_networks/feedforward_test_toy_model.ckpt\n",
      "Test loss: 1.129078, batch loss: 0.879315, model saved under trained_networks/feedforward_test_toy_model.ckpt\n",
      "Test loss: 1.139340, batch loss: 0.872347, model saved under trained_networks/feedforward_test_toy_model.ckpt\n",
      "Test loss: 1.138809, batch loss: 0.758832, model saved under trained_networks/feedforward_test_toy_model.ckpt\n",
      "Test loss: 1.141567, batch loss: 0.780051, model saved under trained_networks/feedforward_test_toy_model.ckpt\n",
      "Test loss: 1.134187, batch loss: 0.796346, model saved under trained_networks/feedforward_test_toy_model.ckpt\n",
      "Test loss: 1.139828, batch loss: 0.828745, model saved under trained_networks/feedforward_test_toy_model.ckpt\n",
      "Test loss: 1.141244, batch loss: 0.808355, model saved under trained_networks/feedforward_test_toy_model.ckpt\n",
      "Test loss: 1.140565, batch loss: 0.842277, model saved under trained_networks/feedforward_test_toy_model.ckpt\n"
     ]
    },
    {
     "name": "stdout",
     "output_type": "stream",
     "text": [
      "Test loss: 1.133623, batch loss: 0.827674, model saved under trained_networks/feedforward_test_toy_model.ckpt\n",
      "Test loss: 1.134132, batch loss: 0.857179, model saved under trained_networks/feedforward_test_toy_model.ckpt\n",
      "Test loss: 1.139858, batch loss: 0.754172, model saved under trained_networks/feedforward_test_toy_model.ckpt\n",
      "Test loss: 1.137401, batch loss: 0.783244, model saved under trained_networks/feedforward_test_toy_model.ckpt\n",
      "Test loss: 1.133516, batch loss: 0.795784, model saved under trained_networks/feedforward_test_toy_model.ckpt\n",
      "Test loss: 1.129046, batch loss: 0.844079, model saved under trained_networks/feedforward_test_toy_model.ckpt\n",
      "Test loss: 1.137943, batch loss: 0.788234, model saved under trained_networks/feedforward_test_toy_model.ckpt\n",
      "Test loss: 1.132463, batch loss: 0.799652, model saved under trained_networks/feedforward_test_toy_model.ckpt\n",
      "Test loss: 1.134150, batch loss: 0.788027, model saved under trained_networks/feedforward_test_toy_model.ckpt\n",
      "Test loss: 1.127550, batch loss: 0.771374, model saved under trained_networks/feedforward_test_toy_model.ckpt\n",
      "Test loss: 1.131120, batch loss: 0.794178, model saved under trained_networks/feedforward_test_toy_model.ckpt\n",
      "Test loss: 1.125716, batch loss: 0.835164, model saved under trained_networks/feedforward_test_toy_model.ckpt\n",
      "Test loss: 1.135458, batch loss: 0.818854, model saved under trained_networks/feedforward_test_toy_model.ckpt\n",
      "Test loss: 1.129984, batch loss: 0.820785, model saved under trained_networks/feedforward_test_toy_model.ckpt\n",
      "Test loss: 1.134968, batch loss: 0.775322, model saved under trained_networks/feedforward_test_toy_model.ckpt\n",
      "Test loss: 1.135499, batch loss: 0.939532, model saved under trained_networks/feedforward_test_toy_model.ckpt\n",
      "Test loss: 1.134582, batch loss: 0.766005, model saved under trained_networks/feedforward_test_toy_model.ckpt\n",
      "Test loss: 1.131990, batch loss: 0.769587, model saved under trained_networks/feedforward_test_toy_model.ckpt\n",
      "Test loss: 1.129317, batch loss: 0.848979, model saved under trained_networks/feedforward_test_toy_model.ckpt\n",
      "Test loss: 1.138004, batch loss: 0.806080, model saved under trained_networks/feedforward_test_toy_model.ckpt\n",
      "Test loss: 1.136046, batch loss: 0.840232, model saved under trained_networks/feedforward_test_toy_model.ckpt\n",
      "Test loss: 1.133688, batch loss: 0.809002, model saved under trained_networks/feedforward_test_toy_model.ckpt\n",
      "Test loss: 1.129038, batch loss: 0.811315, model saved under trained_networks/feedforward_test_toy_model.ckpt\n",
      "Test loss: 1.128810, batch loss: 0.833017, model saved under trained_networks/feedforward_test_toy_model.ckpt\n",
      "Test loss: 1.128110, batch loss: 0.775260, model saved under trained_networks/feedforward_test_toy_model.ckpt\n"
     ]
    }
   ],
   "source": [
    "test_and_batch_losses = train_eval.train_model(nn_output, nn_input, targets, optimizer, 100000, batch_iterator, X_test, y_test, \"trained_networks/feedforward_test_toy_model.ckpt\", 1000, verbose=True)"
   ]
  },
  {
   "cell_type": "markdown",
   "metadata": {},
   "source": [
    "Another architecture (10 neurons):"
   ]
  },
  {
   "cell_type": "code",
   "execution_count": 14,
   "metadata": {},
   "outputs": [],
   "source": [
    "nn_input = tf.placeholder(dtype=tf.float32, shape=[None, 21])\n",
    "targets = tf.placeholder(dtype=tf.float32, shape=[None, 1])\n",
    "\n",
    "# simple feedforward neural net works much worse\n",
    "nn_output = tf.layers.dense(nn_input, 10, activation=tf.nn.tanh)\n",
    "nn_output = tf.layers.dense(nn_output, 10, activation=tf.nn.tanh)\n",
    "nn_output = tf.layers.dense(nn_output, 10, activation=tf.nn.tanh)\n",
    "nn_output = tf.layers.dense(nn_output, 1)"
   ]
  },
  {
   "cell_type": "code",
   "execution_count": 15,
   "metadata": {},
   "outputs": [],
   "source": [
    "optimizer = tf.train.AdamOptimizer(0.005)"
   ]
  },
  {
   "cell_type": "code",
   "execution_count": 16,
   "metadata": {},
   "outputs": [],
   "source": [
    "batch_iterator = data_prep.BatchIterator(X_train, y_train, 997)"
   ]
  },
  {
   "cell_type": "code",
   "execution_count": 17,
   "metadata": {},
   "outputs": [
    {
     "name": "stdout",
     "output_type": "stream",
     "text": [
      "Test loss: 1.032427, batch loss: 1.017765, model saved under trained_networks/feedforward_test_toy_model.ckpt\n",
      "Test loss: 0.972883, batch loss: 0.889755, model saved under trained_networks/feedforward_test_toy_model.ckpt\n",
      "Test loss: 0.972625, batch loss: 0.957167, model saved under trained_networks/feedforward_test_toy_model.ckpt\n",
      "Test loss: 0.970722, batch loss: 1.039392, model saved under trained_networks/feedforward_test_toy_model.ckpt\n",
      "Test loss: 0.971189, batch loss: 0.954167, model saved under trained_networks/feedforward_test_toy_model.ckpt\n",
      "Test loss: 0.972496, batch loss: 1.009697, model saved under trained_networks/feedforward_test_toy_model.ckpt\n",
      "Test loss: 0.975026, batch loss: 0.935508, model saved under trained_networks/feedforward_test_toy_model.ckpt\n",
      "Test loss: 0.974830, batch loss: 0.985035, model saved under trained_networks/feedforward_test_toy_model.ckpt\n",
      "Test loss: 0.974907, batch loss: 1.003249, model saved under trained_networks/feedforward_test_toy_model.ckpt\n",
      "Test loss: 0.974162, batch loss: 0.922619, model saved under trained_networks/feedforward_test_toy_model.ckpt\n",
      "Test loss: 0.975658, batch loss: 0.945534, model saved under trained_networks/feedforward_test_toy_model.ckpt\n",
      "Test loss: 0.975468, batch loss: 0.989016, model saved under trained_networks/feedforward_test_toy_model.ckpt\n",
      "Test loss: 0.980102, batch loss: 1.025859, model saved under trained_networks/feedforward_test_toy_model.ckpt\n",
      "Test loss: 0.977682, batch loss: 0.977776, model saved under trained_networks/feedforward_test_toy_model.ckpt\n",
      "Test loss: 0.976760, batch loss: 0.937245, model saved under trained_networks/feedforward_test_toy_model.ckpt\n",
      "Test loss: 0.977474, batch loss: 0.988682, model saved under trained_networks/feedforward_test_toy_model.ckpt\n",
      "Test loss: 0.980668, batch loss: 0.936080, model saved under trained_networks/feedforward_test_toy_model.ckpt\n",
      "Test loss: 0.977574, batch loss: 0.987676, model saved under trained_networks/feedforward_test_toy_model.ckpt\n",
      "Test loss: 0.978560, batch loss: 1.063507, model saved under trained_networks/feedforward_test_toy_model.ckpt\n",
      "Test loss: 0.979443, batch loss: 0.926425, model saved under trained_networks/feedforward_test_toy_model.ckpt\n",
      "Test loss: 0.979121, batch loss: 0.939379, model saved under trained_networks/feedforward_test_toy_model.ckpt\n",
      "Test loss: 0.978046, batch loss: 0.848168, model saved under trained_networks/feedforward_test_toy_model.ckpt\n",
      "Test loss: 0.978120, batch loss: 0.938607, model saved under trained_networks/feedforward_test_toy_model.ckpt\n",
      "Test loss: 0.979864, batch loss: 0.868263, model saved under trained_networks/feedforward_test_toy_model.ckpt\n",
      "Test loss: 0.979418, batch loss: 0.960616, model saved under trained_networks/feedforward_test_toy_model.ckpt\n",
      "Test loss: 0.980311, batch loss: 0.921641, model saved under trained_networks/feedforward_test_toy_model.ckpt\n",
      "Test loss: 0.981302, batch loss: 1.063322, model saved under trained_networks/feedforward_test_toy_model.ckpt\n",
      "Test loss: 0.980321, batch loss: 0.960853, model saved under trained_networks/feedforward_test_toy_model.ckpt\n",
      "Test loss: 0.980590, batch loss: 0.914624, model saved under trained_networks/feedforward_test_toy_model.ckpt\n",
      "Test loss: 0.984907, batch loss: 0.954261, model saved under trained_networks/feedforward_test_toy_model.ckpt\n",
      "Test loss: 0.982194, batch loss: 0.936882, model saved under trained_networks/feedforward_test_toy_model.ckpt\n",
      "Test loss: 0.982626, batch loss: 0.953663, model saved under trained_networks/feedforward_test_toy_model.ckpt\n",
      "Test loss: 0.982841, batch loss: 0.964685, model saved under trained_networks/feedforward_test_toy_model.ckpt\n",
      "Test loss: 0.982697, batch loss: 0.941061, model saved under trained_networks/feedforward_test_toy_model.ckpt\n",
      "Test loss: 0.981224, batch loss: 1.021940, model saved under trained_networks/feedforward_test_toy_model.ckpt\n",
      "Test loss: 0.981137, batch loss: 0.965424, model saved under trained_networks/feedforward_test_toy_model.ckpt\n",
      "Test loss: 0.982810, batch loss: 0.946068, model saved under trained_networks/feedforward_test_toy_model.ckpt\n",
      "Test loss: 0.981846, batch loss: 1.012035, model saved under trained_networks/feedforward_test_toy_model.ckpt\n",
      "Test loss: 0.983473, batch loss: 0.972447, model saved under trained_networks/feedforward_test_toy_model.ckpt\n",
      "Test loss: 0.984925, batch loss: 0.920580, model saved under trained_networks/feedforward_test_toy_model.ckpt\n",
      "Test loss: 0.983220, batch loss: 0.913645, model saved under trained_networks/feedforward_test_toy_model.ckpt\n",
      "Test loss: 0.984078, batch loss: 0.925645, model saved under trained_networks/feedforward_test_toy_model.ckpt\n",
      "Test loss: 0.988099, batch loss: 0.965691, model saved under trained_networks/feedforward_test_toy_model.ckpt\n",
      "Test loss: 0.984623, batch loss: 1.003424, model saved under trained_networks/feedforward_test_toy_model.ckpt\n",
      "Test loss: 0.985918, batch loss: 0.959082, model saved under trained_networks/feedforward_test_toy_model.ckpt\n",
      "Test loss: 0.984145, batch loss: 0.853685, model saved under trained_networks/feedforward_test_toy_model.ckpt\n",
      "Test loss: 0.984602, batch loss: 0.948321, model saved under trained_networks/feedforward_test_toy_model.ckpt\n",
      "Test loss: 0.983458, batch loss: 0.937334, model saved under trained_networks/feedforward_test_toy_model.ckpt\n",
      "Test loss: 0.982975, batch loss: 1.025155, model saved under trained_networks/feedforward_test_toy_model.ckpt\n",
      "Test loss: 0.985105, batch loss: 0.973204, model saved under trained_networks/feedforward_test_toy_model.ckpt\n",
      "Test loss: 0.985478, batch loss: 0.921248, model saved under trained_networks/feedforward_test_toy_model.ckpt\n",
      "Test loss: 0.987784, batch loss: 0.979381, model saved under trained_networks/feedforward_test_toy_model.ckpt\n",
      "Test loss: 0.988002, batch loss: 0.912250, model saved under trained_networks/feedforward_test_toy_model.ckpt\n",
      "Test loss: 0.986147, batch loss: 0.902458, model saved under trained_networks/feedforward_test_toy_model.ckpt\n",
      "Test loss: 0.986874, batch loss: 0.975357, model saved under trained_networks/feedforward_test_toy_model.ckpt\n",
      "Test loss: 0.990433, batch loss: 0.991960, model saved under trained_networks/feedforward_test_toy_model.ckpt\n",
      "Test loss: 0.986645, batch loss: 0.885174, model saved under trained_networks/feedforward_test_toy_model.ckpt\n",
      "Test loss: 0.987935, batch loss: 1.009096, model saved under trained_networks/feedforward_test_toy_model.ckpt\n",
      "Test loss: 0.985942, batch loss: 1.000254, model saved under trained_networks/feedforward_test_toy_model.ckpt\n",
      "Test loss: 0.986058, batch loss: 0.921019, model saved under trained_networks/feedforward_test_toy_model.ckpt\n",
      "Test loss: 0.984201, batch loss: 0.903772, model saved under trained_networks/feedforward_test_toy_model.ckpt\n",
      "Test loss: 0.984389, batch loss: 1.002740, model saved under trained_networks/feedforward_test_toy_model.ckpt\n",
      "Test loss: 0.985682, batch loss: 0.921588, model saved under trained_networks/feedforward_test_toy_model.ckpt\n",
      "Test loss: 0.987285, batch loss: 0.922326, model saved under trained_networks/feedforward_test_toy_model.ckpt\n",
      "Test loss: 0.988255, batch loss: 1.042678, model saved under trained_networks/feedforward_test_toy_model.ckpt\n",
      "Test loss: 0.988388, batch loss: 1.059443, model saved under trained_networks/feedforward_test_toy_model.ckpt\n",
      "Test loss: 0.986762, batch loss: 0.979224, model saved under trained_networks/feedforward_test_toy_model.ckpt\n",
      "Test loss: 0.987675, batch loss: 1.046296, model saved under trained_networks/feedforward_test_toy_model.ckpt\n",
      "Test loss: 0.991613, batch loss: 0.997063, model saved under trained_networks/feedforward_test_toy_model.ckpt\n",
      "Test loss: 0.987221, batch loss: 0.849367, model saved under trained_networks/feedforward_test_toy_model.ckpt\n",
      "Test loss: 0.987489, batch loss: 0.958723, model saved under trained_networks/feedforward_test_toy_model.ckpt\n",
      "Test loss: 0.986094, batch loss: 0.927919, model saved under trained_networks/feedforward_test_toy_model.ckpt\n",
      "Test loss: 0.985295, batch loss: 0.999825, model saved under trained_networks/feedforward_test_toy_model.ckpt\n",
      "Test loss: 0.983222, batch loss: 0.976581, model saved under trained_networks/feedforward_test_toy_model.ckpt\n",
      "Test loss: 0.983890, batch loss: 0.980742, model saved under trained_networks/feedforward_test_toy_model.ckpt\n"
     ]
    },
    {
     "name": "stdout",
     "output_type": "stream",
     "text": [
      "Test loss: 0.984786, batch loss: 0.949419, model saved under trained_networks/feedforward_test_toy_model.ckpt\n",
      "Test loss: 0.986537, batch loss: 0.986170, model saved under trained_networks/feedforward_test_toy_model.ckpt\n",
      "Test loss: 0.987977, batch loss: 0.976302, model saved under trained_networks/feedforward_test_toy_model.ckpt\n",
      "Test loss: 0.987983, batch loss: 0.917297, model saved under trained_networks/feedforward_test_toy_model.ckpt\n",
      "Test loss: 0.987729, batch loss: 0.968038, model saved under trained_networks/feedforward_test_toy_model.ckpt\n",
      "Test loss: 0.988776, batch loss: 1.004130, model saved under trained_networks/feedforward_test_toy_model.ckpt\n",
      "Test loss: 0.990980, batch loss: 0.879340, model saved under trained_networks/feedforward_test_toy_model.ckpt\n",
      "Test loss: 0.988016, batch loss: 0.996038, model saved under trained_networks/feedforward_test_toy_model.ckpt\n",
      "Test loss: 0.987533, batch loss: 0.865854, model saved under trained_networks/feedforward_test_toy_model.ckpt\n",
      "Test loss: 0.986587, batch loss: 0.934569, model saved under trained_networks/feedforward_test_toy_model.ckpt\n",
      "Test loss: 0.986235, batch loss: 1.020262, model saved under trained_networks/feedforward_test_toy_model.ckpt\n",
      "Test loss: 0.985707, batch loss: 1.041779, model saved under trained_networks/feedforward_test_toy_model.ckpt\n",
      "Test loss: 0.985867, batch loss: 0.981361, model saved under trained_networks/feedforward_test_toy_model.ckpt\n",
      "Test loss: 0.986769, batch loss: 0.985949, model saved under trained_networks/feedforward_test_toy_model.ckpt\n",
      "Test loss: 0.987928, batch loss: 0.932192, model saved under trained_networks/feedforward_test_toy_model.ckpt\n",
      "Test loss: 0.988938, batch loss: 0.962625, model saved under trained_networks/feedforward_test_toy_model.ckpt\n",
      "Test loss: 0.987894, batch loss: 0.867857, model saved under trained_networks/feedforward_test_toy_model.ckpt\n",
      "Test loss: 0.987705, batch loss: 0.942283, model saved under trained_networks/feedforward_test_toy_model.ckpt\n",
      "Test loss: 0.988386, batch loss: 1.018364, model saved under trained_networks/feedforward_test_toy_model.ckpt\n",
      "Test loss: 0.989930, batch loss: 0.962809, model saved under trained_networks/feedforward_test_toy_model.ckpt\n",
      "Test loss: 0.988025, batch loss: 1.003092, model saved under trained_networks/feedforward_test_toy_model.ckpt\n",
      "Test loss: 0.987389, batch loss: 0.920250, model saved under trained_networks/feedforward_test_toy_model.ckpt\n",
      "Test loss: 0.987549, batch loss: 0.976094, model saved under trained_networks/feedforward_test_toy_model.ckpt\n",
      "Test loss: 0.986074, batch loss: 1.012984, model saved under trained_networks/feedforward_test_toy_model.ckpt\n",
      "Test loss: 0.984574, batch loss: 0.925090, model saved under trained_networks/feedforward_test_toy_model.ckpt\n"
     ]
    }
   ],
   "source": [
    "test_and_batch_losses = train_eval.train_model(nn_output, nn_input, targets, optimizer, 100000, batch_iterator, X_test, y_test, \"trained_networks/feedforward_test_toy_model.ckpt\", 1000, verbose=True)"
   ]
  },
  {
   "cell_type": "markdown",
   "metadata": {},
   "source": [
    "Yet another architecture (100 neurons):"
   ]
  },
  {
   "cell_type": "code",
   "execution_count": 18,
   "metadata": {},
   "outputs": [],
   "source": [
    "nn_input = tf.placeholder(dtype=tf.float32, shape=[None, 21])\n",
    "targets = tf.placeholder(dtype=tf.float32, shape=[None, 1])\n",
    "\n",
    "# simple feedforward neural net works much worse\n",
    "nn_output = tf.layers.dense(nn_input, 100, activation=tf.nn.tanh)\n",
    "nn_output = tf.layers.dense(nn_output, 100, activation=tf.nn.tanh)\n",
    "nn_output = tf.layers.dense(nn_output, 100, activation=tf.nn.tanh)\n",
    "nn_output = tf.layers.dense(nn_output, 1)"
   ]
  },
  {
   "cell_type": "code",
   "execution_count": 19,
   "metadata": {},
   "outputs": [],
   "source": [
    "optimizer = tf.train.AdamOptimizer(0.005)"
   ]
  },
  {
   "cell_type": "code",
   "execution_count": 20,
   "metadata": {},
   "outputs": [],
   "source": [
    "batch_iterator = data_prep.BatchIterator(X_train, y_train, 997)"
   ]
  },
  {
   "cell_type": "code",
   "execution_count": 21,
   "metadata": {},
   "outputs": [
    {
     "name": "stdout",
     "output_type": "stream",
     "text": [
      "Test loss: 1.207266, batch loss: 1.091750, model saved under trained_networks/feedforward_test_toy_model.ckpt\n",
      "Test loss: 0.971868, batch loss: 0.876591, model saved under trained_networks/feedforward_test_toy_model.ckpt\n",
      "Test loss: 1.001098, batch loss: 0.871238, model saved under trained_networks/feedforward_test_toy_model.ckpt\n",
      "Test loss: 1.067722, batch loss: 0.877276, model saved under trained_networks/feedforward_test_toy_model.ckpt\n",
      "Test loss: 1.170542, batch loss: 0.765188, model saved under trained_networks/feedforward_test_toy_model.ckpt\n",
      "Test loss: 1.218843, batch loss: 0.715081, model saved under trained_networks/feedforward_test_toy_model.ckpt\n",
      "Test loss: 1.252600, batch loss: 0.660021, model saved under trained_networks/feedforward_test_toy_model.ckpt\n",
      "Test loss: 1.289201, batch loss: 0.644560, model saved under trained_networks/feedforward_test_toy_model.ckpt\n",
      "Test loss: 1.309556, batch loss: 0.639668, model saved under trained_networks/feedforward_test_toy_model.ckpt\n",
      "Test loss: 1.334329, batch loss: 0.566887, model saved under trained_networks/feedforward_test_toy_model.ckpt\n",
      "Test loss: 1.340723, batch loss: 0.581207, model saved under trained_networks/feedforward_test_toy_model.ckpt\n",
      "Test loss: 1.361842, batch loss: 0.577935, model saved under trained_networks/feedforward_test_toy_model.ckpt\n",
      "Test loss: 1.391058, batch loss: 0.609220, model saved under trained_networks/feedforward_test_toy_model.ckpt\n",
      "Test loss: 1.381730, batch loss: 0.568748, model saved under trained_networks/feedforward_test_toy_model.ckpt\n",
      "Test loss: 1.396409, batch loss: 0.535120, model saved under trained_networks/feedforward_test_toy_model.ckpt\n",
      "Test loss: 1.410203, batch loss: 0.501815, model saved under trained_networks/feedforward_test_toy_model.ckpt\n",
      "Test loss: 1.434459, batch loss: 0.518766, model saved under trained_networks/feedforward_test_toy_model.ckpt\n",
      "Test loss: 1.451543, batch loss: 0.491599, model saved under trained_networks/feedforward_test_toy_model.ckpt\n",
      "Test loss: 1.464908, batch loss: 0.573143, model saved under trained_networks/feedforward_test_toy_model.ckpt\n",
      "Test loss: 1.453427, batch loss: 0.498489, model saved under trained_networks/feedforward_test_toy_model.ckpt\n",
      "Test loss: 1.458521, batch loss: 0.530644, model saved under trained_networks/feedforward_test_toy_model.ckpt\n",
      "Test loss: 1.464955, batch loss: 0.495005, model saved under trained_networks/feedforward_test_toy_model.ckpt\n",
      "Test loss: 1.473201, batch loss: 0.524400, model saved under trained_networks/feedforward_test_toy_model.ckpt\n",
      "Test loss: 1.470792, batch loss: 0.451035, model saved under trained_networks/feedforward_test_toy_model.ckpt\n",
      "Test loss: 1.480589, batch loss: 0.518573, model saved under trained_networks/feedforward_test_toy_model.ckpt\n",
      "Test loss: 1.496091, batch loss: 0.476873, model saved under trained_networks/feedforward_test_toy_model.ckpt\n",
      "Test loss: 1.492224, batch loss: 0.522482, model saved under trained_networks/feedforward_test_toy_model.ckpt\n",
      "Test loss: 1.485052, batch loss: 0.493770, model saved under trained_networks/feedforward_test_toy_model.ckpt\n",
      "Test loss: 1.481498, batch loss: 0.472186, model saved under trained_networks/feedforward_test_toy_model.ckpt\n",
      "Test loss: 1.483992, batch loss: 0.485257, model saved under trained_networks/feedforward_test_toy_model.ckpt\n",
      "Test loss: 1.500469, batch loss: 0.440221, model saved under trained_networks/feedforward_test_toy_model.ckpt\n",
      "Test loss: 1.505538, batch loss: 0.430202, model saved under trained_networks/feedforward_test_toy_model.ckpt\n",
      "Test loss: 1.510604, batch loss: 0.502094, model saved under trained_networks/feedforward_test_toy_model.ckpt\n",
      "Test loss: 1.510551, batch loss: 0.468509, model saved under trained_networks/feedforward_test_toy_model.ckpt\n",
      "Test loss: 1.505189, batch loss: 0.482833, model saved under trained_networks/feedforward_test_toy_model.ckpt\n",
      "Test loss: 1.524024, batch loss: 0.463009, model saved under trained_networks/feedforward_test_toy_model.ckpt\n",
      "Test loss: 1.532037, batch loss: 0.452787, model saved under trained_networks/feedforward_test_toy_model.ckpt\n",
      "Test loss: 1.543211, batch loss: 0.482701, model saved under trained_networks/feedforward_test_toy_model.ckpt\n",
      "Test loss: 1.548280, batch loss: 0.479267, model saved under trained_networks/feedforward_test_toy_model.ckpt\n",
      "Test loss: 1.534089, batch loss: 0.471013, model saved under trained_networks/feedforward_test_toy_model.ckpt\n",
      "Test loss: 1.541276, batch loss: 0.436959, model saved under trained_networks/feedforward_test_toy_model.ckpt\n",
      "Test loss: 1.510632, batch loss: 0.471483, model saved under trained_networks/feedforward_test_toy_model.ckpt\n",
      "Test loss: 1.518134, batch loss: 0.422782, model saved under trained_networks/feedforward_test_toy_model.ckpt\n",
      "Test loss: 1.526663, batch loss: 0.450828, model saved under trained_networks/feedforward_test_toy_model.ckpt\n",
      "Test loss: 1.518546, batch loss: 0.432283, model saved under trained_networks/feedforward_test_toy_model.ckpt\n",
      "Test loss: 1.515750, batch loss: 0.433548, model saved under trained_networks/feedforward_test_toy_model.ckpt\n",
      "Test loss: 1.518901, batch loss: 0.409740, model saved under trained_networks/feedforward_test_toy_model.ckpt\n",
      "Test loss: 1.526916, batch loss: 0.431812, model saved under trained_networks/feedforward_test_toy_model.ckpt\n",
      "Test loss: 1.539784, batch loss: 0.471317, model saved under trained_networks/feedforward_test_toy_model.ckpt\n",
      "Test loss: 1.539551, batch loss: 0.447896, model saved under trained_networks/feedforward_test_toy_model.ckpt\n",
      "Test loss: 1.538059, batch loss: 0.433757, model saved under trained_networks/feedforward_test_toy_model.ckpt\n",
      "Test loss: 1.548528, batch loss: 0.432055, model saved under trained_networks/feedforward_test_toy_model.ckpt\n",
      "Test loss: 1.545806, batch loss: 0.417559, model saved under trained_networks/feedforward_test_toy_model.ckpt\n",
      "Test loss: 1.545784, batch loss: 0.434092, model saved under trained_networks/feedforward_test_toy_model.ckpt\n",
      "Test loss: 1.541683, batch loss: 0.455229, model saved under trained_networks/feedforward_test_toy_model.ckpt\n",
      "Test loss: 1.551233, batch loss: 0.446382, model saved under trained_networks/feedforward_test_toy_model.ckpt\n",
      "Test loss: 1.559016, batch loss: 0.420841, model saved under trained_networks/feedforward_test_toy_model.ckpt\n",
      "Test loss: 1.559445, batch loss: 0.427124, model saved under trained_networks/feedforward_test_toy_model.ckpt\n",
      "Test loss: 1.552574, batch loss: 0.432844, model saved under trained_networks/feedforward_test_toy_model.ckpt\n",
      "Test loss: 1.552964, batch loss: 0.412308, model saved under trained_networks/feedforward_test_toy_model.ckpt\n",
      "Test loss: 1.528997, batch loss: 0.438709, model saved under trained_networks/feedforward_test_toy_model.ckpt\n",
      "Test loss: 1.547825, batch loss: 0.435072, model saved under trained_networks/feedforward_test_toy_model.ckpt\n",
      "Test loss: 1.558981, batch loss: 0.451297, model saved under trained_networks/feedforward_test_toy_model.ckpt\n",
      "Test loss: 1.562820, batch loss: 0.403483, model saved under trained_networks/feedforward_test_toy_model.ckpt\n",
      "Test loss: 1.557088, batch loss: 0.459159, model saved under trained_networks/feedforward_test_toy_model.ckpt\n",
      "Test loss: 1.564563, batch loss: 0.451822, model saved under trained_networks/feedforward_test_toy_model.ckpt\n",
      "Test loss: 1.562218, batch loss: 0.420677, model saved under trained_networks/feedforward_test_toy_model.ckpt\n",
      "Test loss: 1.559766, batch loss: 0.422326, model saved under trained_networks/feedforward_test_toy_model.ckpt\n",
      "Test loss: 1.566849, batch loss: 0.435394, model saved under trained_networks/feedforward_test_toy_model.ckpt\n",
      "Test loss: 1.577670, batch loss: 0.375016, model saved under trained_networks/feedforward_test_toy_model.ckpt\n",
      "Test loss: 1.576830, batch loss: 0.425650, model saved under trained_networks/feedforward_test_toy_model.ckpt\n",
      "Test loss: 1.561664, batch loss: 0.398874, model saved under trained_networks/feedforward_test_toy_model.ckpt\n",
      "Test loss: 1.565150, batch loss: 0.441474, model saved under trained_networks/feedforward_test_toy_model.ckpt\n",
      "Test loss: 1.553865, batch loss: 0.423651, model saved under trained_networks/feedforward_test_toy_model.ckpt\n",
      "Test loss: 1.582974, batch loss: 0.401076, model saved under trained_networks/feedforward_test_toy_model.ckpt\n"
     ]
    },
    {
     "name": "stdout",
     "output_type": "stream",
     "text": [
      "Test loss: 1.587703, batch loss: 0.437889, model saved under trained_networks/feedforward_test_toy_model.ckpt\n",
      "Test loss: 1.596391, batch loss: 0.408608, model saved under trained_networks/feedforward_test_toy_model.ckpt\n",
      "Test loss: 1.567925, batch loss: 0.303264, model saved under trained_networks/feedforward_test_toy_model.ckpt\n",
      "Test loss: 1.579770, batch loss: 0.418447, model saved under trained_networks/feedforward_test_toy_model.ckpt\n",
      "Test loss: 1.565085, batch loss: 0.402173, model saved under trained_networks/feedforward_test_toy_model.ckpt\n",
      "Test loss: 1.577599, batch loss: 0.409263, model saved under trained_networks/feedforward_test_toy_model.ckpt\n",
      "Test loss: 1.579799, batch loss: 0.399627, model saved under trained_networks/feedforward_test_toy_model.ckpt\n",
      "Test loss: 1.586121, batch loss: 0.415109, model saved under trained_networks/feedforward_test_toy_model.ckpt\n",
      "Test loss: 1.586944, batch loss: 0.389376, model saved under trained_networks/feedforward_test_toy_model.ckpt\n",
      "Test loss: 1.576625, batch loss: 0.403691, model saved under trained_networks/feedforward_test_toy_model.ckpt\n",
      "Test loss: 1.569170, batch loss: 0.433566, model saved under trained_networks/feedforward_test_toy_model.ckpt\n",
      "Test loss: 1.563944, batch loss: 0.418062, model saved under trained_networks/feedforward_test_toy_model.ckpt\n",
      "Test loss: 1.574876, batch loss: 0.397812, model saved under trained_networks/feedforward_test_toy_model.ckpt\n",
      "Test loss: 1.574922, batch loss: 0.400501, model saved under trained_networks/feedforward_test_toy_model.ckpt\n",
      "Test loss: 1.588524, batch loss: 0.412019, model saved under trained_networks/feedforward_test_toy_model.ckpt\n",
      "Test loss: 1.578298, batch loss: 0.755608, model saved under trained_networks/feedforward_test_toy_model.ckpt\n",
      "Test loss: 1.578291, batch loss: 0.384961, model saved under trained_networks/feedforward_test_toy_model.ckpt\n",
      "Test loss: 1.561024, batch loss: 0.386083, model saved under trained_networks/feedforward_test_toy_model.ckpt\n",
      "Test loss: 1.578802, batch loss: 0.401787, model saved under trained_networks/feedforward_test_toy_model.ckpt\n",
      "Test loss: 1.576101, batch loss: 0.384253, model saved under trained_networks/feedforward_test_toy_model.ckpt\n",
      "Test loss: 1.583933, batch loss: 0.407178, model saved under trained_networks/feedforward_test_toy_model.ckpt\n",
      "Test loss: 1.591326, batch loss: 0.394092, model saved under trained_networks/feedforward_test_toy_model.ckpt\n",
      "Test loss: 1.577104, batch loss: 0.371201, model saved under trained_networks/feedforward_test_toy_model.ckpt\n",
      "Test loss: 1.560122, batch loss: 0.428497, model saved under trained_networks/feedforward_test_toy_model.ckpt\n",
      "Test loss: 1.562909, batch loss: 0.382212, model saved under trained_networks/feedforward_test_toy_model.ckpt\n"
     ]
    }
   ],
   "source": [
    "test_and_batch_losses = train_eval.train_model(nn_output, nn_input, targets, optimizer, 100000, batch_iterator, X_test, y_test, \"trained_networks/feedforward_test_toy_model.ckpt\", 1000, verbose=True)"
   ]
  },
  {
   "cell_type": "markdown",
   "metadata": {},
   "source": [
    "### Random graph topology experiments"
   ]
  },
  {
   "cell_type": "code",
   "execution_count": 22,
   "metadata": {},
   "outputs": [],
   "source": [
    "random_topologies_results = np.genfromtxt(\"toy_random_topologies_0.csv\",delimiter=\",\")"
   ]
  },
  {
   "cell_type": "code",
   "execution_count": 24,
   "metadata": {},
   "outputs": [
    {
     "data": {
      "text/html": [
       "<div>\n",
       "<style scoped>\n",
       "    .dataframe tbody tr th:only-of-type {\n",
       "        vertical-align: middle;\n",
       "    }\n",
       "\n",
       "    .dataframe tbody tr th {\n",
       "        vertical-align: top;\n",
       "    }\n",
       "\n",
       "    .dataframe thead th {\n",
       "        text-align: right;\n",
       "    }\n",
       "</style>\n",
       "<table border=\"1\" class=\"dataframe\">\n",
       "  <thead>\n",
       "    <tr style=\"text-align: right;\">\n",
       "      <th></th>\n",
       "      <th>MeanSquaredError</th>\n",
       "    </tr>\n",
       "    <tr>\n",
       "      <th>SymmetricDiff</th>\n",
       "      <th></th>\n",
       "    </tr>\n",
       "  </thead>\n",
       "  <tbody>\n",
       "    <tr>\n",
       "      <th>0.0</th>\n",
       "      <td>0.070856</td>\n",
       "    </tr>\n",
       "    <tr>\n",
       "      <th>3.0</th>\n",
       "      <td>0.110634</td>\n",
       "    </tr>\n",
       "    <tr>\n",
       "      <th>6.0</th>\n",
       "      <td>0.150053</td>\n",
       "    </tr>\n",
       "    <tr>\n",
       "      <th>9.0</th>\n",
       "      <td>0.187124</td>\n",
       "    </tr>\n",
       "    <tr>\n",
       "      <th>12.0</th>\n",
       "      <td>0.212823</td>\n",
       "    </tr>\n",
       "    <tr>\n",
       "      <th>15.0</th>\n",
       "      <td>0.236301</td>\n",
       "    </tr>\n",
       "    <tr>\n",
       "      <th>18.0</th>\n",
       "      <td>0.287529</td>\n",
       "    </tr>\n",
       "    <tr>\n",
       "      <th>21.0</th>\n",
       "      <td>0.292137</td>\n",
       "    </tr>\n",
       "    <tr>\n",
       "      <th>24.0</th>\n",
       "      <td>0.323680</td>\n",
       "    </tr>\n",
       "    <tr>\n",
       "      <th>27.0</th>\n",
       "      <td>0.396729</td>\n",
       "    </tr>\n",
       "    <tr>\n",
       "      <th>30.0</th>\n",
       "      <td>0.470956</td>\n",
       "    </tr>\n",
       "    <tr>\n",
       "      <th>33.0</th>\n",
       "      <td>0.488061</td>\n",
       "    </tr>\n",
       "    <tr>\n",
       "      <th>36.0</th>\n",
       "      <td>0.522173</td>\n",
       "    </tr>\n",
       "    <tr>\n",
       "      <th>39.0</th>\n",
       "      <td>0.521028</td>\n",
       "    </tr>\n",
       "    <tr>\n",
       "      <th>42.0</th>\n",
       "      <td>0.522007</td>\n",
       "    </tr>\n",
       "  </tbody>\n",
       "</table>\n",
       "</div>"
      ],
      "text/plain": [
       "               MeanSquaredError\n",
       "SymmetricDiff                  \n",
       "0.0                    0.070856\n",
       "3.0                    0.110634\n",
       "6.0                    0.150053\n",
       "9.0                    0.187124\n",
       "12.0                   0.212823\n",
       "15.0                   0.236301\n",
       "18.0                   0.287529\n",
       "21.0                   0.292137\n",
       "24.0                   0.323680\n",
       "27.0                   0.396729\n",
       "30.0                   0.470956\n",
       "33.0                   0.488061\n",
       "36.0                   0.522173\n",
       "39.0                   0.521028\n",
       "42.0                   0.522007"
      ]
     },
     "execution_count": 24,
     "metadata": {},
     "output_type": "execute_result"
    }
   ],
   "source": [
    "rand_top_data_frame = pd.DataFrame(random_topologies_results, columns=[\"SymmetricDiff\",\"MeanSquaredError\"])\n",
    "medians = rand_top_data_frame.groupby(\"SymmetricDiff\").median()\n",
    "medians"
   ]
  },
  {
   "cell_type": "code",
   "execution_count": 26,
   "metadata": {},
   "outputs": [
    {
     "data": {
      "image/png": "[encoded data removed]",
      "text/plain": [
       "<Figure size 432x288 with 1 Axes>"
      ]
     },
     "metadata": {},
     "output_type": "display_data"
    }
   ],
   "source": [
    "plt.plot(rand_top_data_frame.iloc[:,0] * 2,rand_top_data_frame.iloc[:,1],\"bo\", alpha=0.1)\n",
    "plt.plot(medians.index.values * 2,medians.iloc[:,0], \"ro\")\n",
    "plt.xlabel(\"Symmetric diff\")\n",
    "plt.ylabel(\"Mean squared error\")\n",
    "plt.show()"
   ]
  },
  {
   "cell_type": "markdown",
   "metadata": {},
   "source": [
    "### Permuted topologies experiments summary"
   ]
  },
  {
   "cell_type": "code",
   "execution_count": 30,
   "metadata": {},
   "outputs": [],
   "source": [
    "permuted_topologies_results = np.genfromtxt(\"toy_permuted_topologies_0.csv\",delimiter=\",\")"
   ]
  },
  {
   "cell_type": "code",
   "execution_count": 31,
   "metadata": {},
   "outputs": [
    {
     "data": {
      "text/html": [
       "<div>\n",
       "<style scoped>\n",
       "    .dataframe tbody tr th:only-of-type {\n",
       "        vertical-align: middle;\n",
       "    }\n",
       "\n",
       "    .dataframe tbody tr th {\n",
       "        vertical-align: top;\n",
       "    }\n",
       "\n",
       "    .dataframe thead th {\n",
       "        text-align: right;\n",
       "    }\n",
       "</style>\n",
       "<table border=\"1\" class=\"dataframe\">\n",
       "  <thead>\n",
       "    <tr style=\"text-align: right;\">\n",
       "      <th></th>\n",
       "      <th>MeanSquaredError</th>\n",
       "    </tr>\n",
       "    <tr>\n",
       "      <th>NoOfTranspositions</th>\n",
       "      <th></th>\n",
       "    </tr>\n",
       "  </thead>\n",
       "  <tbody>\n",
       "    <tr>\n",
       "      <th>0.0</th>\n",
       "      <td>0.075488</td>\n",
       "    </tr>\n",
       "    <tr>\n",
       "      <th>1.0</th>\n",
       "      <td>0.154979</td>\n",
       "    </tr>\n",
       "    <tr>\n",
       "      <th>2.0</th>\n",
       "      <td>0.193782</td>\n",
       "    </tr>\n",
       "    <tr>\n",
       "      <th>3.0</th>\n",
       "      <td>0.320528</td>\n",
       "    </tr>\n",
       "    <tr>\n",
       "      <th>4.0</th>\n",
       "      <td>0.372339</td>\n",
       "    </tr>\n",
       "    <tr>\n",
       "      <th>5.0</th>\n",
       "      <td>0.387373</td>\n",
       "    </tr>\n",
       "    <tr>\n",
       "      <th>6.0</th>\n",
       "      <td>0.369838</td>\n",
       "    </tr>\n",
       "    <tr>\n",
       "      <th>7.0</th>\n",
       "      <td>0.497559</td>\n",
       "    </tr>\n",
       "    <tr>\n",
       "      <th>8.0</th>\n",
       "      <td>0.485433</td>\n",
       "    </tr>\n",
       "    <tr>\n",
       "      <th>9.0</th>\n",
       "      <td>0.509116</td>\n",
       "    </tr>\n",
       "    <tr>\n",
       "      <th>10.0</th>\n",
       "      <td>0.515726</td>\n",
       "    </tr>\n",
       "    <tr>\n",
       "      <th>11.0</th>\n",
       "      <td>0.440209</td>\n",
       "    </tr>\n",
       "    <tr>\n",
       "      <th>12.0</th>\n",
       "      <td>0.576015</td>\n",
       "    </tr>\n",
       "    <tr>\n",
       "      <th>13.0</th>\n",
       "      <td>0.497248</td>\n",
       "    </tr>\n",
       "    <tr>\n",
       "      <th>14.0</th>\n",
       "      <td>0.513116</td>\n",
       "    </tr>\n",
       "    <tr>\n",
       "      <th>15.0</th>\n",
       "      <td>0.520411</td>\n",
       "    </tr>\n",
       "    <tr>\n",
       "      <th>16.0</th>\n",
       "      <td>0.542038</td>\n",
       "    </tr>\n",
       "    <tr>\n",
       "      <th>17.0</th>\n",
       "      <td>0.552024</td>\n",
       "    </tr>\n",
       "    <tr>\n",
       "      <th>18.0</th>\n",
       "      <td>0.518714</td>\n",
       "    </tr>\n",
       "    <tr>\n",
       "      <th>19.0</th>\n",
       "      <td>0.575705</td>\n",
       "    </tr>\n",
       "    <tr>\n",
       "      <th>20.0</th>\n",
       "      <td>0.553601</td>\n",
       "    </tr>\n",
       "    <tr>\n",
       "      <th>21.0</th>\n",
       "      <td>0.509434</td>\n",
       "    </tr>\n",
       "  </tbody>\n",
       "</table>\n",
       "</div>"
      ],
      "text/plain": [
       "                    MeanSquaredError\n",
       "NoOfTranspositions                  \n",
       "0.0                         0.075488\n",
       "1.0                         0.154979\n",
       "2.0                         0.193782\n",
       "3.0                         0.320528\n",
       "4.0                         0.372339\n",
       "5.0                         0.387373\n",
       "6.0                         0.369838\n",
       "7.0                         0.497559\n",
       "8.0                         0.485433\n",
       "9.0                         0.509116\n",
       "10.0                        0.515726\n",
       "11.0                        0.440209\n",
       "12.0                        0.576015\n",
       "13.0                        0.497248\n",
       "14.0                        0.513116\n",
       "15.0                        0.520411\n",
       "16.0                        0.542038\n",
       "17.0                        0.552024\n",
       "18.0                        0.518714\n",
       "19.0                        0.575705\n",
       "20.0                        0.553601\n",
       "21.0                        0.509434"
      ]
     },
     "execution_count": 31,
     "metadata": {},
     "output_type": "execute_result"
    }
   ],
   "source": [
    "perm_top_data_frame = pd.DataFrame(permuted_topologies_results, columns=[\"NoOfTranspositions\",\"MeanSquaredError\"])\n",
    "medians = perm_top_data_frame.groupby(\"NoOfTranspositions\").median()\n",
    "medians"
   ]
  },
  {
   "cell_type": "code",
   "execution_count": 35,
   "metadata": {},
   "outputs": [
    {
     "data": {
      "image/png": "[encoded data removed]",
      "text/plain": [
       "<Figure size 432x288 with 1 Axes>"
      ]
     },
     "metadata": {},
     "output_type": "display_data"
    }
   ],
   "source": [
    "plt.plot(perm_top_data_frame.iloc[:,0],perm_top_data_frame.iloc[:,1],\"bo\",alpha=0.1)\n",
    "plt.plot(medians.index.values,medians.iloc[:,0], \"ro\")\n",
    "plt.xlabel(\"Approx. no. of transpositions\") # <-- not divided by two here\n",
    "plt.ylabel(\"Mean squared error\")\n",
    "plt.show()"
   ]
  }
 ],
 "metadata": {
  "kernelspec": {
   "display_name": "Python [conda env:aind]",
   "language": "python",
   "name": "conda-env-aind-py"
  },
  "language_info": {
   "codemirror_mode": {
    "name": "ipython",
    "version": 3
   },
   "file_extension": ".py",
   "mimetype": "text/x-python",
   "name": "python",
   "nbconvert_exporter": "python",
   "pygments_lexer": "ipython3",
   "version": "3.5.4"
  }
 },
 "nbformat": 4,
 "nbformat_minor": 2
}
